{
 "cells": [
  {
   "cell_type": "code",
   "execution_count": 7,
   "id": "beed4aeb-763c-47ab-971c-44ccfd5e3b68",
   "metadata": {},
   "outputs": [
    {
     "name": "stdout",
     "output_type": "stream",
     "text": [
      "Using mps\n",
      "Parameters size: total = 151.28M, trainable = 151.28M\n",
      "\n",
      " Epoch: 1 / 20\n"
     ]
    },
    {
     "name": "stderr",
     "output_type": "stream",
     "text": [
      "  0%|                                           | 1/978 [00:01<31:03,  1.91s/it]"
     ]
    },
    {
     "name": "stdout",
     "output_type": "stream",
     "text": [
      "Step 0: Loss = 0.6297\n"
     ]
    },
    {
     "name": "stderr",
     "output_type": "stream",
     "text": [
      " 10%|████▏                                    | 101/978 [02:11<18:40,  1.28s/it]"
     ]
    },
    {
     "name": "stdout",
     "output_type": "stream",
     "text": [
      "Step 100: Loss = 2.6728\n"
     ]
    },
    {
     "name": "stderr",
     "output_type": "stream",
     "text": [
      " 21%|████████▍                                | 201/978 [04:23<16:46,  1.29s/it]"
     ]
    },
    {
     "name": "stdout",
     "output_type": "stream",
     "text": [
      "Step 200: Loss = 2.3471\n"
     ]
    },
    {
     "name": "stderr",
     "output_type": "stream",
     "text": [
      " 31%|████████████▌                            | 301/978 [06:42<15:53,  1.41s/it]"
     ]
    },
    {
     "name": "stdout",
     "output_type": "stream",
     "text": [
      "Step 300: Loss = 2.0626\n"
     ]
    },
    {
     "name": "stderr",
     "output_type": "stream",
     "text": [
      " 41%|████████████████▊                        | 401/978 [08:59<12:48,  1.33s/it]"
     ]
    },
    {
     "name": "stdout",
     "output_type": "stream",
     "text": [
      "Step 400: Loss = 2.3777\n"
     ]
    },
    {
     "name": "stderr",
     "output_type": "stream",
     "text": [
      " 51%|█████████████████████                    | 501/978 [11:13<10:43,  1.35s/it]"
     ]
    },
    {
     "name": "stdout",
     "output_type": "stream",
     "text": [
      "Step 500: Loss = 2.4456\n"
     ]
    },
    {
     "name": "stderr",
     "output_type": "stream",
     "text": [
      " 61%|█████████████████████████▏               | 601/978 [13:26<08:17,  1.32s/it]"
     ]
    },
    {
     "name": "stdout",
     "output_type": "stream",
     "text": [
      "Step 600: Loss = 2.4357\n"
     ]
    },
    {
     "name": "stderr",
     "output_type": "stream",
     "text": [
      " 72%|█████████████████████████████▍           | 701/978 [15:39<06:16,  1.36s/it]"
     ]
    },
    {
     "name": "stdout",
     "output_type": "stream",
     "text": [
      "Step 700: Loss = 2.1280\n"
     ]
    },
    {
     "name": "stderr",
     "output_type": "stream",
     "text": [
      " 82%|█████████████████████████████████▌       | 801/978 [17:52<03:58,  1.35s/it]"
     ]
    },
    {
     "name": "stdout",
     "output_type": "stream",
     "text": [
      "Step 800: Loss = 2.1174\n"
     ]
    },
    {
     "name": "stderr",
     "output_type": "stream",
     "text": [
      " 92%|█████████████████████████████████████▊   | 901/978 [20:04<01:41,  1.32s/it]"
     ]
    },
    {
     "name": "stdout",
     "output_type": "stream",
     "text": [
      "Step 900: Loss = 1.7830\n"
     ]
    },
    {
     "name": "stderr",
     "output_type": "stream",
     "text": [
      "100%|█████████████████████████████████████████| 978/978 [21:47<00:00,  1.34s/it]\n"
     ]
    },
    {
     "name": "stdout",
     "output_type": "stream",
     "text": [
      "Full-gallery R@1: 0.0028, R@5: 0.0176, R@10: 0.0304\n",
      "Saved Best (full) checkpoint: epoch 1, full-gallery R@1 = 0.0028\n",
      "Epoch 1: avg_loss = 2.2525; in-batch Top@1 = 0.3326, lr = 4.97e-05\n",
      "\n",
      " Epoch: 2 / 20\n"
     ]
    },
    {
     "name": "stderr",
     "output_type": "stream",
     "text": [
      "  0%|                                           | 1/978 [00:01<31:23,  1.93s/it]"
     ]
    },
    {
     "name": "stdout",
     "output_type": "stream",
     "text": [
      "Step 0: Loss = 2.0262\n"
     ]
    },
    {
     "name": "stderr",
     "output_type": "stream",
     "text": [
      " 10%|████▏                                    | 101/978 [02:18<18:55,  1.30s/it]"
     ]
    },
    {
     "name": "stdout",
     "output_type": "stream",
     "text": [
      "Step 100: Loss = 1.3924\n"
     ]
    },
    {
     "name": "stderr",
     "output_type": "stream",
     "text": [
      " 21%|████████▍                                | 201/978 [04:25<17:36,  1.36s/it]"
     ]
    },
    {
     "name": "stdout",
     "output_type": "stream",
     "text": [
      "Step 200: Loss = 2.0113\n"
     ]
    },
    {
     "name": "stderr",
     "output_type": "stream",
     "text": [
      " 31%|████████████▌                            | 301/978 [06:45<14:35,  1.29s/it]"
     ]
    },
    {
     "name": "stdout",
     "output_type": "stream",
     "text": [
      "Step 300: Loss = 1.6742\n"
     ]
    },
    {
     "name": "stderr",
     "output_type": "stream",
     "text": [
      " 41%|████████████████▊                        | 401/978 [09:02<13:56,  1.45s/it]"
     ]
    },
    {
     "name": "stdout",
     "output_type": "stream",
     "text": [
      "Step 400: Loss = 1.7344\n"
     ]
    },
    {
     "name": "stderr",
     "output_type": "stream",
     "text": [
      " 51%|█████████████████████                    | 501/978 [11:17<10:49,  1.36s/it]"
     ]
    },
    {
     "name": "stdout",
     "output_type": "stream",
     "text": [
      "Step 500: Loss = 1.9156\n"
     ]
    },
    {
     "name": "stderr",
     "output_type": "stream",
     "text": [
      " 61%|█████████████████████████▏               | 601/978 [13:29<07:56,  1.26s/it]"
     ]
    },
    {
     "name": "stdout",
     "output_type": "stream",
     "text": [
      "Step 600: Loss = 1.5792\n"
     ]
    },
    {
     "name": "stderr",
     "output_type": "stream",
     "text": [
      " 72%|█████████████████████████████▍           | 701/978 [15:47<06:05,  1.32s/it]"
     ]
    },
    {
     "name": "stdout",
     "output_type": "stream",
     "text": [
      "Step 700: Loss = 1.2858\n"
     ]
    },
    {
     "name": "stderr",
     "output_type": "stream",
     "text": [
      " 82%|█████████████████████████████████▌       | 801/978 [17:57<04:03,  1.38s/it]"
     ]
    },
    {
     "name": "stdout",
     "output_type": "stream",
     "text": [
      "Step 800: Loss = 1.6545\n"
     ]
    },
    {
     "name": "stderr",
     "output_type": "stream",
     "text": [
      " 92%|█████████████████████████████████████▊   | 901/978 [20:05<01:40,  1.30s/it]"
     ]
    },
    {
     "name": "stdout",
     "output_type": "stream",
     "text": [
      "Step 900: Loss = 1.6764\n"
     ]
    },
    {
     "name": "stderr",
     "output_type": "stream",
     "text": [
      "100%|█████████████████████████████████████████| 978/978 [21:44<00:00,  1.33s/it]\n"
     ]
    },
    {
     "name": "stdout",
     "output_type": "stream",
     "text": [
      "Full-gallery R@1: 0.0066, R@5: 0.0281, R@10: 0.0506\n",
      "Saved Best (full) checkpoint: epoch 2, full-gallery R@1 = 0.0066\n",
      "Epoch 2: avg_loss = 1.6884; in-batch Top@1 = 0.3753, lr = 4.88e-05\n",
      "\n",
      " Epoch: 3 / 20\n"
     ]
    },
    {
     "name": "stderr",
     "output_type": "stream",
     "text": [
      "  0%|                                           | 1/978 [00:01<24:55,  1.53s/it]"
     ]
    },
    {
     "name": "stdout",
     "output_type": "stream",
     "text": [
      "Step 0: Loss = 1.3275\n"
     ]
    },
    {
     "name": "stderr",
     "output_type": "stream",
     "text": [
      " 10%|████▏                                    | 101/978 [02:14<19:40,  1.35s/it]"
     ]
    },
    {
     "name": "stdout",
     "output_type": "stream",
     "text": [
      "Step 100: Loss = 0.7649\n"
     ]
    },
    {
     "name": "stderr",
     "output_type": "stream",
     "text": [
      " 21%|████████▍                                | 201/978 [04:22<16:28,  1.27s/it]"
     ]
    },
    {
     "name": "stdout",
     "output_type": "stream",
     "text": [
      "Step 200: Loss = 1.0898\n"
     ]
    },
    {
     "name": "stderr",
     "output_type": "stream",
     "text": [
      " 31%|████████████▌                            | 301/978 [06:30<14:20,  1.27s/it]"
     ]
    },
    {
     "name": "stdout",
     "output_type": "stream",
     "text": [
      "Step 300: Loss = 1.0375\n"
     ]
    },
    {
     "name": "stderr",
     "output_type": "stream",
     "text": [
      " 41%|████████████████▊                        | 401/978 [08:38<12:44,  1.32s/it]"
     ]
    },
    {
     "name": "stdout",
     "output_type": "stream",
     "text": [
      "Step 400: Loss = 1.3307\n"
     ]
    },
    {
     "name": "stderr",
     "output_type": "stream",
     "text": [
      " 51%|█████████████████████                    | 501/978 [10:50<10:12,  1.28s/it]"
     ]
    },
    {
     "name": "stdout",
     "output_type": "stream",
     "text": [
      "Step 500: Loss = 1.4965\n"
     ]
    },
    {
     "name": "stderr",
     "output_type": "stream",
     "text": [
      " 61%|█████████████████████████▏               | 601/978 [12:57<08:00,  1.27s/it]"
     ]
    },
    {
     "name": "stdout",
     "output_type": "stream",
     "text": [
      "Step 600: Loss = 0.8928\n"
     ]
    },
    {
     "name": "stderr",
     "output_type": "stream",
     "text": [
      " 72%|█████████████████████████████▍           | 701/978 [15:05<05:55,  1.28s/it]"
     ]
    },
    {
     "name": "stdout",
     "output_type": "stream",
     "text": [
      "Step 700: Loss = 1.2501\n"
     ]
    },
    {
     "name": "stderr",
     "output_type": "stream",
     "text": [
      " 82%|█████████████████████████████████▌       | 801/978 [17:18<03:48,  1.29s/it]"
     ]
    },
    {
     "name": "stdout",
     "output_type": "stream",
     "text": [
      "Step 800: Loss = 1.3659\n"
     ]
    },
    {
     "name": "stderr",
     "output_type": "stream",
     "text": [
      " 92%|█████████████████████████████████████▊   | 901/978 [19:27<01:39,  1.29s/it]"
     ]
    },
    {
     "name": "stdout",
     "output_type": "stream",
     "text": [
      "Step 900: Loss = 0.9512\n"
     ]
    },
    {
     "name": "stderr",
     "output_type": "stream",
     "text": [
      "100%|█████████████████████████████████████████| 978/978 [21:06<00:00,  1.30s/it]\n"
     ]
    },
    {
     "name": "stdout",
     "output_type": "stream",
     "text": [
      "Full-gallery R@1: 0.0077, R@5: 0.0299, R@10: 0.0590\n",
      "Saved Best (full) checkpoint: epoch 3, full-gallery R@1 = 0.0077\n",
      "Epoch 3: avg_loss = 1.2050; in-batch Top@1 = 0.3985, lr = 4.73e-05\n",
      "\n",
      " Epoch: 4 / 20\n"
     ]
    },
    {
     "name": "stderr",
     "output_type": "stream",
     "text": [
      "  0%|                                           | 1/978 [00:01<26:13,  1.61s/it]"
     ]
    },
    {
     "name": "stdout",
     "output_type": "stream",
     "text": [
      "Step 0: Loss = 0.7757\n"
     ]
    },
    {
     "name": "stderr",
     "output_type": "stream",
     "text": [
      " 10%|████▏                                    | 101/978 [02:07<18:33,  1.27s/it]"
     ]
    },
    {
     "name": "stdout",
     "output_type": "stream",
     "text": [
      "Step 100: Loss = 0.5311\n"
     ]
    },
    {
     "name": "stderr",
     "output_type": "stream",
     "text": [
      " 21%|████████▍                                | 201/978 [04:17<16:32,  1.28s/it]"
     ]
    },
    {
     "name": "stdout",
     "output_type": "stream",
     "text": [
      "Step 200: Loss = 1.1596\n"
     ]
    },
    {
     "name": "stderr",
     "output_type": "stream",
     "text": [
      " 31%|████████████▌                            | 301/978 [06:23<14:08,  1.25s/it]"
     ]
    },
    {
     "name": "stdout",
     "output_type": "stream",
     "text": [
      "Step 300: Loss = 1.1271\n"
     ]
    },
    {
     "name": "stderr",
     "output_type": "stream",
     "text": [
      " 41%|████████████████▊                        | 401/978 [08:31<12:12,  1.27s/it]"
     ]
    },
    {
     "name": "stdout",
     "output_type": "stream",
     "text": [
      "Step 400: Loss = 1.0676\n"
     ]
    },
    {
     "name": "stderr",
     "output_type": "stream",
     "text": [
      " 51%|█████████████████████                    | 501/978 [10:38<09:57,  1.25s/it]"
     ]
    },
    {
     "name": "stdout",
     "output_type": "stream",
     "text": [
      "Step 500: Loss = 1.2274\n"
     ]
    },
    {
     "name": "stderr",
     "output_type": "stream",
     "text": [
      " 61%|█████████████████████████▏               | 601/978 [12:45<07:58,  1.27s/it]"
     ]
    },
    {
     "name": "stdout",
     "output_type": "stream",
     "text": [
      "Step 600: Loss = 0.6146\n"
     ]
    },
    {
     "name": "stderr",
     "output_type": "stream",
     "text": [
      " 72%|█████████████████████████████▍           | 701/978 [14:52<06:10,  1.34s/it]"
     ]
    },
    {
     "name": "stdout",
     "output_type": "stream",
     "text": [
      "Step 700: Loss = 0.7809\n"
     ]
    },
    {
     "name": "stderr",
     "output_type": "stream",
     "text": [
      " 82%|█████████████████████████████████▌       | 801/978 [16:59<03:45,  1.27s/it]"
     ]
    },
    {
     "name": "stdout",
     "output_type": "stream",
     "text": [
      "Step 800: Loss = 1.1768\n"
     ]
    },
    {
     "name": "stderr",
     "output_type": "stream",
     "text": [
      " 92%|█████████████████████████████████████▊   | 901/978 [19:06<01:39,  1.29s/it]"
     ]
    },
    {
     "name": "stdout",
     "output_type": "stream",
     "text": [
      "Step 900: Loss = 0.6055\n"
     ]
    },
    {
     "name": "stderr",
     "output_type": "stream",
     "text": [
      "100%|█████████████████████████████████████████| 978/978 [20:43<00:00,  1.27s/it]\n"
     ]
    },
    {
     "name": "stdout",
     "output_type": "stream",
     "text": [
      "Full-gallery R@1: 0.0128, R@5: 0.0394, R@10: 0.0688\n",
      "Saved Best (full) checkpoint: epoch 4, full-gallery R@1 = 0.0128\n",
      "Epoch 4: avg_loss = 0.8682; in-batch Top@1 = 0.4279, lr = 4.53e-05\n",
      "\n",
      " Epoch: 5 / 20\n"
     ]
    },
    {
     "name": "stderr",
     "output_type": "stream",
     "text": [
      "  0%|                                           | 1/978 [00:01<26:31,  1.63s/it]"
     ]
    },
    {
     "name": "stdout",
     "output_type": "stream",
     "text": [
      "Step 0: Loss = 0.3053\n"
     ]
    },
    {
     "name": "stderr",
     "output_type": "stream",
     "text": [
      " 10%|████▏                                    | 101/978 [02:08<19:54,  1.36s/it]"
     ]
    },
    {
     "name": "stdout",
     "output_type": "stream",
     "text": [
      "Step 100: Loss = 0.4359\n"
     ]
    },
    {
     "name": "stderr",
     "output_type": "stream",
     "text": [
      " 21%|████████▍                                | 201/978 [04:17<16:10,  1.25s/it]"
     ]
    },
    {
     "name": "stdout",
     "output_type": "stream",
     "text": [
      "Step 200: Loss = 0.7125\n"
     ]
    },
    {
     "name": "stderr",
     "output_type": "stream",
     "text": [
      " 31%|████████████▌                            | 301/978 [06:23<14:14,  1.26s/it]"
     ]
    },
    {
     "name": "stdout",
     "output_type": "stream",
     "text": [
      "Step 300: Loss = 0.3335\n"
     ]
    },
    {
     "name": "stderr",
     "output_type": "stream",
     "text": [
      " 41%|████████████████▊                        | 401/978 [08:29<12:04,  1.25s/it]"
     ]
    },
    {
     "name": "stdout",
     "output_type": "stream",
     "text": [
      "Step 400: Loss = 0.4191\n"
     ]
    },
    {
     "name": "stderr",
     "output_type": "stream",
     "text": [
      " 51%|█████████████████████                    | 501/978 [10:36<09:53,  1.24s/it]"
     ]
    },
    {
     "name": "stdout",
     "output_type": "stream",
     "text": [
      "Step 500: Loss = 0.5923\n"
     ]
    },
    {
     "name": "stderr",
     "output_type": "stream",
     "text": [
      " 61%|█████████████████████████▏               | 601/978 [12:41<07:54,  1.26s/it]"
     ]
    },
    {
     "name": "stdout",
     "output_type": "stream",
     "text": [
      "Step 600: Loss = 0.6970\n"
     ]
    },
    {
     "name": "stderr",
     "output_type": "stream",
     "text": [
      " 72%|█████████████████████████████▍           | 701/978 [14:48<05:44,  1.24s/it]"
     ]
    },
    {
     "name": "stdout",
     "output_type": "stream",
     "text": [
      "Step 700: Loss = 0.7287\n"
     ]
    },
    {
     "name": "stderr",
     "output_type": "stream",
     "text": [
      " 82%|█████████████████████████████████▌       | 801/978 [16:54<03:44,  1.27s/it]"
     ]
    },
    {
     "name": "stdout",
     "output_type": "stream",
     "text": [
      "Step 800: Loss = 0.8726\n"
     ]
    },
    {
     "name": "stderr",
     "output_type": "stream",
     "text": [
      " 92%|█████████████████████████████████████▊   | 901/978 [19:08<01:49,  1.42s/it]"
     ]
    },
    {
     "name": "stdout",
     "output_type": "stream",
     "text": [
      "Step 900: Loss = 0.5714\n"
     ]
    },
    {
     "name": "stderr",
     "output_type": "stream",
     "text": [
      "100%|█████████████████████████████████████████| 978/978 [20:46<00:00,  1.27s/it]\n"
     ]
    },
    {
     "name": "stdout",
     "output_type": "stream",
     "text": [
      "Full-gallery R@1: 0.0100, R@5: 0.0424, R@10: 0.0736\n",
      "Epoch 5: avg_loss = 0.6272; in-batch Top@1 = 0.4384, lr = 4.28e-05\n",
      "\n",
      " Epoch: 6 / 20\n"
     ]
    },
    {
     "name": "stderr",
     "output_type": "stream",
     "text": [
      "  0%|                                           | 1/978 [00:01<25:25,  1.56s/it]"
     ]
    },
    {
     "name": "stdout",
     "output_type": "stream",
     "text": [
      "Step 0: Loss = 0.2804\n"
     ]
    },
    {
     "name": "stderr",
     "output_type": "stream",
     "text": [
      " 10%|████▏                                    | 101/978 [02:12<20:15,  1.39s/it]"
     ]
    },
    {
     "name": "stdout",
     "output_type": "stream",
     "text": [
      "Step 100: Loss = 0.3154\n"
     ]
    },
    {
     "name": "stderr",
     "output_type": "stream",
     "text": [
      " 21%|████████▍                                | 201/978 [04:32<16:42,  1.29s/it]"
     ]
    },
    {
     "name": "stdout",
     "output_type": "stream",
     "text": [
      "Step 200: Loss = 0.3104\n"
     ]
    },
    {
     "name": "stderr",
     "output_type": "stream",
     "text": [
      " 31%|████████████▌                            | 301/978 [06:45<14:46,  1.31s/it]"
     ]
    },
    {
     "name": "stdout",
     "output_type": "stream",
     "text": [
      "Step 300: Loss = 0.4144\n"
     ]
    },
    {
     "name": "stderr",
     "output_type": "stream",
     "text": [
      " 41%|████████████████▊                        | 401/978 [08:56<12:50,  1.34s/it]"
     ]
    },
    {
     "name": "stdout",
     "output_type": "stream",
     "text": [
      "Step 400: Loss = 0.3254\n"
     ]
    },
    {
     "name": "stderr",
     "output_type": "stream",
     "text": [
      " 51%|█████████████████████                    | 501/978 [11:09<10:17,  1.30s/it]"
     ]
    },
    {
     "name": "stdout",
     "output_type": "stream",
     "text": [
      "Step 500: Loss = 0.4749\n"
     ]
    },
    {
     "name": "stderr",
     "output_type": "stream",
     "text": [
      " 61%|█████████████████████████▏               | 601/978 [13:24<10:24,  1.66s/it]"
     ]
    },
    {
     "name": "stdout",
     "output_type": "stream",
     "text": [
      "Step 600: Loss = 0.4092\n"
     ]
    },
    {
     "name": "stderr",
     "output_type": "stream",
     "text": [
      " 72%|█████████████████████████████▍           | 701/978 [15:31<05:56,  1.29s/it]"
     ]
    },
    {
     "name": "stdout",
     "output_type": "stream",
     "text": [
      "Step 700: Loss = 1.4269\n"
     ]
    },
    {
     "name": "stderr",
     "output_type": "stream",
     "text": [
      " 82%|█████████████████████████████████▌       | 801/978 [17:41<03:41,  1.25s/it]"
     ]
    },
    {
     "name": "stdout",
     "output_type": "stream",
     "text": [
      "Step 800: Loss = 0.4306\n"
     ]
    },
    {
     "name": "stderr",
     "output_type": "stream",
     "text": [
      " 92%|█████████████████████████████████████▊   | 901/978 [19:55<01:45,  1.37s/it]"
     ]
    },
    {
     "name": "stdout",
     "output_type": "stream",
     "text": [
      "Step 900: Loss = 0.4065\n"
     ]
    },
    {
     "name": "stderr",
     "output_type": "stream",
     "text": [
      "100%|█████████████████████████████████████████| 978/978 [21:37<00:00,  1.33s/it]\n"
     ]
    },
    {
     "name": "stdout",
     "output_type": "stream",
     "text": [
      "Full-gallery R@1: 0.0128, R@5: 0.0437, R@10: 0.0744\n",
      "Epoch 6: avg_loss = 0.4714; in-batch Top@1 = 0.4499, lr = 3.98e-05\n",
      "\n",
      " Epoch: 7 / 20\n"
     ]
    },
    {
     "name": "stderr",
     "output_type": "stream",
     "text": [
      "  0%|                                           | 1/978 [00:01<24:56,  1.53s/it]"
     ]
    },
    {
     "name": "stdout",
     "output_type": "stream",
     "text": [
      "Step 0: Loss = 0.2129\n"
     ]
    },
    {
     "name": "stderr",
     "output_type": "stream",
     "text": [
      " 10%|████▏                                    | 101/978 [02:18<22:46,  1.56s/it]"
     ]
    },
    {
     "name": "stdout",
     "output_type": "stream",
     "text": [
      "Step 100: Loss = 0.1718\n"
     ]
    },
    {
     "name": "stderr",
     "output_type": "stream",
     "text": [
      " 21%|████████▍                                | 201/978 [04:28<15:57,  1.23s/it]"
     ]
    },
    {
     "name": "stdout",
     "output_type": "stream",
     "text": [
      "Step 200: Loss = 0.3276\n"
     ]
    },
    {
     "name": "stderr",
     "output_type": "stream",
     "text": [
      " 31%|████████████▌                            | 301/978 [06:37<14:38,  1.30s/it]"
     ]
    },
    {
     "name": "stdout",
     "output_type": "stream",
     "text": [
      "Step 300: Loss = 0.3601\n"
     ]
    },
    {
     "name": "stderr",
     "output_type": "stream",
     "text": [
      " 41%|████████████████▊                        | 401/978 [08:52<13:01,  1.35s/it]"
     ]
    },
    {
     "name": "stdout",
     "output_type": "stream",
     "text": [
      "Step 400: Loss = 0.2302\n"
     ]
    },
    {
     "name": "stderr",
     "output_type": "stream",
     "text": [
      " 51%|█████████████████████                    | 501/978 [11:03<10:27,  1.32s/it]"
     ]
    },
    {
     "name": "stdout",
     "output_type": "stream",
     "text": [
      "Step 500: Loss = 0.5133\n"
     ]
    },
    {
     "name": "stderr",
     "output_type": "stream",
     "text": [
      " 61%|█████████████████████████▏               | 601/978 [13:17<08:03,  1.28s/it]"
     ]
    },
    {
     "name": "stdout",
     "output_type": "stream",
     "text": [
      "Step 600: Loss = 0.4642\n"
     ]
    },
    {
     "name": "stderr",
     "output_type": "stream",
     "text": [
      " 72%|█████████████████████████████▍           | 701/978 [15:26<05:57,  1.29s/it]"
     ]
    },
    {
     "name": "stdout",
     "output_type": "stream",
     "text": [
      "Step 700: Loss = 0.2413\n"
     ]
    },
    {
     "name": "stderr",
     "output_type": "stream",
     "text": [
      " 82%|█████████████████████████████████▌       | 801/978 [17:35<03:46,  1.28s/it]"
     ]
    },
    {
     "name": "stdout",
     "output_type": "stream",
     "text": [
      "Step 800: Loss = 0.0816\n"
     ]
    },
    {
     "name": "stderr",
     "output_type": "stream",
     "text": [
      " 92%|█████████████████████████████████████▊   | 901/978 [19:43<01:39,  1.30s/it]"
     ]
    },
    {
     "name": "stdout",
     "output_type": "stream",
     "text": [
      "Step 900: Loss = 0.2683\n"
     ]
    },
    {
     "name": "stderr",
     "output_type": "stream",
     "text": [
      "100%|█████████████████████████████████████████| 978/978 [21:21<00:00,  1.31s/it]\n"
     ]
    },
    {
     "name": "stdout",
     "output_type": "stream",
     "text": [
      "Full-gallery R@1: 0.0128, R@5: 0.0486, R@10: 0.0823\n",
      "Epoch 7: avg_loss = 0.3658; in-batch Top@1 = 0.4571, lr = 3.65e-05\n",
      "\n",
      " Epoch: 8 / 20\n"
     ]
    },
    {
     "name": "stderr",
     "output_type": "stream",
     "text": [
      "  0%|                                           | 1/978 [00:01<24:58,  1.53s/it]"
     ]
    },
    {
     "name": "stdout",
     "output_type": "stream",
     "text": [
      "Step 0: Loss = 0.2283\n"
     ]
    },
    {
     "name": "stderr",
     "output_type": "stream",
     "text": [
      " 10%|████▏                                    | 101/978 [02:10<18:53,  1.29s/it]"
     ]
    },
    {
     "name": "stdout",
     "output_type": "stream",
     "text": [
      "Step 100: Loss = 0.1994\n"
     ]
    },
    {
     "name": "stderr",
     "output_type": "stream",
     "text": [
      " 21%|████████▍                                | 201/978 [04:17<16:25,  1.27s/it]"
     ]
    },
    {
     "name": "stdout",
     "output_type": "stream",
     "text": [
      "Step 200: Loss = 0.1891\n"
     ]
    },
    {
     "name": "stderr",
     "output_type": "stream",
     "text": [
      " 31%|████████████▌                            | 301/978 [06:24<14:40,  1.30s/it]"
     ]
    },
    {
     "name": "stdout",
     "output_type": "stream",
     "text": [
      "Step 300: Loss = 0.2784\n"
     ]
    },
    {
     "name": "stderr",
     "output_type": "stream",
     "text": [
      " 41%|████████████████▊                        | 401/978 [08:30<12:17,  1.28s/it]"
     ]
    },
    {
     "name": "stdout",
     "output_type": "stream",
     "text": [
      "Step 400: Loss = 0.2168\n"
     ]
    },
    {
     "name": "stderr",
     "output_type": "stream",
     "text": [
      " 51%|█████████████████████                    | 501/978 [10:36<10:08,  1.27s/it]"
     ]
    },
    {
     "name": "stdout",
     "output_type": "stream",
     "text": [
      "Step 500: Loss = 0.2128\n"
     ]
    },
    {
     "name": "stderr",
     "output_type": "stream",
     "text": [
      " 61%|█████████████████████████▏               | 601/978 [12:43<07:58,  1.27s/it]"
     ]
    },
    {
     "name": "stdout",
     "output_type": "stream",
     "text": [
      "Step 600: Loss = 0.2175\n"
     ]
    },
    {
     "name": "stderr",
     "output_type": "stream",
     "text": [
      " 72%|█████████████████████████████▍           | 701/978 [14:50<05:54,  1.28s/it]"
     ]
    },
    {
     "name": "stdout",
     "output_type": "stream",
     "text": [
      "Step 700: Loss = 0.2226\n"
     ]
    },
    {
     "name": "stderr",
     "output_type": "stream",
     "text": [
      " 82%|█████████████████████████████████▌       | 801/978 [16:58<03:48,  1.29s/it]"
     ]
    },
    {
     "name": "stdout",
     "output_type": "stream",
     "text": [
      "Step 800: Loss = 0.7023\n"
     ]
    },
    {
     "name": "stderr",
     "output_type": "stream",
     "text": [
      " 92%|█████████████████████████████████████▊   | 901/978 [19:06<01:38,  1.28s/it]"
     ]
    },
    {
     "name": "stdout",
     "output_type": "stream",
     "text": [
      "Step 900: Loss = 0.1702\n"
     ]
    },
    {
     "name": "stderr",
     "output_type": "stream",
     "text": [
      "100%|█████████████████████████████████████████| 978/978 [20:45<00:00,  1.27s/it]\n"
     ]
    },
    {
     "name": "stdout",
     "output_type": "stream",
     "text": [
      "Full-gallery R@1: 0.0158, R@5: 0.0504, R@10: 0.0882\n",
      "Saved Best (full) checkpoint: epoch 8, full-gallery R@1 = 0.0158\n",
      "Epoch 8: avg_loss = 0.2797; in-batch Top@1 = 0.4778, lr = 3.29e-05\n",
      "\n",
      " Epoch: 9 / 20\n"
     ]
    },
    {
     "name": "stderr",
     "output_type": "stream",
     "text": [
      "  0%|                                           | 1/978 [00:01<24:51,  1.53s/it]"
     ]
    },
    {
     "name": "stdout",
     "output_type": "stream",
     "text": [
      "Step 0: Loss = 0.1003\n"
     ]
    },
    {
     "name": "stderr",
     "output_type": "stream",
     "text": [
      " 10%|████▏                                    | 101/978 [02:14<19:31,  1.34s/it]"
     ]
    },
    {
     "name": "stdout",
     "output_type": "stream",
     "text": [
      "Step 100: Loss = 0.1084\n"
     ]
    },
    {
     "name": "stderr",
     "output_type": "stream",
     "text": [
      " 21%|████████▍                                | 201/978 [04:25<16:11,  1.25s/it]"
     ]
    },
    {
     "name": "stdout",
     "output_type": "stream",
     "text": [
      "Step 200: Loss = 0.0594\n"
     ]
    },
    {
     "name": "stderr",
     "output_type": "stream",
     "text": [
      " 31%|████████████▌                            | 301/978 [06:39<15:56,  1.41s/it]"
     ]
    },
    {
     "name": "stdout",
     "output_type": "stream",
     "text": [
      "Step 300: Loss = 0.1016\n"
     ]
    },
    {
     "name": "stderr",
     "output_type": "stream",
     "text": [
      " 41%|████████████████▊                        | 401/978 [08:50<12:18,  1.28s/it]"
     ]
    },
    {
     "name": "stdout",
     "output_type": "stream",
     "text": [
      "Step 400: Loss = 0.0145\n"
     ]
    },
    {
     "name": "stderr",
     "output_type": "stream",
     "text": [
      " 51%|█████████████████████                    | 501/978 [11:00<11:11,  1.41s/it]"
     ]
    },
    {
     "name": "stdout",
     "output_type": "stream",
     "text": [
      "Step 500: Loss = 0.4904\n"
     ]
    },
    {
     "name": "stderr",
     "output_type": "stream",
     "text": [
      " 61%|█████████████████████████▏               | 601/978 [13:10<07:49,  1.25s/it]"
     ]
    },
    {
     "name": "stdout",
     "output_type": "stream",
     "text": [
      "Step 600: Loss = 0.1706\n"
     ]
    },
    {
     "name": "stderr",
     "output_type": "stream",
     "text": [
      " 72%|█████████████████████████████▍           | 701/978 [20:23<08:35,  1.86s/it]"
     ]
    },
    {
     "name": "stdout",
     "output_type": "stream",
     "text": [
      "Step 700: Loss = 0.0854\n"
     ]
    },
    {
     "name": "stderr",
     "output_type": "stream",
     "text": [
      " 82%|█████████████████████████████████▌       | 801/978 [34:27<04:17,  1.45s/it]"
     ]
    },
    {
     "name": "stdout",
     "output_type": "stream",
     "text": [
      "Step 800: Loss = 0.2542\n"
     ]
    },
    {
     "name": "stderr",
     "output_type": "stream",
     "text": [
      " 92%|█████████████████████████████████████▊   | 901/978 [36:41<01:39,  1.29s/it]"
     ]
    },
    {
     "name": "stdout",
     "output_type": "stream",
     "text": [
      "Step 900: Loss = 0.2366\n"
     ]
    },
    {
     "name": "stderr",
     "output_type": "stream",
     "text": [
      "100%|█████████████████████████████████████████| 978/978 [38:28<00:00,  2.36s/it]\n"
     ]
    },
    {
     "name": "stdout",
     "output_type": "stream",
     "text": [
      "Full-gallery R@1: 0.0161, R@5: 0.0539, R@10: 0.0872\n",
      "Epoch 9: avg_loss = 0.2228; in-batch Top@1 = 0.4642, lr = 2.91e-05\n",
      "Early stop counter: 1 / 2\n",
      "\n",
      " Epoch: 10 / 20\n"
     ]
    },
    {
     "name": "stderr",
     "output_type": "stream",
     "text": [
      "  0%|                                           | 1/978 [00:01<25:57,  1.59s/it]"
     ]
    },
    {
     "name": "stdout",
     "output_type": "stream",
     "text": [
      "Step 0: Loss = 0.1977\n"
     ]
    },
    {
     "name": "stderr",
     "output_type": "stream",
     "text": [
      " 10%|████▏                                    | 101/978 [02:11<18:12,  1.25s/it]"
     ]
    },
    {
     "name": "stdout",
     "output_type": "stream",
     "text": [
      "Step 100: Loss = 0.0901\n"
     ]
    },
    {
     "name": "stderr",
     "output_type": "stream",
     "text": [
      " 21%|████████▍                                | 201/978 [04:22<16:33,  1.28s/it]"
     ]
    },
    {
     "name": "stdout",
     "output_type": "stream",
     "text": [
      "Step 200: Loss = 0.0489\n"
     ]
    },
    {
     "name": "stderr",
     "output_type": "stream",
     "text": [
      " 31%|████████████▌                            | 301/978 [06:53<14:52,  1.32s/it]"
     ]
    },
    {
     "name": "stdout",
     "output_type": "stream",
     "text": [
      "Step 300: Loss = 0.3487\n"
     ]
    },
    {
     "name": "stderr",
     "output_type": "stream",
     "text": [
      " 41%|████████████████▊                        | 401/978 [09:16<12:49,  1.33s/it]"
     ]
    },
    {
     "name": "stdout",
     "output_type": "stream",
     "text": [
      "Step 400: Loss = 0.0578\n"
     ]
    },
    {
     "name": "stderr",
     "output_type": "stream",
     "text": [
      " 51%|█████████████████████                    | 501/978 [11:41<15:05,  1.90s/it]"
     ]
    },
    {
     "name": "stdout",
     "output_type": "stream",
     "text": [
      "Step 500: Loss = 0.0854\n"
     ]
    },
    {
     "name": "stderr",
     "output_type": "stream",
     "text": [
      " 61%|█████████████████████████▏               | 601/978 [14:01<08:09,  1.30s/it]"
     ]
    },
    {
     "name": "stdout",
     "output_type": "stream",
     "text": [
      "Step 600: Loss = 0.0497\n"
     ]
    },
    {
     "name": "stderr",
     "output_type": "stream",
     "text": [
      " 72%|█████████████████████████████▍           | 701/978 [16:20<05:56,  1.29s/it]"
     ]
    },
    {
     "name": "stdout",
     "output_type": "stream",
     "text": [
      "Step 700: Loss = 0.0166\n"
     ]
    },
    {
     "name": "stderr",
     "output_type": "stream",
     "text": [
      " 82%|█████████████████████████████████▌       | 801/978 [18:43<04:05,  1.39s/it]"
     ]
    },
    {
     "name": "stdout",
     "output_type": "stream",
     "text": [
      "Step 800: Loss = 0.1066\n"
     ]
    },
    {
     "name": "stderr",
     "output_type": "stream",
     "text": [
      " 92%|█████████████████████████████████████▊   | 901/978 [20:58<01:45,  1.37s/it]"
     ]
    },
    {
     "name": "stdout",
     "output_type": "stream",
     "text": [
      "Step 900: Loss = 0.3059\n"
     ]
    },
    {
     "name": "stderr",
     "output_type": "stream",
     "text": [
      "100%|█████████████████████████████████████████| 978/978 [22:49<00:00,  1.40s/it]\n"
     ]
    },
    {
     "name": "stdout",
     "output_type": "stream",
     "text": [
      "Skip full-gallery this epoch. In-batch Top@1: 0.4594, Top@5: 0.8594, Top@10: 0.9663\n",
      "Epoch 10: avg_loss = 0.1814; in-batch Top@1 = 0.4594, lr = 2.53e-05\n",
      "Early stop counter: 2 / 2\n",
      "Early stopping at epoch 10. Best full R@1 = 0.0158, best in-batch Top@1 = 0.4778\n",
      "\n",
      "Total training wall time: 268.5 minutes.\n"
     ]
    }
   ],
   "source": [
    "# -------------------- Model 1: SemiCorpus + CLIP --------------------\n",
    "import pandas as pd\n",
    "import os\n",
    "import random\n",
    "import numpy as np\n",
    "from tqdm import tqdm\n",
    "from PIL import Image\n",
    "import torch\n",
    "import time\n",
    "from torch.utils.data import Dataset, DataLoader\n",
    "from transformers import CLIPProcessor, CLIPModel\n",
    "import matplotlib.pyplot as plt\n",
    "from torch.optim import AdamW\n",
    "from torch.optim.lr_scheduler import CosineAnnealingLR\n",
    "from IPython.display import display\n",
    "import torch.nn.functional as F\n",
    "\n",
    "# Set seed for reproducibility\n",
    "random.seed(985)\n",
    "np.random.seed(985)\n",
    "torch.manual_seed(985)\n",
    "\n",
    "# Load the datasets and image folder\n",
    "m1_train = pd.read_csv(\"/Users/cyq/Desktop/Dissertation/Database/SemiCorpus_to_train.csv\")\n",
    "m1_val = pd.read_csv(\"/Users/cyq/Desktop/Dissertation/Database/SemiCorpus_to_validation.csv\")\n",
    "image_folder = \"/Users/cyq/Desktop/Dissertation/Database/SemArt/images\"\n",
    "\n",
    "# Construct full path for each sample\n",
    "m1_train[\"full_path\"] = m1_train[\"IMAGE_FILE\"].apply(lambda x: os.path.join(image_folder, x))\n",
    "m1_val[\"full_path\"] = m1_val[\"IMAGE_FILE\"].apply(lambda x: os.path.join(image_folder, x))\n",
    "\n",
    "# Define a dataset for Model 1\n",
    "class SemArtDataset(Dataset):\n",
    "    # Intialise the dataframe and CLIP precessor\n",
    "    def __init__(self, df, processor): \n",
    "        self.data = df.reset_index(drop = True)\n",
    "        self.processor = processor\n",
    "        self.valid_idx = [i for i in range(len(self.data))\n",
    "                          if os.path.exists(str(self.data.iloc[i][\"full_path\"]))]\n",
    "    # Extract samples by rows\n",
    "    def __getitem__(self, idx):\n",
    "        ridx = self.valid_idx[idx]\n",
    "        row = self.data.iloc[ridx] # Select the ith row from the dataframe\n",
    "        path = row[\"full_path\"] # Find the path\n",
    "        text = str(row[\"DESCRIPTION\"]) if not pd.isna(row[\"DESCRIPTION\"]) else \"\" # Find the paired description\n",
    "        # Try to open the image\n",
    "        try:\n",
    "            img = Image.open(path).convert(\"RGB\")\n",
    "        except Exception:\n",
    "            img = Image.new(\"RGB\", (224, 224), \"white\")\n",
    "            print(f\"Warning: Failed to load {path}, using white image\")\n",
    "        # Preprocess both text and image\n",
    "        inputs = self.processor(text = [text], \n",
    "                                images = img, \n",
    "                                return_tensors = \"pt\",\n",
    "                                padding = \"max_length\", \n",
    "                                truncation = True, \n",
    "                                max_length = 77)\n",
    "        # Return a dictionary contains input_ids, attention_mask and pixel_values\n",
    "        return {\n",
    "            \"input_ids\": inputs[\"input_ids\"].squeeze(0),\n",
    "            \"attention_mask\": inputs[\"attention_mask\"].squeeze(0),\n",
    "            \"pixel_values\": inputs[\"pixel_values\"].squeeze(0)\n",
    "        }\n",
    "    # Compute the length of dataset\n",
    "    def __len__(self):\n",
    "        return len(self.valid_idx)\n",
    "\n",
    "# Define a function to evaluate model performance by using full-gallery retrieval\n",
    "@torch.no_grad()\n",
    "def evaluate_full_gallery(model, val_loader, device, topk = (1, 5, 10), chunk = 256):\n",
    "    # Set the model to evaluation mode\n",
    "    model.eval()\n",
    "    # Create empty lists to contain all images and texts\n",
    "    all_img = []\n",
    "    all_txt = []\n",
    "    # Loop through the validation dataloader to extract features\n",
    "    for b in val_loader:\n",
    "        ids = b[\"input_ids\"].to(device)\n",
    "        attn = b[\"attention_mask\"].to(device)\n",
    "        pix = b[\"pixel_values\"].to(device)\n",
    "        # Extract CLIP image and text features\n",
    "        img = model.get_image_features(pix)\n",
    "        txt = model.get_text_features(input_ids = ids, attention_mask = attn)\n",
    "        # Normalize embeddings to unit length\n",
    "        img = img / img.norm(p = 2, dim = -1, keepdim = True)\n",
    "        txt = txt / txt.norm(p = 2, dim = -1, keepdim = True)\n",
    "        # Add them into lists separatelt\n",
    "        all_img.append(img)\n",
    "        all_txt.append(txt)\n",
    "    # Combine all batches into single tensors\n",
    "    all_img = torch.cat(all_img, 0)\n",
    "    all_txt = torch.cat(all_txt, 0)\n",
    "    # Set N as the number of validation samples\n",
    "    N = all_txt.size(0)\n",
    "    # Get the learned logit scale\n",
    "    logit_scale = model.logit_scale.exp().clamp_max(100.0)\n",
    "    # Prepare to count Recall@K metrics\n",
    "    max_k = max(topk)\n",
    "    hits = {k:0 for k in topk} # Count of correct matches for each K\n",
    "    ranks_list = [] # Create an empty list to contain the ground truth's rank position\n",
    "    # Compute similarity\n",
    "    for i in range(0, N, chunk):\n",
    "        i_end = min(i + chunk, N)\n",
    "        sims = logit_scale * (all_txt[i:i_end]@all_img.T) # Similarity matrix\n",
    "        # Get the indices of top-k most similar images\n",
    "        topk_idx = sims.topk(k = max_k, dim = 1).indices\n",
    "        # Ground truth indices\n",
    "        gt = torch.arange(i, i_end, device = sims.device)\n",
    "        # Loop through to count Recall@K hits\n",
    "        for k in topk:\n",
    "            hits[k] += (topk_idx[:, :k] == gt.unsqueeze(1)).any(dim = 1).sum().item()\n",
    "        # Compute the rank position of the ground truth image for each query\n",
    "        gt_scores = sims.gather(1, gt.unsqueeze(1))\n",
    "        ranks_list.append((sims >= gt_scores).sum(dim = 1).cpu())\n",
    "    # Combine all rank positions\n",
    "    ranks = torch.cat(ranks_list,0)\n",
    "    # Calculate recall metrics\n",
    "    rec = {f\"R@{k}\": hits[k] / float(N) for k in topk}\n",
    "    rec[\"top1\"] = rec[\"R@1\"]\n",
    "    rec[\"median_rank\"] = ranks.median().item()\n",
    "    rec[\"mean_rank\"] = ranks.float().mean().item()\n",
    "    return rec\n",
    "\n",
    "# Define a function to evaluate model performance by using in-batch retrieval\n",
    "@torch.no_grad()\n",
    "def evaluate_in_batch(model, loader, device, topk = (1, 5, 10)):\n",
    "    # Put the model in evaluation mode\n",
    "    model.eval()\n",
    "    # Initialize counters for the number of correct matches at each K value\n",
    "    hits = {k: 0 for k in topk}\n",
    "    # Total number of samples evaluated start from 0\n",
    "    total = 0\n",
    "    # Loop through each batch\n",
    "    for b in loader:\n",
    "        # Move text and image inputs to device\n",
    "        ids = b[\"input_ids\"].to(device)\n",
    "        attn = b[\"attention_mask\"].to(device)\n",
    "        pix = b[\"pixel_values\"].to(device)\n",
    "        # Extract image and text embeddings and normalize embeddings to unit length\n",
    "        img = F.normalize(model.get_image_features(pixel_values = pix), dim = -1)\n",
    "        txt = F.normalize(model.get_text_features(input_ids = ids, attention_mask = attn), dim = -1)\n",
    "        # Compute similarity matrix between texts and images within the same batch\n",
    "        S = model.logit_scale.exp().clamp_max(100.0) * (txt @ img.T)\n",
    "        # Get the maximum K value to optimize computation\n",
    "        maxk_req = max(topk)\n",
    "        maxk_eff = min(maxk_req, S.size(1))\n",
    "        # Use topk to get indices of most similar images\n",
    "        topk_idx = S.topk(k = maxk_eff, dim = 1).indices\n",
    "        # Ground truth labels, each text should match the image at the same index\n",
    "        labels = torch.arange(S.size(0), device = device)\n",
    "        # Calculate the number of hits for each K value\n",
    "        for k in topk:\n",
    "            kk = min(k, S.size(1))\n",
    "            hits[k] += (topk_idx[:, :kk] == labels.unsqueeze(1)).any(dim = 1).sum().item()\n",
    "        # Update total number of evaluated samples\n",
    "        total += S.size(0)\n",
    "    return {f\"Top@{k}\": hits[k] / max(total, 1) for k in topk}\n",
    "\n",
    "# Set processor, model and device\n",
    "processor = CLIPProcessor.from_pretrained(\"openai/clip-vit-base-patch32\", use_fast = False)\n",
    "model = CLIPModel.from_pretrained(\"openai/clip-vit-base-patch32\")\n",
    "device = torch.device(\"mps\" if torch.backends.mps.is_available() else \"cpu\")\n",
    "print(\"Using\", device)\n",
    "model.to(device) # Move model's parameters to the device\n",
    "total_params = sum(p.numel() for p in model.parameters())\n",
    "trainable_params = sum(p.numel() for p in model.parameters() if p.requires_grad)\n",
    "print(f\"Parameters size: total = {total_params / 1e6:.2f}M, trainable = {trainable_params / 1e6:.2f}M\")\n",
    "\n",
    "# Set dataloader, optimizer and scheduler\n",
    "m1_train_loader = DataLoader(SemArtDataset(m1_train, processor), \n",
    "                             batch_size = 16, \n",
    "                             shuffle = True,\n",
    "                             num_workers = 0,\n",
    "                             persistent_workers = False)\n",
    "m1_val_loader = DataLoader(SemArtDataset(m1_val, processor), \n",
    "                           batch_size = 16,\n",
    "                           shuffle = False,\n",
    "                           num_workers = 0,\n",
    "                           persistent_workers = False)\n",
    "optimizer = AdamW(model.parameters(), lr = 5e-5, weight_decay = 0.01)\n",
    "scheduler = CosineAnnealingLR(optimizer, T_max = 20, eta_min = 5e-7)\n",
    "run_start = time.time()\n",
    "train_set_size = len(m1_train_loader.dataset)\n",
    "val_set_size = len(m1_val_loader.dataset)\n",
    "total_time = 0.0\n",
    "\n",
    "# Define a directory to contain model\n",
    "out_dir = \"/Users/cyq/Desktop/Dissertation/Database/m1_clip_trained\"\n",
    "os.makedirs(out_dir, exist_ok = True) # Create the folder if it does not exist\n",
    "cp_path = os.path.join(out_dir, \"checkpoint.pt\") # Define the checkpoint saving path\n",
    "best_cp_path = os.path.join(out_dir, \"best_checkpoint.pt\") # Define the best checkpoint saving path\n",
    "csv_path = os.path.join(out_dir, \"epoch_metrics_m1.csv\") # Define the csv file saving path\n",
    "\n",
    "# Create empty lists to contain average losses and validation accuracy\n",
    "avg_losses = []\n",
    "val_accs = []\n",
    "\n",
    "# Create empty lists for full-gallery evaluation\n",
    "full_top1_list = []\n",
    "full_top5_list = []\n",
    "full_top10_list = []\n",
    "\n",
    "# Create empty lists for in-batch evaluation\n",
    "inb_top1_list = []\n",
    "inb_top5_list = []\n",
    "inb_top10_list = []\n",
    "\n",
    "# Create an empty list to contain all metrics in each epoch\n",
    "epoch_logs = []\n",
    "\n",
    "# Prepare for the early stopping\n",
    "patience = 2 # Number of consecutive epochs allowed without improvement\n",
    "wait = 0 # Number of consecutive epochs without improvement\n",
    "best_proxy = -1.0 # Highest recorded in-batch Top@1 accuracy\n",
    "best_full = -1.0 # Highest recorded full-gallery R@1 accuracy\n",
    "best_epoch = 0 # Epoch number when the best full-gallery R@1 was achieved\n",
    "EVAL_EVERY = 4 # Run full-gallery evaluation every N epochs to reduce computational cost\n",
    "min_delta = 1e-3 # Minimum improvement in the proxy metric required to reset the patience counter\n",
    "\n",
    "# Set the starting epoch\n",
    "start_epoch = 0\n",
    "\n",
    "# If the code running was disrupted or stopped, resume training from last checkpoint\n",
    "if os.path.exists(cp_path):\n",
    "    # Load the saved checkpoint\n",
    "    checkpoint = torch.load(cp_path, map_location = device)\n",
    "    # Restore the model weights\n",
    "    model.load_state_dict(checkpoint[\"model_state_dict\"])\n",
    "    # Restore the optimizer state\n",
    "    optimizer.load_state_dict(checkpoint[\"optimizer_state_dict\"])\n",
    "    # If the scheduler exist in the checkpoint, restore the scheduler state\n",
    "    if \"scheduler_state_dict\" in checkpoint:\n",
    "        scheduler.load_state_dict(checkpoint[\"scheduler_state_dict\"])\n",
    "    # Set the next starting epoch\n",
    "    start_epoch = checkpoint[\"epoch\"] + 1\n",
    "    # Restore previously recorded metrics\n",
    "    avg_losses = checkpoint.get(\"avg_losses\", [])\n",
    "    val_accs = checkpoint.get(\"val_accs\", [])\n",
    "    full_top1_list = checkpoint.get(\"full_top1_list\", [])\n",
    "    full_top5_list = checkpoint.get(\"full_top5_list\", [])\n",
    "    full_top10_list = checkpoint.get(\"full_top10_list\", [])\n",
    "    inb_top1_list = checkpoint.get(\"inb_top1_list\", [])\n",
    "    inb_top5_list = checkpoint.get(\"inb_top5_list\", [])\n",
    "    inb_top10_list = checkpoint.get(\"inb_top10_list\", [])\n",
    "    # Restore epoch with best performance\n",
    "    best_epoch = checkpoint.get(\"best_epoch\", 0)\n",
    "    best_full = checkpoint.get(\"best_val_acc\", -1)\n",
    "    # Print the loading state\n",
    "    print(f\"Loaded checkpoint from epoch {start_epoch}\")\n",
    "\n",
    "# Loop through the epoch to train the model\n",
    "for epoch in range(start_epoch, 20):\n",
    "    # Set the model to the train mode\n",
    "    model.train()\n",
    "    # Print the current epoch number\n",
    "    print(f\"\\n Epoch: {epoch + 1} / 20\")\n",
    "    epoch_t0 = time.time()\n",
    "    full_eval_time = 0.0\n",
    "    # Total loss start with 0\n",
    "    total_loss = 0\n",
    "    # Iterate over the training data in batches\n",
    "    for step, batch in enumerate(tqdm(m1_train_loader)):\n",
    "        # Move input data to device\n",
    "        ids = batch[\"input_ids\"].to(device)\n",
    "        attn = batch[\"attention_mask\"].to(device)\n",
    "        pix = batch[\"pixel_values\"].to(device)\n",
    "        out = model(input_ids = ids, attention_mask = attn, pixel_values = pix, return_loss = True)\n",
    "        loss = out.loss # Extract the loss value from the model output\n",
    "        loss.backward()\n",
    "        # Clip gradients to avoid exploding gradients\n",
    "        torch.nn.utils.clip_grad_norm_(model.parameters(), 1)\n",
    "        # Update model weights\n",
    "        optimizer.step()\n",
    "        # Reset gradients to 0 before the next batch\n",
    "        optimizer.zero_grad()\n",
    "        # Accumulate the loss for calculating the average loss later\n",
    "        total_loss += loss.item()\n",
    "        # Print loss every 100 steps\n",
    "        if step % 100 == 0:\n",
    "            print(f\"Step {step}: Loss = {loss.item():.4f}\")\n",
    "    # Calculate the average loss and add it to the list\n",
    "    avg_loss = total_loss / len(m1_train_loader)\n",
    "    avg_losses.append(avg_loss)\n",
    "    # Validate the model by using in-batch retrieval\n",
    "    inb = evaluate_in_batch(model, m1_val_loader, device, topk = (1, 5, 10))\n",
    "    proxy = inb[\"Top@1\"] # Use as the early stopping proxy metric\n",
    "    # Add in-batch recall scores into lists separately\n",
    "    inb_top1_list.append(inb[\"Top@1\"])\n",
    "    inb_top5_list.append(inb[\"Top@5\"])\n",
    "    inb_top10_list.append(inb[\"Top@10\"])\n",
    "    # Check if the improvement exceeds minimum delta\n",
    "    improved_proxy = proxy > best_proxy + min_delta\n",
    "    # Decide whether to run a full-gallery evaluation\n",
    "    do_full = improved_proxy or ((epoch % EVAL_EVERY) == 0) or ((epoch + 1) == 20)\n",
    "    if do_full:\n",
    "        # Run full-gallery evaluation\n",
    "        t_full0 = time.time()\n",
    "        rec = evaluate_full_gallery(model, m1_val_loader, device, \n",
    "                                    topk = (1, 5, 10), chunk = 128)\n",
    "        full_eval_time = time.time() - t_full0\n",
    "        # Add the recall scores into the list\n",
    "        full_top1_list.append(rec[\"R@1\"])\n",
    "        full_top5_list.append(rec[\"R@5\"])\n",
    "        full_top10_list.append(rec[\"R@10\"])\n",
    "        # Use R@1 from full-gallery as the validation accuracy and add it into list\n",
    "        val_acc = rec[\"R@1\"]\n",
    "        val_accs.append(val_acc)\n",
    "        print(f\"Full-gallery R@1: {rec['R@1']:.4f}, R@5: {rec['R@5']:.4f}, R@10: {rec['R@10']:.4f}\")\n",
    "        # Update the best full-gallery score and save checkpoint if it improved\n",
    "        if val_acc > best_full + min_delta:\n",
    "            best_full = val_acc\n",
    "            best_epoch = epoch + 1\n",
    "            # Save checkpoint with all the metrics\n",
    "            torch.save({\n",
    "                \"epoch\": epoch,\n",
    "                \"best_epoch\": best_epoch,\n",
    "                \"model_state_dict\": model.state_dict(),\n",
    "                \"optimizer_state_dict\": optimizer.state_dict(),\n",
    "                \"scheduler_state_dict\": scheduler.state_dict(),\n",
    "                \"avg_losses\": avg_losses,\n",
    "                \"val_accs\": val_accs,\n",
    "                \"best_val_acc\": best_full,\n",
    "                \"full_top1_list\": full_top1_list, \n",
    "                \"full_top5_list\": full_top5_list, \n",
    "                \"full_top10_list\": full_top10_list,\n",
    "                \"inb_top1_list\": inb_top1_list, \n",
    "                \"inb_top5_list\": inb_top5_list, \n",
    "                \"inb_top10_list\": inb_top10_list\n",
    "            }, best_cp_path)\n",
    "            print(f\"Saved Best (full) checkpoint: epoch {epoch + 1}, full-gallery R@1 = {val_acc:.4f}\")\n",
    "    else:\n",
    "        rec = {\"R@1\": np.nan, \"R@5\": np.nan, \"R@10\": np.nan, \"median_rank\": np.nan, \"mean_rank\": np.nan}\n",
    "        full_eval_time = float('nan')\n",
    "        print(f\"Skip full-gallery this epoch. In-batch Top@1: {inb['Top@1']:.4f}, Top@5: {inb['Top@5']:.4f}, Top@10: {inb['Top@10']:.4f}\")\n",
    "    # Step the learning rate scheduler\n",
    "    scheduler.step()\n",
    "    # Get the current learning rate\n",
    "    cur_lr = scheduler.get_last_lr()[0]\n",
    "    print(f\"Epoch {epoch + 1}: avg_loss = {avg_loss:.4f}; in-batch Top@1 = {proxy:.4f}, lr = {cur_lr:.2e}\")\n",
    "    epoch_time = time.time() - epoch_t0\n",
    "    throughput = train_set_size / max(epoch_time, 1e-9)\n",
    "    cur_ckpt_mb = os.path.getsize(cp_path) / 1e6 if os.path.exists(cp_path) else float('nan')\n",
    "    best_ckpt_mb = os.path.getsize(best_cp_path) / 1e6 if os.path.exists(best_cp_path) else float('nan')\n",
    "    # Record metrics for this epoch and save them to csv\n",
    "    row = {\n",
    "        \"epoch\": epoch + 1, \n",
    "        \"avg_loss\": avg_loss, \n",
    "        \"lr\": cur_lr,\n",
    "        \"inb_top1\": inb[\"Top@1\"], \n",
    "        \"inb_top5\": inb[\"Top@5\"], \n",
    "        \"inb_top10\": inb[\"Top@10\"],\n",
    "        \"full_R@1\": rec[\"R@1\"], \n",
    "        \"full_R@5\": rec[\"R@5\"], \n",
    "        \"full_R@10\": rec[\"R@10\"],\n",
    "        \"full_median_rank\": rec[\"median_rank\"], \n",
    "        \"full_mean_rank\": rec[\"mean_rank\"],\n",
    "        \"did_full_gallery\": do_full,\n",
    "        \"epoch_time_sec\": epoch_time,\n",
    "        \"throughput_samples_per_sec\": throughput,\n",
    "        \"full_eval_time_sec\": full_eval_time,\n",
    "        \"trainable_params_M\": trainable_params / 1e6,\n",
    "        \"total_params_M\": total_params / 1e6,\n",
    "        \"ckpt_current_MB\": cur_ckpt_mb,\n",
    "        \"ckpt_best_MB\": best_ckpt_mb\n",
    "    }\n",
    "    epoch_logs.append(row)\n",
    "    pd.DataFrame(epoch_logs).to_csv(csv_path, index = False)\n",
    "    # Decide whether to do the early stopping\n",
    "    if improved_proxy: # If the proxy improves, update it\n",
    "        best_proxy = proxy\n",
    "        wait = 0\n",
    "    else: # If not, increase the wait counter\n",
    "        wait += 1\n",
    "        print(f\"Early stop counter: {wait} / {patience}\")\n",
    "    if wait >= patience: # If the wait number bigger than patience, stop training early and print the best recorded scores\n",
    "        print(f\"Early stopping at epoch {epoch + 1}. Best full R@1 = {best_full:.4f}, best in-batch Top@1 = {best_proxy:.4f}\")\n",
    "        break\n",
    "    # Save all the metrics for each epoch\n",
    "    torch.save({\n",
    "        \"epoch\": epoch, \n",
    "        \"best_epoch\": best_epoch,\n",
    "        \"model_state_dict\": model.state_dict(),\n",
    "        \"optimizer_state_dict\": optimizer.state_dict(),\n",
    "        \"scheduler_state_dict\": scheduler.state_dict(),\n",
    "        \"avg_losses\": avg_losses, \n",
    "        \"val_accs\": val_accs,\n",
    "        \"best_val_acc\": best_full,\n",
    "        \"full_top1_list\": full_top1_list, \n",
    "        \"full_top5_list\": full_top5_list, \n",
    "        \"full_top10_list\": full_top10_list,\n",
    "        \"inb_top1_list\": inb_top1_list, \n",
    "        \"inb_top5_list\": inb_top5_list, \n",
    "        \"inb_top10_list\": inb_top10_list\n",
    "    }, cp_path)\n",
    "\n",
    "total_time = time.time() - run_start\n",
    "print(f\"\\nTotal training wall time: {total_time / 60:.1f} minutes.\")"
   ]
  },
  {
   "cell_type": "code",
   "execution_count": 8,
   "id": "55fa567e-5991-48a4-be8a-6e94084e5667",
   "metadata": {},
   "outputs": [
    {
     "data": {
      "text/html": [
       "<div>\n",
       "<style scoped>\n",
       "    .dataframe tbody tr th:only-of-type {\n",
       "        vertical-align: middle;\n",
       "    }\n",
       "\n",
       "    .dataframe tbody tr th {\n",
       "        vertical-align: top;\n",
       "    }\n",
       "\n",
       "    .dataframe thead th {\n",
       "        text-align: right;\n",
       "    }\n",
       "</style>\n",
       "<table border=\"1\" class=\"dataframe\">\n",
       "  <thead>\n",
       "    <tr style=\"text-align: right;\">\n",
       "      <th></th>\n",
       "      <th>epoch</th>\n",
       "      <th>avg_loss</th>\n",
       "      <th>lr</th>\n",
       "      <th>inb_top1</th>\n",
       "      <th>inb_top5</th>\n",
       "      <th>inb_top10</th>\n",
       "      <th>full_R@1</th>\n",
       "      <th>full_R@5</th>\n",
       "      <th>full_R@10</th>\n",
       "      <th>full_median_rank</th>\n",
       "      <th>full_mean_rank</th>\n",
       "      <th>did_full_gallery</th>\n",
       "      <th>epoch_time_sec</th>\n",
       "      <th>throughput_samples_per_sec</th>\n",
       "      <th>full_eval_time_sec</th>\n",
       "      <th>trainable_params_M</th>\n",
       "      <th>total_params_M</th>\n",
       "      <th>ckpt_current_MB</th>\n",
       "      <th>ckpt_best_MB</th>\n",
       "    </tr>\n",
       "  </thead>\n",
       "  <tbody>\n",
       "    <tr>\n",
       "      <th>0</th>\n",
       "      <td>1</td>\n",
       "      <td>2.252486</td>\n",
       "      <td>0.000050</td>\n",
       "      <td>0.332566</td>\n",
       "      <td>0.801380</td>\n",
       "      <td>0.956800</td>\n",
       "      <td>0.002812</td>\n",
       "      <td>0.017638</td>\n",
       "      <td>0.030419</td>\n",
       "      <td>372.0</td>\n",
       "      <td>647.014832</td>\n",
       "      <td>True</td>\n",
       "      <td>1543.602740</td>\n",
       "      <td>10.136675</td>\n",
       "      <td>89.019460</td>\n",
       "      <td>151.277313</td>\n",
       "      <td>151.277313</td>\n",
       "      <td>NaN</td>\n",
       "      <td>1815.815119</td>\n",
       "    </tr>\n",
       "    <tr>\n",
       "      <th>1</th>\n",
       "      <td>2</td>\n",
       "      <td>1.688445</td>\n",
       "      <td>0.000049</td>\n",
       "      <td>0.375256</td>\n",
       "      <td>0.820041</td>\n",
       "      <td>0.954755</td>\n",
       "      <td>0.006646</td>\n",
       "      <td>0.028119</td>\n",
       "      <td>0.050613</td>\n",
       "      <td>311.0</td>\n",
       "      <td>591.307251</td>\n",
       "      <td>True</td>\n",
       "      <td>1534.646318</td>\n",
       "      <td>10.195835</td>\n",
       "      <td>86.082385</td>\n",
       "      <td>151.277313</td>\n",
       "      <td>151.277313</td>\n",
       "      <td>1815.807129</td>\n",
       "      <td>1815.815183</td>\n",
       "    </tr>\n",
       "    <tr>\n",
       "      <th>2</th>\n",
       "      <td>3</td>\n",
       "      <td>1.204971</td>\n",
       "      <td>0.000047</td>\n",
       "      <td>0.398517</td>\n",
       "      <td>0.829243</td>\n",
       "      <td>0.964980</td>\n",
       "      <td>0.007669</td>\n",
       "      <td>0.029908</td>\n",
       "      <td>0.059049</td>\n",
       "      <td>261.0</td>\n",
       "      <td>550.463928</td>\n",
       "      <td>True</td>\n",
       "      <td>1496.766978</td>\n",
       "      <td>10.453865</td>\n",
       "      <td>86.656485</td>\n",
       "      <td>151.277313</td>\n",
       "      <td>151.277313</td>\n",
       "      <td>1815.807193</td>\n",
       "      <td>1815.815247</td>\n",
       "    </tr>\n",
       "    <tr>\n",
       "      <th>3</th>\n",
       "      <td>4</td>\n",
       "      <td>0.868176</td>\n",
       "      <td>0.000045</td>\n",
       "      <td>0.427914</td>\n",
       "      <td>0.859663</td>\n",
       "      <td>0.964980</td>\n",
       "      <td>0.012781</td>\n",
       "      <td>0.039366</td>\n",
       "      <td>0.068763</td>\n",
       "      <td>243.0</td>\n",
       "      <td>503.131378</td>\n",
       "      <td>True</td>\n",
       "      <td>1473.863994</td>\n",
       "      <td>10.616312</td>\n",
       "      <td>86.783250</td>\n",
       "      <td>151.277313</td>\n",
       "      <td>151.277313</td>\n",
       "      <td>1815.807257</td>\n",
       "      <td>1815.815311</td>\n",
       "    </tr>\n",
       "    <tr>\n",
       "      <th>4</th>\n",
       "      <td>5</td>\n",
       "      <td>0.627183</td>\n",
       "      <td>0.000043</td>\n",
       "      <td>0.438395</td>\n",
       "      <td>0.856339</td>\n",
       "      <td>0.966002</td>\n",
       "      <td>0.009969</td>\n",
       "      <td>0.042434</td>\n",
       "      <td>0.073620</td>\n",
       "      <td>223.0</td>\n",
       "      <td>504.819031</td>\n",
       "      <td>True</td>\n",
       "      <td>1475.772867</td>\n",
       "      <td>10.602580</td>\n",
       "      <td>88.173786</td>\n",
       "      <td>151.277313</td>\n",
       "      <td>151.277313</td>\n",
       "      <td>1815.807321</td>\n",
       "      <td>1815.815311</td>\n",
       "    </tr>\n",
       "    <tr>\n",
       "      <th>5</th>\n",
       "      <td>6</td>\n",
       "      <td>0.471362</td>\n",
       "      <td>0.000040</td>\n",
       "      <td>0.449898</td>\n",
       "      <td>0.861708</td>\n",
       "      <td>0.971626</td>\n",
       "      <td>0.012781</td>\n",
       "      <td>0.043712</td>\n",
       "      <td>0.074387</td>\n",
       "      <td>217.0</td>\n",
       "      <td>482.594330</td>\n",
       "      <td>True</td>\n",
       "      <td>1526.309511</td>\n",
       "      <td>10.251525</td>\n",
       "      <td>87.904013</td>\n",
       "      <td>151.277313</td>\n",
       "      <td>151.277313</td>\n",
       "      <td>1815.807385</td>\n",
       "      <td>1815.815311</td>\n",
       "    </tr>\n",
       "    <tr>\n",
       "      <th>6</th>\n",
       "      <td>7</td>\n",
       "      <td>0.365842</td>\n",
       "      <td>0.000036</td>\n",
       "      <td>0.457055</td>\n",
       "      <td>0.858129</td>\n",
       "      <td>0.966513</td>\n",
       "      <td>0.012781</td>\n",
       "      <td>0.048569</td>\n",
       "      <td>0.082311</td>\n",
       "      <td>213.0</td>\n",
       "      <td>487.489777</td>\n",
       "      <td>True</td>\n",
       "      <td>1507.366831</td>\n",
       "      <td>10.380353</td>\n",
       "      <td>86.209209</td>\n",
       "      <td>151.277313</td>\n",
       "      <td>151.277313</td>\n",
       "      <td>1815.807449</td>\n",
       "      <td>1815.815311</td>\n",
       "    </tr>\n",
       "    <tr>\n",
       "      <th>7</th>\n",
       "      <td>8</td>\n",
       "      <td>0.279747</td>\n",
       "      <td>0.000033</td>\n",
       "      <td>0.477761</td>\n",
       "      <td>0.861963</td>\n",
       "      <td>0.974693</td>\n",
       "      <td>0.015849</td>\n",
       "      <td>0.050358</td>\n",
       "      <td>0.088190</td>\n",
       "      <td>196.0</td>\n",
       "      <td>462.633942</td>\n",
       "      <td>True</td>\n",
       "      <td>1475.057977</td>\n",
       "      <td>10.607719</td>\n",
       "      <td>86.527785</td>\n",
       "      <td>151.277313</td>\n",
       "      <td>151.277313</td>\n",
       "      <td>1815.807577</td>\n",
       "      <td>1815.815631</td>\n",
       "    </tr>\n",
       "    <tr>\n",
       "      <th>8</th>\n",
       "      <td>9</td>\n",
       "      <td>0.222840</td>\n",
       "      <td>0.000029</td>\n",
       "      <td>0.464213</td>\n",
       "      <td>0.863241</td>\n",
       "      <td>0.972904</td>\n",
       "      <td>0.016104</td>\n",
       "      <td>0.053937</td>\n",
       "      <td>0.087168</td>\n",
       "      <td>205.0</td>\n",
       "      <td>478.408997</td>\n",
       "      <td>True</td>\n",
       "      <td>2535.343358</td>\n",
       "      <td>6.171551</td>\n",
       "      <td>86.067281</td>\n",
       "      <td>151.277313</td>\n",
       "      <td>151.277313</td>\n",
       "      <td>1815.807641</td>\n",
       "      <td>1815.815631</td>\n",
       "    </tr>\n",
       "    <tr>\n",
       "      <th>9</th>\n",
       "      <td>10</td>\n",
       "      <td>0.181358</td>\n",
       "      <td>0.000025</td>\n",
       "      <td>0.459356</td>\n",
       "      <td>0.859407</td>\n",
       "      <td>0.966258</td>\n",
       "      <td>NaN</td>\n",
       "      <td>NaN</td>\n",
       "      <td>NaN</td>\n",
       "      <td>NaN</td>\n",
       "      <td>NaN</td>\n",
       "      <td>False</td>\n",
       "      <td>1510.910580</td>\n",
       "      <td>10.356007</td>\n",
       "      <td>NaN</td>\n",
       "      <td>151.277313</td>\n",
       "      <td>151.277313</td>\n",
       "      <td>1815.807705</td>\n",
       "      <td>1815.815631</td>\n",
       "    </tr>\n",
       "  </tbody>\n",
       "</table>\n",
       "</div>"
      ],
      "text/plain": [
       "   epoch  avg_loss        lr  inb_top1  inb_top5  inb_top10  full_R@1  \\\n",
       "0      1  2.252486  0.000050  0.332566  0.801380   0.956800  0.002812   \n",
       "1      2  1.688445  0.000049  0.375256  0.820041   0.954755  0.006646   \n",
       "2      3  1.204971  0.000047  0.398517  0.829243   0.964980  0.007669   \n",
       "3      4  0.868176  0.000045  0.427914  0.859663   0.964980  0.012781   \n",
       "4      5  0.627183  0.000043  0.438395  0.856339   0.966002  0.009969   \n",
       "5      6  0.471362  0.000040  0.449898  0.861708   0.971626  0.012781   \n",
       "6      7  0.365842  0.000036  0.457055  0.858129   0.966513  0.012781   \n",
       "7      8  0.279747  0.000033  0.477761  0.861963   0.974693  0.015849   \n",
       "8      9  0.222840  0.000029  0.464213  0.863241   0.972904  0.016104   \n",
       "9     10  0.181358  0.000025  0.459356  0.859407   0.966258       NaN   \n",
       "\n",
       "   full_R@5  full_R@10  full_median_rank  full_mean_rank  did_full_gallery  \\\n",
       "0  0.017638   0.030419             372.0      647.014832              True   \n",
       "1  0.028119   0.050613             311.0      591.307251              True   \n",
       "2  0.029908   0.059049             261.0      550.463928              True   \n",
       "3  0.039366   0.068763             243.0      503.131378              True   \n",
       "4  0.042434   0.073620             223.0      504.819031              True   \n",
       "5  0.043712   0.074387             217.0      482.594330              True   \n",
       "6  0.048569   0.082311             213.0      487.489777              True   \n",
       "7  0.050358   0.088190             196.0      462.633942              True   \n",
       "8  0.053937   0.087168             205.0      478.408997              True   \n",
       "9       NaN        NaN               NaN             NaN             False   \n",
       "\n",
       "   epoch_time_sec  throughput_samples_per_sec  full_eval_time_sec  \\\n",
       "0     1543.602740                   10.136675           89.019460   \n",
       "1     1534.646318                   10.195835           86.082385   \n",
       "2     1496.766978                   10.453865           86.656485   \n",
       "3     1473.863994                   10.616312           86.783250   \n",
       "4     1475.772867                   10.602580           88.173786   \n",
       "5     1526.309511                   10.251525           87.904013   \n",
       "6     1507.366831                   10.380353           86.209209   \n",
       "7     1475.057977                   10.607719           86.527785   \n",
       "8     2535.343358                    6.171551           86.067281   \n",
       "9     1510.910580                   10.356007                 NaN   \n",
       "\n",
       "   trainable_params_M  total_params_M  ckpt_current_MB  ckpt_best_MB  \n",
       "0          151.277313      151.277313              NaN   1815.815119  \n",
       "1          151.277313      151.277313      1815.807129   1815.815183  \n",
       "2          151.277313      151.277313      1815.807193   1815.815247  \n",
       "3          151.277313      151.277313      1815.807257   1815.815311  \n",
       "4          151.277313      151.277313      1815.807321   1815.815311  \n",
       "5          151.277313      151.277313      1815.807385   1815.815311  \n",
       "6          151.277313      151.277313      1815.807449   1815.815311  \n",
       "7          151.277313      151.277313      1815.807577   1815.815631  \n",
       "8          151.277313      151.277313      1815.807641   1815.815631  \n",
       "9          151.277313      151.277313      1815.807705   1815.815631  "
      ]
     },
     "metadata": {},
     "output_type": "display_data"
    },
    {
     "data": {
      "image/png": "[encoded data removed]",
      "text/plain": [
       "<Figure size 600x400 with 1 Axes>"
      ]
     },
     "metadata": {},
     "output_type": "display_data"
    },
    {
     "data": {
      "image/png": "[encoded data removed]",
      "text/plain": [
       "<Figure size 600x400 with 1 Axes>"
      ]
     },
     "metadata": {},
     "output_type": "display_data"
    },
    {
     "name": "stdout",
     "output_type": "stream",
     "text": [
      "\n",
      "Best epoch: 8, Best full R@1: 0.0158\n"
     ]
    }
   ],
   "source": [
    "import pandas as pd\n",
    "\n",
    "# Save results\n",
    "epoch_m1 = pd.DataFrame(epoch_logs)\n",
    "display(epoch_m1)\n",
    "epoch_m1_path = os.path.join(out_dir, \"m1_epoch_metrics.csv\")\n",
    "epoch_m1.to_csv(epoch_m1_path, index = False)\n",
    "\n",
    "# Visualise the CLIP training average loss\n",
    "plt.figure(figsize = (6, 4))\n",
    "plt.plot(epoch_m1[\"epoch\"],\n",
    "         epoch_m1[\"avg_loss\"],\n",
    "         marker = \"o\",\n",
    "         linestyle = \"-\",\n",
    "         label = \"Average Loss\")\n",
    "plt.title(\"Model 1 CLIP Average Training Loss per Epoch on SemiCorpus\")\n",
    "plt.xlabel(\"Epoch\")\n",
    "plt.ylabel(\"Average Loss\")\n",
    "plt.grid(True)\n",
    "plt.legend()\n",
    "loss_png = os.path.join(out_dir, \"loss_curve_m1.png\")\n",
    "plt.savefig(loss_png, dpi = 200)\n",
    "plt.show()\n",
    "plt.close()\n",
    "\n",
    "# Visualise the in-batch Top@1 curve\n",
    "plt.figure(figsize = (6, 4))\n",
    "plt.plot(epoch_m1[\"epoch\"],\n",
    "         epoch_m1[\"inb_top1\"],\n",
    "         marker = \"^\",\n",
    "         linestyle = \"-\",\n",
    "         label = \"In-batch Top@1\")\n",
    "plt.title(\"Validation Accuracy per Epoch\")\n",
    "plt.xlabel(\"Epoch\")\n",
    "plt.ylabel(\"Accuracy\")\n",
    "plt.grid(True)\n",
    "plt.legend()\n",
    "acc_png = os.path.join(out_dir, \"val_accuracy_m1.png\")\n",
    "plt.savefig(acc_png, dpi = 200)\n",
    "plt.show()\n",
    "plt.close()\n",
    "\n",
    "# Save the final model\n",
    "final_dir = os.path.join(out_dir, \"final_model\")\n",
    "os.makedirs(final_dir, exist_ok = True)\n",
    "model.save_pretrained(final_dir)\n",
    "processor.save_pretrained(final_dir)\n",
    "print(f\"\\nBest epoch: {best_epoch}, Best full R@1: {best_full:.4f}\")"
   ]
  }
 ],
 "metadata": {
  "kernelspec": {
   "display_name": "Python 3 (ipykernel)",
   "language": "python",
   "name": "python3"
  },
  "language_info": {
   "codemirror_mode": {
    "name": "ipython",
    "version": 3
   },
   "file_extension": ".py",
   "mimetype": "text/x-python",
   "name": "python",
   "nbconvert_exporter": "python",
   "pygments_lexer": "ipython3",
   "version": "3.12.2"
  }
 },
 "nbformat": 4,
 "nbformat_minor": 5
}
