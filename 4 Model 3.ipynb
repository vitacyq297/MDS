{
 "cells": [
  {
   "cell_type": "code",
   "execution_count": 1,
   "id": "b298d38b-c033-486c-b03a-a7f8536c265b",
   "metadata": {},
   "outputs": [
    {
     "name": "stdout",
     "output_type": "stream",
     "text": [
      "Using mps\n",
      "Parameters size: total = 151.28M, trainable = 151.28M\n",
      "\n",
      " Epoch: 1 / 20\n"
     ]
    },
    {
     "name": "stderr",
     "output_type": "stream",
     "text": [
      "  0%|                                           | 1/681 [00:02<28:46,  2.54s/it]"
     ]
    },
    {
     "name": "stdout",
     "output_type": "stream",
     "text": [
      "Step 0: Loss = 1.1173\n"
     ]
    },
    {
     "name": "stderr",
     "output_type": "stream",
     "text": [
      " 15%|██████                                   | 101/681 [02:54<15:29,  1.60s/it]"
     ]
    },
    {
     "name": "stdout",
     "output_type": "stream",
     "text": [
      "Step 100: Loss = 1.9005\n"
     ]
    },
    {
     "name": "stderr",
     "output_type": "stream",
     "text": [
      " 30%|████████████                             | 201/681 [05:46<13:07,  1.64s/it]"
     ]
    },
    {
     "name": "stdout",
     "output_type": "stream",
     "text": [
      "Step 200: Loss = 1.6872\n"
     ]
    },
    {
     "name": "stderr",
     "output_type": "stream",
     "text": [
      " 44%|██████████████████                       | 301/681 [08:31<10:25,  1.65s/it]"
     ]
    },
    {
     "name": "stdout",
     "output_type": "stream",
     "text": [
      "Step 300: Loss = 1.6064\n"
     ]
    },
    {
     "name": "stderr",
     "output_type": "stream",
     "text": [
      " 59%|████████████████████████▏                | 401/681 [11:20<07:17,  1.56s/it]"
     ]
    },
    {
     "name": "stdout",
     "output_type": "stream",
     "text": [
      "Step 400: Loss = 1.6535\n"
     ]
    },
    {
     "name": "stderr",
     "output_type": "stream",
     "text": [
      " 74%|██████████████████████████████▏          | 501/681 [14:00<04:47,  1.60s/it]"
     ]
    },
    {
     "name": "stdout",
     "output_type": "stream",
     "text": [
      "Step 500: Loss = 2.0909\n"
     ]
    },
    {
     "name": "stderr",
     "output_type": "stream",
     "text": [
      " 88%|████████████████████████████████████▏    | 601/681 [16:42<02:05,  1.57s/it]"
     ]
    },
    {
     "name": "stdout",
     "output_type": "stream",
     "text": [
      "Step 600: Loss = 1.6143\n"
     ]
    },
    {
     "name": "stderr",
     "output_type": "stream",
     "text": [
      "100%|█████████████████████████████████████████| 681/681 [18:54<00:00,  1.67s/it]\n"
     ]
    },
    {
     "name": "stdout",
     "output_type": "stream",
     "text": [
      "Full-gallery R@1: 0.0120, R@5: 0.0578, R@10: 0.1299\n",
      "Saved Best (full) checkpoint: epoch 1, full-gallery R@1 = 0.0120\n",
      "Epoch 1: avg_loss = 1.6835; in-batch Top@1 = 0.1486, lr = 4.97e-05\n",
      "\n",
      " Epoch: 2 / 20\n"
     ]
    },
    {
     "name": "stderr",
     "output_type": "stream",
     "text": [
      "  0%|                                           | 1/681 [00:02<25:16,  2.23s/it]"
     ]
    },
    {
     "name": "stdout",
     "output_type": "stream",
     "text": [
      "Step 0: Loss = 1.1406\n"
     ]
    },
    {
     "name": "stderr",
     "output_type": "stream",
     "text": [
      " 15%|██████                                   | 101/681 [02:54<17:30,  1.81s/it]"
     ]
    },
    {
     "name": "stdout",
     "output_type": "stream",
     "text": [
      "Step 100: Loss = 0.9159\n"
     ]
    },
    {
     "name": "stderr",
     "output_type": "stream",
     "text": [
      " 30%|████████████                             | 201/681 [05:45<13:15,  1.66s/it]"
     ]
    },
    {
     "name": "stdout",
     "output_type": "stream",
     "text": [
      "Step 200: Loss = 1.5160\n"
     ]
    },
    {
     "name": "stderr",
     "output_type": "stream",
     "text": [
      " 44%|██████████████████                       | 301/681 [08:32<10:08,  1.60s/it]"
     ]
    },
    {
     "name": "stdout",
     "output_type": "stream",
     "text": [
      "Step 300: Loss = 1.4960\n"
     ]
    },
    {
     "name": "stderr",
     "output_type": "stream",
     "text": [
      " 59%|████████████████████████▏                | 401/681 [11:20<07:27,  1.60s/it]"
     ]
    },
    {
     "name": "stdout",
     "output_type": "stream",
     "text": [
      "Step 400: Loss = 1.3952\n"
     ]
    },
    {
     "name": "stderr",
     "output_type": "stream",
     "text": [
      " 74%|██████████████████████████████▏          | 501/681 [14:04<05:34,  1.86s/it]"
     ]
    },
    {
     "name": "stdout",
     "output_type": "stream",
     "text": [
      "Step 500: Loss = 0.6161\n"
     ]
    },
    {
     "name": "stderr",
     "output_type": "stream",
     "text": [
      " 88%|████████████████████████████████████▏    | 601/681 [17:03<02:25,  1.82s/it]"
     ]
    },
    {
     "name": "stdout",
     "output_type": "stream",
     "text": [
      "Step 600: Loss = 1.2007\n"
     ]
    },
    {
     "name": "stderr",
     "output_type": "stream",
     "text": [
      "100%|█████████████████████████████████████████| 681/681 [19:13<00:00,  1.69s/it]\n"
     ]
    },
    {
     "name": "stdout",
     "output_type": "stream",
     "text": [
      "Full-gallery R@1: 0.0173, R@5: 0.0743, R@10: 0.1396\n",
      "Saved Best (full) checkpoint: epoch 2, full-gallery R@1 = 0.0173\n",
      "Epoch 2: avg_loss = 1.1903; in-batch Top@1 = 0.1509, lr = 4.88e-05\n",
      "\n",
      " Epoch: 3 / 20\n"
     ]
    },
    {
     "name": "stderr",
     "output_type": "stream",
     "text": [
      "  0%|                                           | 1/681 [00:01<19:44,  1.74s/it]"
     ]
    },
    {
     "name": "stdout",
     "output_type": "stream",
     "text": [
      "Step 0: Loss = 0.6125\n"
     ]
    },
    {
     "name": "stderr",
     "output_type": "stream",
     "text": [
      " 15%|██████                                   | 101/681 [02:55<14:45,  1.53s/it]"
     ]
    },
    {
     "name": "stdout",
     "output_type": "stream",
     "text": [
      "Step 100: Loss = 1.1535\n"
     ]
    },
    {
     "name": "stderr",
     "output_type": "stream",
     "text": [
      " 30%|████████████                             | 201/681 [05:36<13:33,  1.70s/it]"
     ]
    },
    {
     "name": "stdout",
     "output_type": "stream",
     "text": [
      "Step 200: Loss = 1.1901\n"
     ]
    },
    {
     "name": "stderr",
     "output_type": "stream",
     "text": [
      " 44%|██████████████████                       | 301/681 [08:25<10:10,  1.61s/it]"
     ]
    },
    {
     "name": "stdout",
     "output_type": "stream",
     "text": [
      "Step 300: Loss = 0.6026\n"
     ]
    },
    {
     "name": "stderr",
     "output_type": "stream",
     "text": [
      " 59%|████████████████████████▏                | 401/681 [11:09<07:27,  1.60s/it]"
     ]
    },
    {
     "name": "stdout",
     "output_type": "stream",
     "text": [
      "Step 400: Loss = 1.0128\n"
     ]
    },
    {
     "name": "stderr",
     "output_type": "stream",
     "text": [
      " 74%|██████████████████████████████▏          | 501/681 [14:00<04:42,  1.57s/it]"
     ]
    },
    {
     "name": "stdout",
     "output_type": "stream",
     "text": [
      "Step 500: Loss = 0.6786\n"
     ]
    },
    {
     "name": "stderr",
     "output_type": "stream",
     "text": [
      " 88%|████████████████████████████████████▏    | 601/681 [16:39<02:09,  1.62s/it]"
     ]
    },
    {
     "name": "stdout",
     "output_type": "stream",
     "text": [
      "Step 600: Loss = 0.7704\n"
     ]
    },
    {
     "name": "stderr",
     "output_type": "stream",
     "text": [
      "100%|█████████████████████████████████████████| 681/681 [19:03<00:00,  1.68s/it]\n"
     ]
    },
    {
     "name": "stdout",
     "output_type": "stream",
     "text": [
      "Skip full-gallery this epoch. In-batch Top@1: 0.1456, Top@5: 0.6089, Top@10: 0.8866\n",
      "Epoch 3: avg_loss = 0.8539; in-batch Top@1 = 0.1456, lr = 4.73e-05\n",
      "Early stop counter: 1 / 2\n",
      "\n",
      " Epoch: 4 / 20\n"
     ]
    },
    {
     "name": "stderr",
     "output_type": "stream",
     "text": [
      "  0%|                                           | 1/681 [00:01<19:50,  1.75s/it]"
     ]
    },
    {
     "name": "stdout",
     "output_type": "stream",
     "text": [
      "Step 0: Loss = 0.4520\n"
     ]
    },
    {
     "name": "stderr",
     "output_type": "stream",
     "text": [
      " 15%|██████                                   | 101/681 [02:52<15:55,  1.65s/it]"
     ]
    },
    {
     "name": "stdout",
     "output_type": "stream",
     "text": [
      "Step 100: Loss = 0.2767\n"
     ]
    },
    {
     "name": "stderr",
     "output_type": "stream",
     "text": [
      " 30%|████████████                             | 201/681 [05:33<13:25,  1.68s/it]"
     ]
    },
    {
     "name": "stdout",
     "output_type": "stream",
     "text": [
      "Step 200: Loss = 0.6727\n"
     ]
    },
    {
     "name": "stderr",
     "output_type": "stream",
     "text": [
      " 44%|██████████████████                       | 301/681 [08:23<10:12,  1.61s/it]"
     ]
    },
    {
     "name": "stdout",
     "output_type": "stream",
     "text": [
      "Step 300: Loss = 0.4946\n"
     ]
    },
    {
     "name": "stderr",
     "output_type": "stream",
     "text": [
      " 59%|████████████████████████▏                | 401/681 [11:12<07:28,  1.60s/it]"
     ]
    },
    {
     "name": "stdout",
     "output_type": "stream",
     "text": [
      "Step 400: Loss = 0.7488\n"
     ]
    },
    {
     "name": "stderr",
     "output_type": "stream",
     "text": [
      " 74%|██████████████████████████████▏          | 501/681 [13:57<04:42,  1.57s/it]"
     ]
    },
    {
     "name": "stdout",
     "output_type": "stream",
     "text": [
      "Step 500: Loss = 0.4534\n"
     ]
    },
    {
     "name": "stderr",
     "output_type": "stream",
     "text": [
      " 88%|████████████████████████████████████▏    | 601/681 [16:38<02:14,  1.68s/it]"
     ]
    },
    {
     "name": "stdout",
     "output_type": "stream",
     "text": [
      "Step 600: Loss = 1.0067\n"
     ]
    },
    {
     "name": "stderr",
     "output_type": "stream",
     "text": [
      "100%|█████████████████████████████████████████| 681/681 [18:48<00:00,  1.66s/it]\n"
     ]
    },
    {
     "name": "stdout",
     "output_type": "stream",
     "text": [
      "Skip full-gallery this epoch. In-batch Top@1: 0.1411, Top@5: 0.5961, Top@10: 0.8731\n",
      "Epoch 4: avg_loss = 0.6454; in-batch Top@1 = 0.1411, lr = 4.53e-05\n",
      "Early stop counter: 2 / 2\n",
      "Early stopping at epoch 4. Best full R@1 = 0.0173, best in-batch Top@1 = 0.1509\n",
      "\n",
      "Total training wall time: 80.4 minutes.\n"
     ]
    }
   ],
   "source": [
    "# -------------------- Model 3: SubCorpus + CLIP --------------------\n",
    "import pandas as pd\n",
    "import os\n",
    "import random\n",
    "import numpy as np\n",
    "from tqdm import tqdm\n",
    "from PIL import Image\n",
    "import torch\n",
    "from torch.utils.data import Dataset, DataLoader\n",
    "from transformers import CLIPProcessor, CLIPModel\n",
    "import matplotlib.pyplot as plt\n",
    "from torch.optim import AdamW \n",
    "from torch.optim.lr_scheduler import CosineAnnealingLR\n",
    "from IPython.display import display\n",
    "import torch.nn.functional as F\n",
    "import unicodedata\n",
    "from collections import Counter\n",
    "import time\n",
    "\n",
    "# Set seed for reproducibility\n",
    "random.seed(985)\n",
    "np.random.seed(985)\n",
    "torch.manual_seed(985)\n",
    "\n",
    "# Load the datasets and image folder\n",
    "m3_train = pd.read_csv(\"/Users/cyq/Desktop/Dissertation/Database/SubCorpus_to_train.csv\")\n",
    "m3_val= pd.read_csv(\"/Users/cyq/Desktop/Dissertation/Database/SubCorpus_to_validation.csv\")\n",
    "\n",
    "# Define a dataset for Model 3\n",
    "class ArtEmisDataset(Dataset):\n",
    "    # Intialise the dataframe and CLIP precessor\n",
    "    def __init__(self, df, processor): \n",
    "        self.data = df.reset_index(drop = True)\n",
    "        self.processor = processor\n",
    "        self.valid_idx = [i for i in range(len(self.data))\n",
    "                          if os.path.exists(str(self.data.iloc[i][\"PATH\"]))]\n",
    "    # Extract samples by rows\n",
    "    def __getitem__(self, idx):\n",
    "        ridx = self.valid_idx[idx]\n",
    "        row = self.data.iloc[ridx] # Select the ith row from the dataframe\n",
    "        path = row[\"PATH\"] # Find the path\n",
    "        text = str(row[\"UTTERANCE\"]) if not pd.isna(row[\"UTTERANCE\"]) else \"\" # Find the paired description\n",
    "        # Try to open the image\n",
    "        try:\n",
    "            img = Image.open(path).convert(\"RGB\")\n",
    "        except Exception:\n",
    "            img = Image.new(\"RGB\", (224, 224), \"white\")\n",
    "            print(f\"Warning: Failed to load {path}, using white image\")\n",
    "        # Preprocess both text and image\n",
    "        inputs = self.processor(text = [text], \n",
    "                                images = img, \n",
    "                                return_tensors = \"pt\",\n",
    "                                padding = \"max_length\", \n",
    "                                truncation = True, \n",
    "                                max_length = 77)\n",
    "        # Return a dictionary contains input_ids, attention_mask and pixel_values\n",
    "        return {\n",
    "            \"input_ids\": inputs[\"input_ids\"].squeeze(0),\n",
    "            \"attention_mask\": inputs[\"attention_mask\"].squeeze(0),\n",
    "            \"pixel_values\": inputs[\"pixel_values\"].squeeze(0)\n",
    "        }\n",
    "    # Compute the length of dataset\n",
    "    def __len__(self):\n",
    "        return len(self.valid_idx)\n",
    "\n",
    "\n",
    "# Define a function to evaluate model performance by using full-gallery retrieval\n",
    "@torch.no_grad()\n",
    "def evaluate_full_gallery(model, val_loader, device, topk = (1, 5, 10), chunk = 256):\n",
    "    # Set the model to evaluation mode\n",
    "    model.eval()\n",
    "    # Create empty lists to contain all images and texts\n",
    "    all_img = []\n",
    "    all_txt = []\n",
    "    # Loop through the validation dataloader to extract features\n",
    "    for b in val_loader:\n",
    "        ids = b[\"input_ids\"].to(device)\n",
    "        attn = b[\"attention_mask\"].to(device)\n",
    "        pix = b[\"pixel_values\"].to(device)\n",
    "        # Extract CLIP image and text features\n",
    "        img = model.get_image_features(pix)\n",
    "        txt = model.get_text_features(input_ids = ids, attention_mask = attn)\n",
    "        # Normalize embeddings to unit length\n",
    "        img = img / img.norm(p = 2, dim = -1, keepdim = True)\n",
    "        txt = txt / txt.norm(p = 2, dim = -1, keepdim = True)\n",
    "        # Add them into lists separatelt\n",
    "        all_img.append(img)\n",
    "        all_txt.append(txt)\n",
    "    # Combine all batches into single tensors\n",
    "    all_img = torch.cat(all_img, 0)\n",
    "    all_txt = torch.cat(all_txt, 0)\n",
    "    # Set N as the number of validation samples\n",
    "    N = all_txt.size(0)\n",
    "    # Get the learned logit scale\n",
    "    logit_scale = model.logit_scale.exp().clamp_max(100.0)\n",
    "    # Prepare to count Recall@K metrics\n",
    "    max_k = max(topk)\n",
    "    hits = {k:0 for k in topk} # Count of correct matches for each K\n",
    "    ranks_list = [] # Create an empty list to contain the ground truth's rank position\n",
    "    # Compute similarity\n",
    "    for i in range(0, N, chunk):\n",
    "        i_end = min(i + chunk, N)\n",
    "        sims = logit_scale * (all_txt[i:i_end]@all_img.T) # Similarity matrix\n",
    "        # Get the indices of top-k most similar images\n",
    "        topk_idx = sims.topk(k = max_k, dim = 1).indices\n",
    "        # Ground truth indices\n",
    "        gt = torch.arange(i, i_end, device = sims.device)\n",
    "        # Loop through to count Recall@K hits\n",
    "        for k in topk:\n",
    "            hits[k] += (topk_idx[:, :k] == gt.unsqueeze(1)).any(dim = 1).sum().item()\n",
    "        # Compute the rank position of the ground truth image for each query\n",
    "        gt_scores = sims.gather(1, gt.unsqueeze(1))\n",
    "        ranks_list.append((sims >= gt_scores).sum(dim = 1).cpu())\n",
    "    # Combine all rank positions\n",
    "    ranks = torch.cat(ranks_list,0)\n",
    "    # Calculate recall metrics\n",
    "    rec = {f\"R@{k}\": hits[k] / float(N) for k in topk}\n",
    "    rec[\"top1\"] = rec[\"R@1\"]\n",
    "    rec[\"median_rank\"] = ranks.median().item()\n",
    "    rec[\"mean_rank\"] = ranks.float().mean().item()\n",
    "    return rec\n",
    "\n",
    "# Define a function to evaluate model performance by using in-batch retrieval\n",
    "@torch.no_grad()\n",
    "def evaluate_in_batch(model, loader, device, topk = (1, 5, 10)):\n",
    "    # Put the model in evaluation mode\n",
    "    model.eval()\n",
    "    # Initialize counters for the number of correct matches at each K value\n",
    "    hits = {k: 0 for k in topk}\n",
    "    # Total number of samples evaluated start from 0\n",
    "    total = 0\n",
    "    # Loop through each batch\n",
    "    for b in loader:\n",
    "        # Move text and image inputs to device\n",
    "        ids = b[\"input_ids\"].to(device)\n",
    "        attn = b[\"attention_mask\"].to(device)\n",
    "        pix = b[\"pixel_values\"].to(device)\n",
    "        # Extract image and text embeddings and normalize embeddings to unit length\n",
    "        img = F.normalize(model.get_image_features(pixel_values = pix), dim = -1)\n",
    "        txt = F.normalize(model.get_text_features(input_ids = ids, attention_mask = attn), dim = -1)\n",
    "        # Compute similarity matrix between texts and images within the same batch\n",
    "        S = model.logit_scale.exp().clamp_max(100.0) * (txt @ img.T)\n",
    "        # Get the maximum K value to optimize computation\n",
    "        maxk_req = max(topk)\n",
    "        maxk_eff = min(maxk_req, S.size(1))\n",
    "        # Use topk to get indices of most similar images\n",
    "        topk_idx = S.topk(k = maxk_eff, dim = 1).indices\n",
    "        # Ground truth labels, each text should match the image at the same index\n",
    "        labels = torch.arange(S.size(0), device = device)\n",
    "        # Calculate the number of hits for each K value\n",
    "        for k in topk:\n",
    "            kk = min(k, S.size(1))\n",
    "            hits[k] += (topk_idx[:, :kk] == labels.unsqueeze(1)).any(dim = 1).sum().item()\n",
    "        # Update total number of evaluated samples\n",
    "        total += S.size(0)\n",
    "    return {f\"Top@{k}\": hits[k] / max(total, 1) for k in topk}\n",
    "\n",
    "# Set processor, model and device\n",
    "processor = CLIPProcessor.from_pretrained(\"openai/clip-vit-base-patch32\", use_fast = False)\n",
    "model = CLIPModel.from_pretrained(\"openai/clip-vit-base-patch32\")\n",
    "device = torch.device(\"mps\" if torch.backends.mps.is_available() else \"cpu\")\n",
    "print(\"Using\", device)\n",
    "model.to(device) # Move model's parameters to the device\n",
    "total_params = sum(p.numel() for p in model.parameters())\n",
    "trainable_params = sum(p.numel() for p in model.parameters() if p.requires_grad)\n",
    "print(f\"Parameters size: total = {total_params / 1e6:.2f}M, trainable = {trainable_params / 1e6:.2f}M\")\n",
    "\n",
    "# Set dataloader, optimizer and scheduler\n",
    "m3_train_loader = DataLoader(ArtEmisDataset(m3_train, processor), \n",
    "                             batch_size = 16, \n",
    "                             shuffle = True,\n",
    "                             num_workers = 0,\n",
    "                             persistent_workers = False)\n",
    "m3_val_loader = DataLoader(ArtEmisDataset(m3_val, processor), \n",
    "                           batch_size = 16,\n",
    "                           shuffle = False,\n",
    "                           num_workers = 0,\n",
    "                           persistent_workers = False)\n",
    "optimizer = AdamW(model.parameters(), lr = 5e-5, weight_decay = 0.01)\n",
    "scheduler = CosineAnnealingLR(optimizer, T_max = 20, eta_min = 5e-7)\n",
    "run_start = time.time()\n",
    "train_set_size = len(m3_train_loader.dataset)\n",
    "val_set_size = len(m3_val_loader.dataset)\n",
    "total_time = 0.0\n",
    "\n",
    "# Define a directory to contain model\n",
    "out_dir = \"/Users/cyq/Desktop/Dissertation/Database/m3_clip_trained\"\n",
    "os.makedirs(out_dir, exist_ok = True) # Create the folder if it does not exist\n",
    "cp_path = os.path.join(out_dir, \"checkpoint.pt\") # Define the checkpoint saving path\n",
    "best_cp_path = os.path.join(out_dir, \"best_checkpoint.pt\") # Define the best checkpoint saving path\n",
    "csv_path = os.path.join(out_dir, \"epoch_metrics_m3.csv\") # Define the csv file saving path\n",
    "\n",
    "# Create empty lists to contain average losses and validation accuracy\n",
    "avg_losses = []\n",
    "val_accs = []\n",
    "\n",
    "# Create empty lists for full-gallery evaluation\n",
    "full_top1_list = []\n",
    "full_top5_list = []\n",
    "full_top10_list = []\n",
    "\n",
    "# Create empty lists for in-batch evaluation\n",
    "inb_top1_list = []\n",
    "inb_top5_list = []\n",
    "inb_top10_list = []\n",
    "\n",
    "# Create an empty list to contain all metrics in each epoch\n",
    "epoch_logs = []\n",
    "\n",
    "# Prepare for the early stopping\n",
    "patience = 2 # Number of consecutive epochs allowed without improvement\n",
    "wait = 0 # Number of consecutive epochs without improvement\n",
    "best_proxy = -1.0 # Highest recorded in-batch Top@1 accuracy\n",
    "best_full = -1.0 # Highest recorded full-gallery R@1 accuracy\n",
    "best_epoch = 0 # Epoch number when the best full-gallery R@1 was achieved\n",
    "EVAL_EVERY = 4 # Run full-gallery evaluation every N epochs to reduce computational cost\n",
    "min_delta = 1e-3 # Minimum improvement in the proxy metric required to reset the patience counter\n",
    "\n",
    "# Set the starting epoch\n",
    "start_epoch = 0\n",
    "\n",
    "# If the code running was disrupted or stopped, resume training from last checkpoint\n",
    "if os.path.exists(cp_path):\n",
    "    # Load the saved checkpoint\n",
    "    checkpoint = torch.load(cp_path, map_location = device)\n",
    "    # Restore the model weights\n",
    "    model.load_state_dict(checkpoint[\"model_state_dict\"])\n",
    "    # Restore the optimizer state\n",
    "    optimizer.load_state_dict(checkpoint[\"optimizer_state_dict\"])\n",
    "    # If the scheduler exist in the checkpoint, restore the scheduler state\n",
    "    if \"scheduler_state_dict\" in checkpoint:\n",
    "        scheduler.load_state_dict(checkpoint[\"scheduler_state_dict\"])\n",
    "    # Set the next starting epoch\n",
    "    start_epoch = checkpoint[\"epoch\"] + 1\n",
    "    # Restore previously recorded metrics\n",
    "    avg_losses = checkpoint.get(\"avg_losses\", [])\n",
    "    val_accs = checkpoint.get(\"val_accs\", [])\n",
    "    full_top1_list = checkpoint.get(\"full_top1_list\", [])\n",
    "    full_top5_list = checkpoint.get(\"full_top5_list\", [])\n",
    "    full_top10_list = checkpoint.get(\"full_top10_list\", [])\n",
    "    inb_top1_list = checkpoint.get(\"inb_top1_list\", [])\n",
    "    inb_top5_list = checkpoint.get(\"inb_top5_list\", [])\n",
    "    inb_top10_list = checkpoint.get(\"inb_top10_list\", [])\n",
    "    # Restore epoch with best performance\n",
    "    best_epoch = checkpoint.get(\"best_epoch\", 0)\n",
    "    best_full = checkpoint.get(\"best_val_acc\", -1)\n",
    "    # Print the loading state\n",
    "    print(f\"Loaded checkpoint from epoch {start_epoch}\")\n",
    "\n",
    "# Loop through the epoch to train the model\n",
    "for epoch in range(start_epoch, 20):\n",
    "    # Set the model to the train mode\n",
    "    model.train()\n",
    "    # Print the current epoch number\n",
    "    print(f\"\\n Epoch: {epoch + 1} / 20\")\n",
    "    epoch_t0 = time.time()\n",
    "    full_eval_time = 0.0\n",
    "    # Total loss start with 0\n",
    "    total_loss = 0\n",
    "    # Iterate over the training data in batches\n",
    "    for step, batch in enumerate(tqdm(m3_train_loader)):\n",
    "        # Move input data to device\n",
    "        ids = batch[\"input_ids\"].to(device)\n",
    "        attn = batch[\"attention_mask\"].to(device)\n",
    "        pix = batch[\"pixel_values\"].to(device)\n",
    "        out = model(input_ids = ids, attention_mask = attn, pixel_values = pix, return_loss = True)\n",
    "        loss = out.loss # Extract the loss value from the model output\n",
    "        loss.backward()\n",
    "        # Clip gradients to avoid exploding gradients\n",
    "        torch.nn.utils.clip_grad_norm_(model.parameters(), 1)\n",
    "        # Update model weights\n",
    "        optimizer.step()\n",
    "        # Reset gradients to 0 before the next batch\n",
    "        optimizer.zero_grad()\n",
    "        # Accumulate the loss for calculating the average loss later\n",
    "        total_loss += loss.item()\n",
    "        # Print loss every 100 steps\n",
    "        if step % 100 == 0:\n",
    "            print(f\"Step {step}: Loss = {loss.item():.4f}\")\n",
    "    # Calculate the average loss and add it to the list\n",
    "    avg_loss = total_loss / len(m3_train_loader)\n",
    "    avg_losses.append(avg_loss)\n",
    "    # Validate the model by using in-batch retrieval\n",
    "    inb = evaluate_in_batch(model, m3_val_loader, device, topk = (1, 5, 10))\n",
    "    proxy = inb[\"Top@1\"] # Use as the early stopping proxy metric\n",
    "    # Add in-batch recall scores into lists separately\n",
    "    inb_top1_list.append(inb[\"Top@1\"])\n",
    "    inb_top5_list.append(inb[\"Top@5\"])\n",
    "    inb_top10_list.append(inb[\"Top@10\"])\n",
    "    # Check if the improvement exceeds minimum delta\n",
    "    improved_proxy = proxy > best_proxy + min_delta\n",
    "    # Decide whether to run a full-gallery evaluation\n",
    "    do_full = improved_proxy or ((epoch % EVAL_EVERY) == 0) or ((epoch + 1) == 20)\n",
    "    if do_full:\n",
    "        # Run full-gallery evaluation\n",
    "        t_full0 = time.time()\n",
    "        rec = evaluate_full_gallery(model, m3_val_loader, device, \n",
    "                                    topk = (1, 5, 10), chunk = 128)\n",
    "        full_eval_time = time.time() - t_full0\n",
    "        # Add the recall scores into the list\n",
    "        full_top1_list.append(rec[\"R@1\"])\n",
    "        full_top5_list.append(rec[\"R@5\"])\n",
    "        full_top10_list.append(rec[\"R@10\"])\n",
    "        # Use R@1 from full-gallery as the validation accuracy and add it into list\n",
    "        val_acc = rec[\"R@1\"]\n",
    "        val_accs.append(val_acc)\n",
    "        print(f\"Full-gallery R@1: {rec['R@1']:.4f}, R@5: {rec['R@5']:.4f}, R@10: {rec['R@10']:.4f}\")\n",
    "        # Update the best full-gallery score and save checkpoint if it improved\n",
    "        if val_acc > best_full + min_delta:\n",
    "            best_full = val_acc\n",
    "            best_epoch = epoch + 1\n",
    "            # Save checkpoint with all the metrics\n",
    "            torch.save({\n",
    "                \"epoch\": epoch,\n",
    "                \"best_epoch\": best_epoch,\n",
    "                \"model_state_dict\": model.state_dict(),\n",
    "                \"optimizer_state_dict\": optimizer.state_dict(),\n",
    "                \"scheduler_state_dict\": scheduler.state_dict(),\n",
    "                \"avg_losses\": avg_losses,\n",
    "                \"val_accs\": val_accs,\n",
    "                \"best_val_acc\": best_full,\n",
    "                \"full_top1_list\": full_top1_list, \n",
    "                \"full_top5_list\": full_top5_list, \n",
    "                \"full_top10_list\": full_top10_list,\n",
    "                \"inb_top1_list\": inb_top1_list, \n",
    "                \"inb_top5_list\": inb_top5_list, \n",
    "                \"inb_top10_list\": inb_top10_list\n",
    "            }, best_cp_path)\n",
    "            print(f\"Saved Best (full) checkpoint: epoch {epoch + 1}, full-gallery R@1 = {val_acc:.4f}\")\n",
    "    else:\n",
    "        rec = {\"R@1\": np.nan, \"R@5\": np.nan, \"R@10\": np.nan, \"median_rank\": np.nan, \"mean_rank\": np.nan}\n",
    "        full_eval_time = float('nan')\n",
    "        print(f\"Skip full-gallery this epoch. In-batch Top@1: {inb['Top@1']:.4f}, Top@5: {inb['Top@5']:.4f}, Top@10: {inb['Top@10']:.4f}\")\n",
    "    # Step the learning rate scheduler\n",
    "    scheduler.step()\n",
    "    # Get the current learning rate\n",
    "    cur_lr = scheduler.get_last_lr()[0]\n",
    "    print(f\"Epoch {epoch + 1}: avg_loss = {avg_loss:.4f}; in-batch Top@1 = {proxy:.4f}, lr = {cur_lr:.2e}\")\n",
    "    epoch_time = time.time() - epoch_t0\n",
    "    throughput = train_set_size / max(epoch_time, 1e-9)\n",
    "    cur_ckpt_mb = os.path.getsize(cp_path) / 1e6 if os.path.exists(cp_path) else float('nan')\n",
    "    best_ckpt_mb = os.path.getsize(best_cp_path) / 1e6 if os.path.exists(best_cp_path) else float('nan')\n",
    "    # Record metrics for this epoch and save them to csv\n",
    "    row = {\n",
    "        \"epoch\": epoch + 1, \n",
    "        \"avg_loss\": avg_loss, \n",
    "        \"lr\": cur_lr,\n",
    "        \"inb_top1\": inb[\"Top@1\"], \n",
    "        \"inb_top5\": inb[\"Top@5\"], \n",
    "        \"inb_top10\": inb[\"Top@10\"],\n",
    "        \"full_R@1\": rec[\"R@1\"], \n",
    "        \"full_R@5\": rec[\"R@5\"], \n",
    "        \"full_R@10\": rec[\"R@10\"],\n",
    "        \"full_median_rank\": rec[\"median_rank\"], \n",
    "        \"full_mean_rank\": rec[\"mean_rank\"],\n",
    "        \"did_full_gallery\": do_full,\n",
    "        \"epoch_time_sec\": epoch_time,\n",
    "        \"throughput_samples_per_sec\": throughput,\n",
    "        \"full_eval_time_sec\": full_eval_time,\n",
    "        \"trainable_params_M\": trainable_params / 1e6,\n",
    "        \"total_params_M\": total_params / 1e6,\n",
    "        \"ckpt_current_MB\": cur_ckpt_mb,\n",
    "        \"ckpt_best_MB\": best_ckpt_mb\n",
    "    }\n",
    "    epoch_logs.append(row)\n",
    "    pd.DataFrame(epoch_logs).to_csv(csv_path, index = False)\n",
    "    # Decide whether to do the early stopping\n",
    "    if improved_proxy: # If the proxy improves, update it\n",
    "        best_proxy = proxy\n",
    "        wait = 0\n",
    "    else: # If not, increase the wait counter\n",
    "        wait += 1\n",
    "        print(f\"Early stop counter: {wait} / {patience}\")\n",
    "    if wait >= patience: # If the wait number bigger than patience, stop training early and print the best recorded scores\n",
    "        print(f\"Early stopping at epoch {epoch + 1}. Best full R@1 = {best_full:.4f}, best in-batch Top@1 = {best_proxy:.4f}\")\n",
    "        break\n",
    "    # Save all the metrics for each epoch\n",
    "    torch.save({\n",
    "        \"epoch\": epoch, \n",
    "        \"best_epoch\": best_epoch,\n",
    "        \"model_state_dict\": model.state_dict(),\n",
    "        \"optimizer_state_dict\": optimizer.state_dict(),\n",
    "        \"scheduler_state_dict\": scheduler.state_dict(),\n",
    "        \"avg_losses\": avg_losses, \n",
    "        \"val_accs\": val_accs,\n",
    "        \"best_val_acc\": best_full,\n",
    "        \"full_top1_list\": full_top1_list, \n",
    "        \"full_top5_list\": full_top5_list, \n",
    "        \"full_top10_list\": full_top10_list,\n",
    "        \"inb_top1_list\": inb_top1_list, \n",
    "        \"inb_top5_list\": inb_top5_list, \n",
    "        \"inb_top10_list\": inb_top10_list\n",
    "    }, cp_path)\n",
    "\n",
    "total_time = time.time() - run_start\n",
    "print(f\"\\nTotal training wall time: {total_time / 60:.1f} minutes.\")\n"
   ]
  },
  {
   "cell_type": "code",
   "execution_count": 2,
   "id": "76e9e7e7-302c-45e8-bc4a-04402e6f818c",
   "metadata": {},
   "outputs": [
    {
     "data": {
      "text/html": [
       "<div>\n",
       "<style scoped>\n",
       "    .dataframe tbody tr th:only-of-type {\n",
       "        vertical-align: middle;\n",
       "    }\n",
       "\n",
       "    .dataframe tbody tr th {\n",
       "        vertical-align: top;\n",
       "    }\n",
       "\n",
       "    .dataframe thead th {\n",
       "        text-align: right;\n",
       "    }\n",
       "</style>\n",
       "<table border=\"1\" class=\"dataframe\">\n",
       "  <thead>\n",
       "    <tr style=\"text-align: right;\">\n",
       "      <th></th>\n",
       "      <th>epoch</th>\n",
       "      <th>avg_loss</th>\n",
       "      <th>lr</th>\n",
       "      <th>inb_top1</th>\n",
       "      <th>inb_top5</th>\n",
       "      <th>inb_top10</th>\n",
       "      <th>full_R@1</th>\n",
       "      <th>full_R@5</th>\n",
       "      <th>full_R@10</th>\n",
       "      <th>full_median_rank</th>\n",
       "      <th>full_mean_rank</th>\n",
       "      <th>did_full_gallery</th>\n",
       "      <th>epoch_time_sec</th>\n",
       "      <th>throughput_samples_per_sec</th>\n",
       "      <th>full_eval_time_sec</th>\n",
       "      <th>trainable_params_M</th>\n",
       "      <th>total_params_M</th>\n",
       "      <th>ckpt_current_MB</th>\n",
       "      <th>ckpt_best_MB</th>\n",
       "    </tr>\n",
       "  </thead>\n",
       "  <tbody>\n",
       "    <tr>\n",
       "      <th>0</th>\n",
       "      <td>1</td>\n",
       "      <td>1.683507</td>\n",
       "      <td>0.000050</td>\n",
       "      <td>0.148649</td>\n",
       "      <td>0.620871</td>\n",
       "      <td>0.898649</td>\n",
       "      <td>0.012012</td>\n",
       "      <td>0.057808</td>\n",
       "      <td>0.12988</td>\n",
       "      <td>104.0</td>\n",
       "      <td>197.196701</td>\n",
       "      <td>True</td>\n",
       "      <td>1219.241031</td>\n",
       "      <td>8.927685</td>\n",
       "      <td>38.097493</td>\n",
       "      <td>151.277313</td>\n",
       "      <td>151.277313</td>\n",
       "      <td>NaN</td>\n",
       "      <td>1815.815119</td>\n",
       "    </tr>\n",
       "    <tr>\n",
       "      <th>1</th>\n",
       "      <td>2</td>\n",
       "      <td>1.190281</td>\n",
       "      <td>0.000049</td>\n",
       "      <td>0.150901</td>\n",
       "      <td>0.616366</td>\n",
       "      <td>0.884384</td>\n",
       "      <td>0.017267</td>\n",
       "      <td>0.074324</td>\n",
       "      <td>0.13964</td>\n",
       "      <td>98.0</td>\n",
       "      <td>192.610367</td>\n",
       "      <td>True</td>\n",
       "      <td>1237.881967</td>\n",
       "      <td>8.793245</td>\n",
       "      <td>38.569627</td>\n",
       "      <td>151.277313</td>\n",
       "      <td>151.277313</td>\n",
       "      <td>1815.807129</td>\n",
       "      <td>1815.815183</td>\n",
       "    </tr>\n",
       "    <tr>\n",
       "      <th>2</th>\n",
       "      <td>3</td>\n",
       "      <td>0.853939</td>\n",
       "      <td>0.000047</td>\n",
       "      <td>0.145646</td>\n",
       "      <td>0.608859</td>\n",
       "      <td>0.886637</td>\n",
       "      <td>NaN</td>\n",
       "      <td>NaN</td>\n",
       "      <td>NaN</td>\n",
       "      <td>NaN</td>\n",
       "      <td>NaN</td>\n",
       "      <td>False</td>\n",
       "      <td>1185.663447</td>\n",
       "      <td>9.180514</td>\n",
       "      <td>NaN</td>\n",
       "      <td>151.277313</td>\n",
       "      <td>151.277313</td>\n",
       "      <td>1815.807193</td>\n",
       "      <td>1815.815183</td>\n",
       "    </tr>\n",
       "    <tr>\n",
       "      <th>3</th>\n",
       "      <td>4</td>\n",
       "      <td>0.645441</td>\n",
       "      <td>0.000045</td>\n",
       "      <td>0.141141</td>\n",
       "      <td>0.596096</td>\n",
       "      <td>0.873123</td>\n",
       "      <td>NaN</td>\n",
       "      <td>NaN</td>\n",
       "      <td>NaN</td>\n",
       "      <td>NaN</td>\n",
       "      <td>NaN</td>\n",
       "      <td>False</td>\n",
       "      <td>1171.943331</td>\n",
       "      <td>9.287992</td>\n",
       "      <td>NaN</td>\n",
       "      <td>151.277313</td>\n",
       "      <td>151.277313</td>\n",
       "      <td>1815.807193</td>\n",
       "      <td>1815.815183</td>\n",
       "    </tr>\n",
       "  </tbody>\n",
       "</table>\n",
       "</div>"
      ],
      "text/plain": [
       "   epoch  avg_loss        lr  inb_top1  inb_top5  inb_top10  full_R@1  \\\n",
       "0      1  1.683507  0.000050  0.148649  0.620871   0.898649  0.012012   \n",
       "1      2  1.190281  0.000049  0.150901  0.616366   0.884384  0.017267   \n",
       "2      3  0.853939  0.000047  0.145646  0.608859   0.886637       NaN   \n",
       "3      4  0.645441  0.000045  0.141141  0.596096   0.873123       NaN   \n",
       "\n",
       "   full_R@5  full_R@10  full_median_rank  full_mean_rank  did_full_gallery  \\\n",
       "0  0.057808    0.12988             104.0      197.196701              True   \n",
       "1  0.074324    0.13964              98.0      192.610367              True   \n",
       "2       NaN        NaN               NaN             NaN             False   \n",
       "3       NaN        NaN               NaN             NaN             False   \n",
       "\n",
       "   epoch_time_sec  throughput_samples_per_sec  full_eval_time_sec  \\\n",
       "0     1219.241031                    8.927685           38.097493   \n",
       "1     1237.881967                    8.793245           38.569627   \n",
       "2     1185.663447                    9.180514                 NaN   \n",
       "3     1171.943331                    9.287992                 NaN   \n",
       "\n",
       "   trainable_params_M  total_params_M  ckpt_current_MB  ckpt_best_MB  \n",
       "0          151.277313      151.277313              NaN   1815.815119  \n",
       "1          151.277313      151.277313      1815.807129   1815.815183  \n",
       "2          151.277313      151.277313      1815.807193   1815.815183  \n",
       "3          151.277313      151.277313      1815.807193   1815.815183  "
      ]
     },
     "metadata": {},
     "output_type": "display_data"
    },
    {
     "name": "stdout",
     "output_type": "stream",
     "text": [
      "Model 3 Training Summary: \n",
      "model_tag: M3_base_full\n",
      "device: mps\n",
      "train_rows: 10885\n",
      "val_rows: 1332\n",
      "batch_size: 16\n",
      "epochs_run: 4\n",
      "best_epoch_full_R1: 2\n",
      "best_full_R1: 0.017267267267267267\n",
      "total_time_min: 80.42362484931945\n",
      "avg_epoch_time_sec: 1203.6824440956116\n",
      "avg_throughput_sps: 9.047359111112538\n",
      "trainable_params_M: 151.277313\n",
      "total_params_M: 151.277313\n"
     ]
    },
    {
     "data": {
      "image/png": "[encoded data removed]",
      "text/plain": [
       "<Figure size 600x400 with 1 Axes>"
      ]
     },
     "metadata": {},
     "output_type": "display_data"
    },
    {
     "data": {
      "image/png": "[encoded data removed]",
      "text/plain": [
       "<Figure size 600x400 with 1 Axes>"
      ]
     },
     "metadata": {},
     "output_type": "display_data"
    },
    {
     "data": {
      "image/png": "[encoded data removed]",
      "text/plain": [
       "<Figure size 800x400 with 1 Axes>"
      ]
     },
     "metadata": {},
     "output_type": "display_data"
    },
    {
     "name": "stdout",
     "output_type": "stream",
     "text": [
      "\n",
      "Best epoch: 2, Best full R@1: 0.0173\n"
     ]
    }
   ],
   "source": [
    "# Save results\n",
    "epoch_m3 = pd.DataFrame(epoch_logs)\n",
    "display(epoch_m3)\n",
    "epoch_m3_path = os.path.join(out_dir, \"m3_epoch_metrics.csv\")\n",
    "epoch_m3.to_csv(epoch_m3_path, index = False)\n",
    "\n",
    "# Training summary\n",
    "best_full_r1 = (max(full_top1_list) if len(full_top1_list) else float('nan'))\n",
    "summary_row = {\n",
    "    \"model_tag\": \"M3_base_full\",\n",
    "    \"device\": device,\n",
    "    \"train_rows\": train_set_size,\n",
    "    \"val_rows\": val_set_size,\n",
    "    \"batch_size\": 16,\n",
    "    \"epochs_run\": epoch + 1,\n",
    "    \"best_epoch_full_R1\": best_epoch,\n",
    "    \"best_full_R1\": best_full_r1,\n",
    "    \"total_time_min\": total_time / 60.0,\n",
    "    \"avg_epoch_time_sec\": (np.mean([r[\"epoch_time_sec\"] for r in epoch_logs]) if epoch_logs else float('nan')),\n",
    "    \"avg_throughput_sps\": (np.mean([r[\"throughput_samples_per_sec\"] for r in epoch_logs]) if epoch_logs else float('nan')),\n",
    "    \"trainable_params_M\": trainable_params / 1e6,\n",
    "    \"total_params_M\": total_params / 1e6,\n",
    "}\n",
    "\n",
    "# Print the training summary\n",
    "print(\"Model 3 Training Summary: \")\n",
    "for k, v in summary_row.items():\n",
    "    print(f\"{k}: {v}\")\n",
    "\n",
    "# Visualise the CLIP training average loss\n",
    "plt.figure(figsize = (6, 4))\n",
    "plt.plot(epoch_m3[\"epoch\"],\n",
    "         epoch_m3[\"avg_loss\"],\n",
    "         marker = \"o\",\n",
    "         linestyle = \"-\",\n",
    "         label = \"Average Loss\")\n",
    "plt.title(\"Model 3 CLIP Training Average Loss per Epoch on SubCorpus\")\n",
    "plt.xlabel(\"Epoch\")\n",
    "plt.ylabel(\"Average Loss\")\n",
    "plt.grid(True)\n",
    "plt.legend()\n",
    "loss_png = os.path.join(out_dir, \"loss_curve_m3.png\")\n",
    "plt.savefig(loss_png, dpi = 200)\n",
    "plt.show()\n",
    "plt.close()\n",
    "\n",
    "# Visualise the in-batch Top@1 curve\n",
    "plt.figure(figsize = (6, 4))\n",
    "plt.plot(epoch_m3[\"epoch\"],\n",
    "         epoch_m3[\"inb_top1\"],\n",
    "         marker = \"^\",\n",
    "         linestyle = \"-\",\n",
    "         label = \"In-batch Top@1\")\n",
    "plt.title(\"Validation Accuracy per Epoch\")\n",
    "plt.xlabel(\"Epoch\")\n",
    "plt.ylabel(\"Accuracy\")\n",
    "plt.grid(True)\n",
    "plt.legend()\n",
    "acc_png = os.path.join(out_dir, \"val_accuracy_m3.png\")\n",
    "plt.savefig(acc_png, dpi = 200)\n",
    "plt.show()\n",
    "plt.close()\n",
    "\n",
    "# Visualise epoch time trend\n",
    "plt.figure(figsize = (8, 4))\n",
    "plt.plot(epoch_m3[\"epoch\"], epoch_m3[\"epoch_time_sec\"], marker = \"o\", linestyle = \"-\", label = \"Epoch time\")\n",
    "plt.xlabel(\"Epoch\")\n",
    "plt.ylabel(\"Epoch time (sec)\")\n",
    "plt.title(\"Model 3 Epoch time trend\")\n",
    "plt.grid(True, alpha = 0.3)\n",
    "plt.legend()\n",
    "plt.tight_layout()\n",
    "plt.savefig(os.path.join(out_dir, \"epoch_time_trend_m3.png\"), dpi = 150)\n",
    "plt.show()\n",
    "plt.close()\n",
    "\n",
    "# Save the final model\n",
    "final_dir = os.path.join(out_dir, \"final_model\")\n",
    "os.makedirs(final_dir, exist_ok = True)\n",
    "model.save_pretrained(final_dir)\n",
    "processor.save_pretrained(final_dir)\n",
    "print(f\"\\nBest epoch: {best_epoch}, Best full R@1: {best_full:.4f}\")"
   ]
  }
 ],
 "metadata": {
  "kernelspec": {
   "display_name": "Python 3 (ipykernel)",
   "language": "python",
   "name": "python3"
  },
  "language_info": {
   "codemirror_mode": {
    "name": "ipython",
    "version": 3
   },
   "file_extension": ".py",
   "mimetype": "text/x-python",
   "name": "python",
   "nbconvert_exporter": "python",
   "pygments_lexer": "ipython3",
   "version": "3.12.2"
  }
 },
 "nbformat": 4,
 "nbformat_minor": 5
}
