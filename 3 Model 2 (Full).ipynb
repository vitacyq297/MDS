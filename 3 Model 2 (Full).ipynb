{
 "cells": [
  {
   "cell_type": "code",
   "execution_count": 1,
   "id": "aa33f351-149f-4f09-a030-d9ae4341f822",
   "metadata": {},
   "outputs": [
    {
     "name": "stdout",
     "output_type": "stream",
     "text": [
      "Using mps\n",
      "Parameters size: total = 151.28M, trainable = 151.28M\n",
      "trainable params: 5,079,040 || all params: 156,356,353 || trainable%: 3.2484\n",
      "Parameters size after LoRA: total = 156.36M, trainable = 5.08M\n",
      "\n",
      "ACCUM = 16; \n",
      "steps/epoch = 681; \n",
      "optim_steps/epoch = 43; \n",
      "total_steps=860; \n",
      "warmup=68\n",
      "\n",
      "Epoch 1 / 20\n"
     ]
    },
    {
     "name": "stderr",
     "output_type": "stream",
     "text": [
      " 15%|██████                                   | 100/681 [01:29<08:34,  1.13it/s]"
     ]
    },
    {
     "name": "stdout",
     "output_type": "stream",
     "text": [
      "step 100 / 681, loss: 12.8545, learning rate: 1.76e-06\n"
     ]
    },
    {
     "name": "stderr",
     "output_type": "stream",
     "text": [
      " 29%|████████████                             | 200/681 [02:58<07:05,  1.13it/s]"
     ]
    },
    {
     "name": "stdout",
     "output_type": "stream",
     "text": [
      "step 200 / 681, loss: 12.7645, learning rate: 3.53e-06\n"
     ]
    },
    {
     "name": "stderr",
     "output_type": "stream",
     "text": [
      " 44%|██████████████████                       | 300/681 [04:26<05:37,  1.13it/s]"
     ]
    },
    {
     "name": "stdout",
     "output_type": "stream",
     "text": [
      "step 300 / 681, loss: 13.7252, learning rate: 5.29e-06\n"
     ]
    },
    {
     "name": "stderr",
     "output_type": "stream",
     "text": [
      " 59%|████████████████████████                 | 400/681 [05:57<04:23,  1.07it/s]"
     ]
    },
    {
     "name": "stdout",
     "output_type": "stream",
     "text": [
      "step 400 / 681, loss: 9.1923, learning rate: 7.35e-06\n"
     ]
    },
    {
     "name": "stderr",
     "output_type": "stream",
     "text": [
      " 73%|██████████████████████████████           | 500/681 [07:27<02:44,  1.10it/s]"
     ]
    },
    {
     "name": "stdout",
     "output_type": "stream",
     "text": [
      "step 500 / 681, loss: 10.4343, learning rate: 9.12e-06\n"
     ]
    },
    {
     "name": "stderr",
     "output_type": "stream",
     "text": [
      " 88%|████████████████████████████████████     | 600/681 [08:57<01:11,  1.13it/s]"
     ]
    },
    {
     "name": "stdout",
     "output_type": "stream",
     "text": [
      "step 600 / 681, loss: 12.4452, learning rate: 1.09e-05\n"
     ]
    },
    {
     "name": "stderr",
     "output_type": "stream",
     "text": [
      "100%|█████████████████████████████████████████| 681/681 [10:09<00:00,  1.12it/s]"
     ]
    },
    {
     "name": "stdout",
     "output_type": "stream",
     "text": [
      "step 681 / 681, loss: 7.2388, learning rate: 1.24e-05\n"
     ]
    },
    {
     "name": "stderr",
     "output_type": "stream",
     "text": [
      "\n"
     ]
    },
    {
     "name": "stdout",
     "output_type": "stream",
     "text": [
      "Full-gallery R@1: 0.0038, R@5: 0.0158, R@10: 0.0360. \n",
      "Median rank: 306, Mean rank: 409.0\n",
      "Epoch 1: avg_loss = 10.6750, in-batch Top@1 = 0.0968, learning rate = 1.26e-05\n",
      "Saved best checkpoint: epoch 1: Full R@1 = 0.0038\n",
      "\n",
      "Epoch 2 / 20\n"
     ]
    },
    {
     "name": "stderr",
     "output_type": "stream",
     "text": [
      " 15%|██████                                   | 100/681 [01:31<08:45,  1.11it/s]"
     ]
    },
    {
     "name": "stdout",
     "output_type": "stream",
     "text": [
      "step 100 / 681, loss: 10.6045, learning rate: 1.44e-05\n"
     ]
    },
    {
     "name": "stderr",
     "output_type": "stream",
     "text": [
      " 29%|████████████                             | 200/681 [03:01<07:09,  1.12it/s]"
     ]
    },
    {
     "name": "stdout",
     "output_type": "stream",
     "text": [
      "step 200 / 681, loss: 8.5439, learning rate: 1.62e-05\n"
     ]
    },
    {
     "name": "stderr",
     "output_type": "stream",
     "text": [
      " 44%|██████████████████                       | 300/681 [04:31<05:38,  1.13it/s]"
     ]
    },
    {
     "name": "stdout",
     "output_type": "stream",
     "text": [
      "step 300 / 681, loss: 12.8749, learning rate: 1.79e-05\n"
     ]
    },
    {
     "name": "stderr",
     "output_type": "stream",
     "text": [
      " 59%|████████████████████████                 | 400/681 [06:00<04:20,  1.08it/s]"
     ]
    },
    {
     "name": "stdout",
     "output_type": "stream",
     "text": [
      "step 400 / 681, loss: 7.3722, learning rate: 2.00e-05\n"
     ]
    },
    {
     "name": "stderr",
     "output_type": "stream",
     "text": [
      " 73%|██████████████████████████████           | 500/681 [07:30<02:42,  1.11it/s]"
     ]
    },
    {
     "name": "stdout",
     "output_type": "stream",
     "text": [
      "step 500 / 681, loss: 6.9214, learning rate: 2.00e-05\n"
     ]
    },
    {
     "name": "stderr",
     "output_type": "stream",
     "text": [
      " 88%|████████████████████████████████████     | 600/681 [09:01<01:12,  1.12it/s]"
     ]
    },
    {
     "name": "stdout",
     "output_type": "stream",
     "text": [
      "step 600 / 681, loss: 7.5950, learning rate: 2.00e-05\n"
     ]
    },
    {
     "name": "stderr",
     "output_type": "stream",
     "text": [
      "100%|█████████████████████████████████████████| 681/681 [10:14<00:00,  1.11it/s]"
     ]
    },
    {
     "name": "stdout",
     "output_type": "stream",
     "text": [
      "step 681 / 681, loss: 4.2192, learning rate: 2.00e-05\n"
     ]
    },
    {
     "name": "stderr",
     "output_type": "stream",
     "text": [
      "\n"
     ]
    },
    {
     "name": "stdout",
     "output_type": "stream",
     "text": [
      "Full-gallery R@1: 0.0045, R@5: 0.0210, R@10: 0.0480. \n",
      "Median rank: 281, Mean rank: 383.9\n",
      "Epoch 2: avg_loss = 7.8756, in-batch Top@1 = 0.1036, learning rate = 2.00e-05\n",
      "\n",
      "Epoch 3 / 20\n"
     ]
    },
    {
     "name": "stderr",
     "output_type": "stream",
     "text": [
      " 15%|██████                                   | 100/681 [01:37<09:53,  1.02s/it]"
     ]
    },
    {
     "name": "stdout",
     "output_type": "stream",
     "text": [
      "step 100 / 681, loss: 5.6199, learning rate: 2.00e-05\n"
     ]
    },
    {
     "name": "stderr",
     "output_type": "stream",
     "text": [
      " 29%|████████████                             | 200/681 [03:13<07:29,  1.07it/s]"
     ]
    },
    {
     "name": "stdout",
     "output_type": "stream",
     "text": [
      "step 200 / 681, loss: 4.4944, learning rate: 1.99e-05\n"
     ]
    },
    {
     "name": "stderr",
     "output_type": "stream",
     "text": [
      " 44%|██████████████████                       | 300/681 [04:44<05:42,  1.11it/s]"
     ]
    },
    {
     "name": "stdout",
     "output_type": "stream",
     "text": [
      "step 300 / 681, loss: 3.6526, learning rate: 1.99e-05\n"
     ]
    },
    {
     "name": "stderr",
     "output_type": "stream",
     "text": [
      " 59%|████████████████████████                 | 400/681 [06:14<04:17,  1.09it/s]"
     ]
    },
    {
     "name": "stdout",
     "output_type": "stream",
     "text": [
      "step 400 / 681, loss: 4.9541, learning rate: 1.99e-05\n"
     ]
    },
    {
     "name": "stderr",
     "output_type": "stream",
     "text": [
      " 73%|██████████████████████████████           | 500/681 [07:45<02:45,  1.09it/s]"
     ]
    },
    {
     "name": "stdout",
     "output_type": "stream",
     "text": [
      "step 500 / 681, loss: 4.4527, learning rate: 1.98e-05\n"
     ]
    },
    {
     "name": "stderr",
     "output_type": "stream",
     "text": [
      " 88%|████████████████████████████████████     | 600/681 [09:19<01:16,  1.06it/s]"
     ]
    },
    {
     "name": "stdout",
     "output_type": "stream",
     "text": [
      "step 600 / 681, loss: 3.3748, learning rate: 1.98e-05\n"
     ]
    },
    {
     "name": "stderr",
     "output_type": "stream",
     "text": [
      "100%|█████████████████████████████████████████| 681/681 [10:33<00:00,  1.08it/s]"
     ]
    },
    {
     "name": "stdout",
     "output_type": "stream",
     "text": [
      "step 681 / 681, loss: 2.5734, learning rate: 1.97e-05\n"
     ]
    },
    {
     "name": "stderr",
     "output_type": "stream",
     "text": [
      "\n"
     ]
    },
    {
     "name": "stdout",
     "output_type": "stream",
     "text": [
      "Full-gallery R@1: 0.0053, R@5: 0.0270, R@10: 0.0503. \n",
      "Median rank: 258, Mean rank: 369.6\n",
      "Epoch 3: avg_loss = 4.4917, in-batch Top@1 = 0.1104, learning rate = 1.97e-05\n",
      "Saved best checkpoint: epoch 3: Full R@1 = 0.0053\n",
      "\n",
      "Epoch 4 / 20\n"
     ]
    },
    {
     "name": "stderr",
     "output_type": "stream",
     "text": [
      " 15%|██████                                   | 100/681 [01:31<08:58,  1.08it/s]"
     ]
    },
    {
     "name": "stdout",
     "output_type": "stream",
     "text": [
      "step 100 / 681, loss: 2.8410, learning rate: 1.96e-05\n"
     ]
    },
    {
     "name": "stderr",
     "output_type": "stream",
     "text": [
      " 29%|████████████                             | 200/681 [03:00<07:07,  1.12it/s]"
     ]
    },
    {
     "name": "stdout",
     "output_type": "stream",
     "text": [
      "step 200 / 681, loss: 2.7430, learning rate: 1.96e-05\n"
     ]
    },
    {
     "name": "stderr",
     "output_type": "stream",
     "text": [
      " 44%|██████████████████                       | 300/681 [04:30<05:39,  1.12it/s]"
     ]
    },
    {
     "name": "stdout",
     "output_type": "stream",
     "text": [
      "step 300 / 681, loss: 2.4892, learning rate: 1.95e-05\n"
     ]
    },
    {
     "name": "stderr",
     "output_type": "stream",
     "text": [
      " 59%|████████████████████████                 | 400/681 [06:00<04:19,  1.08it/s]"
     ]
    },
    {
     "name": "stdout",
     "output_type": "stream",
     "text": [
      "step 400 / 681, loss: 2.6924, learning rate: 1.94e-05\n"
     ]
    },
    {
     "name": "stderr",
     "output_type": "stream",
     "text": [
      " 73%|██████████████████████████████           | 500/681 [07:29<02:42,  1.11it/s]"
     ]
    },
    {
     "name": "stdout",
     "output_type": "stream",
     "text": [
      "step 500 / 681, loss: 2.7140, learning rate: 1.93e-05\n"
     ]
    },
    {
     "name": "stderr",
     "output_type": "stream",
     "text": [
      " 88%|████████████████████████████████████     | 600/681 [08:59<01:11,  1.13it/s]"
     ]
    },
    {
     "name": "stdout",
     "output_type": "stream",
     "text": [
      "step 600 / 681, loss: 2.2348, learning rate: 1.93e-05\n"
     ]
    },
    {
     "name": "stderr",
     "output_type": "stream",
     "text": [
      "100%|█████████████████████████████████████████| 681/681 [10:11<00:00,  1.11it/s]"
     ]
    },
    {
     "name": "stdout",
     "output_type": "stream",
     "text": [
      "step 681 / 681, loss: 1.0911, learning rate: 1.92e-05\n"
     ]
    },
    {
     "name": "stderr",
     "output_type": "stream",
     "text": [
      "\n"
     ]
    },
    {
     "name": "stdout",
     "output_type": "stream",
     "text": [
      "Full-gallery R@1: 0.0060, R@5: 0.0240, R@10: 0.0495. \n",
      "Median rank: 240, Mean rank: 352.4\n",
      "Epoch 4: avg_loss = 2.6782, in-batch Top@1 = 0.1149, learning rate = 1.92e-05\n",
      "\n",
      "Epoch 5 / 20\n"
     ]
    },
    {
     "name": "stderr",
     "output_type": "stream",
     "text": [
      " 15%|██████                                   | 100/681 [01:31<08:46,  1.10it/s]"
     ]
    },
    {
     "name": "stdout",
     "output_type": "stream",
     "text": [
      "step 100 / 681, loss: 2.3293, learning rate: 1.91e-05\n"
     ]
    },
    {
     "name": "stderr",
     "output_type": "stream",
     "text": [
      " 29%|████████████                             | 200/681 [03:01<07:11,  1.12it/s]"
     ]
    },
    {
     "name": "stdout",
     "output_type": "stream",
     "text": [
      "step 200 / 681, loss: 2.3460, learning rate: 1.90e-05\n"
     ]
    },
    {
     "name": "stderr",
     "output_type": "stream",
     "text": [
      " 44%|██████████████████                       | 300/681 [04:30<05:38,  1.12it/s]"
     ]
    },
    {
     "name": "stdout",
     "output_type": "stream",
     "text": [
      "step 300 / 681, loss: 2.2838, learning rate: 1.89e-05\n"
     ]
    },
    {
     "name": "stderr",
     "output_type": "stream",
     "text": [
      " 59%|████████████████████████                 | 400/681 [06:00<04:19,  1.08it/s]"
     ]
    },
    {
     "name": "stdout",
     "output_type": "stream",
     "text": [
      "step 400 / 681, loss: 2.5402, learning rate: 1.87e-05\n"
     ]
    },
    {
     "name": "stderr",
     "output_type": "stream",
     "text": [
      " 73%|██████████████████████████████           | 500/681 [07:29<02:42,  1.11it/s]"
     ]
    },
    {
     "name": "stdout",
     "output_type": "stream",
     "text": [
      "step 500 / 681, loss: 2.4134, learning rate: 1.86e-05\n"
     ]
    },
    {
     "name": "stderr",
     "output_type": "stream",
     "text": [
      " 88%|████████████████████████████████████     | 600/681 [08:59<01:12,  1.12it/s]"
     ]
    },
    {
     "name": "stdout",
     "output_type": "stream",
     "text": [
      "step 600 / 681, loss: 2.3820, learning rate: 1.85e-05\n"
     ]
    },
    {
     "name": "stderr",
     "output_type": "stream",
     "text": [
      "100%|█████████████████████████████████████████| 681/681 [10:11<00:00,  1.11it/s]"
     ]
    },
    {
     "name": "stdout",
     "output_type": "stream",
     "text": [
      "step 681 / 681, loss: 1.2464, learning rate: 1.84e-05\n"
     ]
    },
    {
     "name": "stderr",
     "output_type": "stream",
     "text": [
      "\n"
     ]
    },
    {
     "name": "stdout",
     "output_type": "stream",
     "text": [
      "Full-gallery R@1: 0.0030, R@5: 0.0195, R@10: 0.0495. \n",
      "Median rank: 224, Mean rank: 335.2\n",
      "Epoch 5: avg_loss = 2.3934, in-batch Top@1 = 0.1186, learning rate = 1.83e-05\n",
      "\n",
      "Epoch 6 / 20\n"
     ]
    },
    {
     "name": "stderr",
     "output_type": "stream",
     "text": [
      " 15%|██████                                   | 100/681 [01:31<08:44,  1.11it/s]"
     ]
    },
    {
     "name": "stdout",
     "output_type": "stream",
     "text": [
      "step 100 / 681, loss: 2.6691, learning rate: 1.82e-05\n"
     ]
    },
    {
     "name": "stderr",
     "output_type": "stream",
     "text": [
      " 29%|████████████                             | 200/681 [03:01<07:11,  1.12it/s]"
     ]
    },
    {
     "name": "stdout",
     "output_type": "stream",
     "text": [
      "step 200 / 681, loss: 2.4181, learning rate: 1.81e-05\n"
     ]
    },
    {
     "name": "stderr",
     "output_type": "stream",
     "text": [
      " 44%|██████████████████                       | 300/681 [04:32<05:42,  1.11it/s]"
     ]
    },
    {
     "name": "stdout",
     "output_type": "stream",
     "text": [
      "step 300 / 681, loss: 2.7811, learning rate: 1.79e-05\n"
     ]
    },
    {
     "name": "stderr",
     "output_type": "stream",
     "text": [
      " 59%|████████████████████████                 | 400/681 [06:02<04:21,  1.07it/s]"
     ]
    },
    {
     "name": "stdout",
     "output_type": "stream",
     "text": [
      "step 400 / 681, loss: 2.4395, learning rate: 1.78e-05\n"
     ]
    },
    {
     "name": "stderr",
     "output_type": "stream",
     "text": [
      " 73%|██████████████████████████████           | 500/681 [07:32<02:43,  1.10it/s]"
     ]
    },
    {
     "name": "stdout",
     "output_type": "stream",
     "text": [
      "step 500 / 681, loss: 1.6696, learning rate: 1.76e-05\n"
     ]
    },
    {
     "name": "stderr",
     "output_type": "stream",
     "text": [
      " 88%|████████████████████████████████████     | 600/681 [09:02<01:12,  1.11it/s]"
     ]
    },
    {
     "name": "stdout",
     "output_type": "stream",
     "text": [
      "step 600 / 681, loss: 2.0180, learning rate: 1.75e-05\n"
     ]
    },
    {
     "name": "stderr",
     "output_type": "stream",
     "text": [
      "100%|█████████████████████████████████████████| 681/681 [10:15<00:00,  1.11it/s]"
     ]
    },
    {
     "name": "stdout",
     "output_type": "stream",
     "text": [
      "step 681 / 681, loss: 0.9749, learning rate: 1.73e-05\n"
     ]
    },
    {
     "name": "stderr",
     "output_type": "stream",
     "text": [
      "\n"
     ]
    },
    {
     "name": "stdout",
     "output_type": "stream",
     "text": [
      "Skip full-gallery. In-batch Top@1: 0.1194, Top@5: 0.5120, Top@10: 0.8003\n",
      "Epoch 6: avg_loss = 2.3426, in-batch Top@1 = 0.1194, learning rate = 1.73e-05\n",
      "Early stop counter: 1 / 2\n",
      "\n",
      "Epoch 7 / 20\n"
     ]
    },
    {
     "name": "stderr",
     "output_type": "stream",
     "text": [
      " 15%|██████                                   | 100/681 [01:30<08:47,  1.10it/s]"
     ]
    },
    {
     "name": "stdout",
     "output_type": "stream",
     "text": [
      "step 100 / 681, loss: 2.2779, learning rate: 1.71e-05\n"
     ]
    },
    {
     "name": "stderr",
     "output_type": "stream",
     "text": [
      " 29%|████████████                             | 200/681 [03:00<07:09,  1.12it/s]"
     ]
    },
    {
     "name": "stdout",
     "output_type": "stream",
     "text": [
      "step 200 / 681, loss: 2.6570, learning rate: 1.70e-05\n"
     ]
    },
    {
     "name": "stderr",
     "output_type": "stream",
     "text": [
      " 44%|██████████████████                       | 300/681 [04:30<05:36,  1.13it/s]"
     ]
    },
    {
     "name": "stdout",
     "output_type": "stream",
     "text": [
      "step 300 / 681, loss: 2.1499, learning rate: 1.68e-05\n"
     ]
    },
    {
     "name": "stderr",
     "output_type": "stream",
     "text": [
      " 59%|████████████████████████                 | 400/681 [06:00<04:18,  1.09it/s]"
     ]
    },
    {
     "name": "stdout",
     "output_type": "stream",
     "text": [
      "step 400 / 681, loss: 2.4884, learning rate: 1.66e-05\n"
     ]
    },
    {
     "name": "stderr",
     "output_type": "stream",
     "text": [
      " 73%|██████████████████████████████           | 500/681 [07:30<02:42,  1.12it/s]"
     ]
    },
    {
     "name": "stdout",
     "output_type": "stream",
     "text": [
      "step 500 / 681, loss: 2.4049, learning rate: 1.64e-05\n"
     ]
    },
    {
     "name": "stderr",
     "output_type": "stream",
     "text": [
      " 88%|████████████████████████████████████     | 600/681 [09:00<01:12,  1.11it/s]"
     ]
    },
    {
     "name": "stdout",
     "output_type": "stream",
     "text": [
      "step 600 / 681, loss: 2.3702, learning rate: 1.62e-05\n"
     ]
    },
    {
     "name": "stderr",
     "output_type": "stream",
     "text": [
      "100%|█████████████████████████████████████████| 681/681 [10:12<00:00,  1.11it/s]"
     ]
    },
    {
     "name": "stdout",
     "output_type": "stream",
     "text": [
      "step 681 / 681, loss: 1.2990, learning rate: 1.61e-05\n"
     ]
    },
    {
     "name": "stderr",
     "output_type": "stream",
     "text": [
      "\n"
     ]
    },
    {
     "name": "stdout",
     "output_type": "stream",
     "text": [
      "Full-gallery R@1: 0.0045, R@5: 0.0233, R@10: 0.0533. \n",
      "Median rank: 209, Mean rank: 320.1\n",
      "Epoch 7: avg_loss = 2.3123, in-batch Top@1 = 0.1209, learning rate = 1.60e-05\n",
      "\n",
      "Epoch 8 / 20\n"
     ]
    },
    {
     "name": "stderr",
     "output_type": "stream",
     "text": [
      " 15%|██████                                   | 100/681 [01:31<08:46,  1.10it/s]"
     ]
    },
    {
     "name": "stdout",
     "output_type": "stream",
     "text": [
      "step 100 / 681, loss: 2.4035, learning rate: 1.58e-05\n"
     ]
    },
    {
     "name": "stderr",
     "output_type": "stream",
     "text": [
      " 29%|████████████                             | 200/681 [03:01<07:12,  1.11it/s]"
     ]
    },
    {
     "name": "stdout",
     "output_type": "stream",
     "text": [
      "step 200 / 681, loss: 2.4525, learning rate: 1.56e-05\n"
     ]
    },
    {
     "name": "stderr",
     "output_type": "stream",
     "text": [
      " 44%|██████████████████                       | 300/681 [04:31<05:41,  1.11it/s]"
     ]
    },
    {
     "name": "stdout",
     "output_type": "stream",
     "text": [
      "step 300 / 681, loss: 2.6088, learning rate: 1.54e-05\n"
     ]
    },
    {
     "name": "stderr",
     "output_type": "stream",
     "text": [
      " 59%|████████████████████████                 | 400/681 [06:01<04:19,  1.08it/s]"
     ]
    },
    {
     "name": "stdout",
     "output_type": "stream",
     "text": [
      "step 400 / 681, loss: 2.3266, learning rate: 1.52e-05\n"
     ]
    },
    {
     "name": "stderr",
     "output_type": "stream",
     "text": [
      " 73%|██████████████████████████████           | 500/681 [07:31<02:41,  1.12it/s]"
     ]
    },
    {
     "name": "stdout",
     "output_type": "stream",
     "text": [
      "step 500 / 681, loss: 2.0026, learning rate: 1.50e-05\n"
     ]
    },
    {
     "name": "stderr",
     "output_type": "stream",
     "text": [
      " 88%|████████████████████████████████████     | 600/681 [09:01<01:12,  1.12it/s]"
     ]
    },
    {
     "name": "stdout",
     "output_type": "stream",
     "text": [
      "step 600 / 681, loss: 2.5217, learning rate: 1.48e-05\n"
     ]
    },
    {
     "name": "stderr",
     "output_type": "stream",
     "text": [
      "100%|█████████████████████████████████████████| 681/681 [10:13<00:00,  1.11it/s]"
     ]
    },
    {
     "name": "stdout",
     "output_type": "stream",
     "text": [
      "step 681 / 681, loss: 1.4686, learning rate: 1.46e-05\n"
     ]
    },
    {
     "name": "stderr",
     "output_type": "stream",
     "text": [
      "\n"
     ]
    },
    {
     "name": "stdout",
     "output_type": "stream",
     "text": [
      "Skip full-gallery. In-batch Top@1: 0.1216, Top@5: 0.5203, Top@10: 0.8048\n",
      "Epoch 8: avg_loss = 2.2844, in-batch Top@1 = 0.1216, learning rate = 1.46e-05\n",
      "Early stop counter: 1 / 2\n",
      "\n",
      "Epoch 9 / 20\n"
     ]
    },
    {
     "name": "stderr",
     "output_type": "stream",
     "text": [
      " 15%|██████                                   | 100/681 [01:32<08:53,  1.09it/s]"
     ]
    },
    {
     "name": "stdout",
     "output_type": "stream",
     "text": [
      "step 100 / 681, loss: 2.0785, learning rate: 1.44e-05\n"
     ]
    },
    {
     "name": "stderr",
     "output_type": "stream",
     "text": [
      " 29%|████████████                             | 200/681 [03:03<07:16,  1.10it/s]"
     ]
    },
    {
     "name": "stdout",
     "output_type": "stream",
     "text": [
      "step 200 / 681, loss: 2.2876, learning rate: 1.42e-05\n"
     ]
    },
    {
     "name": "stderr",
     "output_type": "stream",
     "text": [
      " 44%|██████████████████                       | 300/681 [04:34<05:42,  1.11it/s]"
     ]
    },
    {
     "name": "stdout",
     "output_type": "stream",
     "text": [
      "step 300 / 681, loss: 2.4149, learning rate: 1.39e-05\n"
     ]
    },
    {
     "name": "stderr",
     "output_type": "stream",
     "text": [
      " 59%|████████████████████████                 | 400/681 [06:04<04:18,  1.09it/s]"
     ]
    },
    {
     "name": "stdout",
     "output_type": "stream",
     "text": [
      "step 400 / 681, loss: 2.2939, learning rate: 1.37e-05\n"
     ]
    },
    {
     "name": "stderr",
     "output_type": "stream",
     "text": [
      " 73%|██████████████████████████████           | 500/681 [07:34<02:43,  1.10it/s]"
     ]
    },
    {
     "name": "stdout",
     "output_type": "stream",
     "text": [
      "step 500 / 681, loss: 2.1837, learning rate: 1.35e-05\n"
     ]
    },
    {
     "name": "stderr",
     "output_type": "stream",
     "text": [
      " 88%|████████████████████████████████████     | 600/681 [09:04<01:12,  1.12it/s]"
     ]
    },
    {
     "name": "stdout",
     "output_type": "stream",
     "text": [
      "step 600 / 681, loss: 2.0298, learning rate: 1.32e-05\n"
     ]
    },
    {
     "name": "stderr",
     "output_type": "stream",
     "text": [
      "100%|█████████████████████████████████████████| 681/681 [10:17<00:00,  1.10it/s]"
     ]
    },
    {
     "name": "stdout",
     "output_type": "stream",
     "text": [
      "step 681 / 681, loss: 0.9754, learning rate: 1.30e-05\n"
     ]
    },
    {
     "name": "stderr",
     "output_type": "stream",
     "text": [
      "\n"
     ]
    },
    {
     "name": "stdout",
     "output_type": "stream",
     "text": [
      "Full-gallery R@1: 0.0060, R@5: 0.0293, R@10: 0.0556. \n",
      "Median rank: 200, Mean rank: 311.3\n",
      "Epoch 9: avg_loss = 2.2618, in-batch Top@1 = 0.1201, learning rate = 1.30e-05\n",
      "Early stop counter: 2 / 2\n",
      "Early stopping triggered at epoch 9. Best full R@1 = 0.0053, best in-batch Top@1 = 0.1209\n",
      "\n",
      "Total training wall time: 101.2 minutes.\n"
     ]
    }
   ],
   "source": [
    "# -------------------- Model 2: Model 1 + LoRA on SubCorpus --------------------\n",
    "import pandas as pd\n",
    "import os\n",
    "import math\n",
    "import random\n",
    "import numpy as np\n",
    "from tqdm import tqdm\n",
    "from PIL import Image\n",
    "import torch\n",
    "from torch.utils.data import Dataset, DataLoader\n",
    "from transformers import CLIPProcessor, CLIPModel, get_cosine_schedule_with_warmup\n",
    "import matplotlib.pyplot as plt\n",
    "from torch.optim import AdamW\n",
    "import torch.nn.functional as F\n",
    "from peft import LoraConfig, get_peft_model, TaskType\n",
    "import gc\n",
    "import unicodedata\n",
    "from collections import Counter\n",
    "import time\n",
    "\n",
    "# Runtime configuration\n",
    "EVAL_EVERY = 4 # Fixed interval for full-gallery evaluation\n",
    "use_amp = torch.backends.mps.is_available() # Enable AMP only on MPS devices\n",
    "amp_dtype = torch.float16\n",
    "\n",
    "# Set seed for reproducibility\n",
    "random.seed(985)\n",
    "np.random.seed(985)\n",
    "torch.manual_seed(985)\n",
    "\n",
    "# Load the datasets\n",
    "m2_train = pd.read_csv(\"/Users/cyq/Desktop/Dissertation/Database/SubCorpus_to_train.csv\")\n",
    "m2_val = pd.read_csv(\"/Users/cyq/Desktop/Dissertation/Database/SubCorpus_to_validation.csv\")\n",
    "\n",
    "# Load the base model with its processor\n",
    "base_model = \"/Users/cyq/Desktop/Dissertation/Database/m1_clip_trained/final_model\"\n",
    "processor = CLIPProcessor.from_pretrained(base_model, use_fast = False)\n",
    "model = CLIPModel.from_pretrained(base_model)\n",
    "\n",
    "# Set device\n",
    "device = torch.device(\"mps\" if torch.backends.mps.is_available() else \"cpu\")\n",
    "print(f\"Using {device.type}\")\n",
    "model.to(device)\n",
    "total_params = sum(p.numel() for p in model.parameters())\n",
    "trainable_params = sum(p.numel() for p in model.parameters() if p.requires_grad)\n",
    "print(f\"Parameters size: total = {total_params / 1e6:.2f}M, trainable = {trainable_params / 1e6:.2f}M\")\n",
    "\n",
    "# Define a dataset for Model 2\n",
    "class ArtEmisDataset(Dataset):\n",
    "    # Intialise the dataframe and CLIP precessor\n",
    "    def __init__(self, df, processor): \n",
    "        self.data = df.reset_index(drop = True)\n",
    "        self.processor = processor\n",
    "        self.valid_idx = [i for i in range(len(self.data))\n",
    "                          if os.path.exists(str(self.data.iloc[i][\"PATH\"]))]\n",
    "    # Extract samples by rows\n",
    "    def __getitem__(self, idx):\n",
    "        ridx = self.valid_idx[idx]\n",
    "        row = self.data.iloc[ridx] # Select the ith row from the dataframe\n",
    "        path = row[\"PATH\"] # Find the path\n",
    "        text = str(row[\"UTTERANCE\"]) if not pd.isna(row[\"UTTERANCE\"]) else \"\" # Find the paired description\n",
    "        # Try to open the image\n",
    "        try:\n",
    "            img = Image.open(path).convert(\"RGB\")\n",
    "        except Exception:\n",
    "            img = Image.new(\"RGB\", (224, 224), \"white\")\n",
    "            print(f\"Warning: Failed to load {path}, using white image\")\n",
    "        # Preprocess both text and image\n",
    "        inputs = self.processor(text = [text], \n",
    "                                images = img, \n",
    "                                return_tensors = \"pt\",\n",
    "                                padding = \"max_length\", \n",
    "                                truncation = True, \n",
    "                                max_length = 77)\n",
    "        # Return a dictionary contains input_ids, attention_mask and pixel_values\n",
    "        return {\n",
    "            \"input_ids\": inputs[\"input_ids\"].squeeze(0),\n",
    "            \"attention_mask\": inputs[\"attention_mask\"].squeeze(0),\n",
    "            \"pixel_values\": inputs[\"pixel_values\"].squeeze(0)\n",
    "        }\n",
    "    # Compute the length of dataset\n",
    "    def __len__(self):\n",
    "        return len(self.valid_idx)\n",
    "     \n",
    "\n",
    "# Define a function to evaluate model performance by using full-gallery retrieval\n",
    "@torch.no_grad()\n",
    "def evaluate_full_gallery(model, val_loader, device, topk = (1, 5, 10), chunk = 256):\n",
    "    # Set the model to evaluation mode\n",
    "    model.eval()\n",
    "    # Create empty lists to contain all images and texts\n",
    "    all_img = []\n",
    "    all_txt = []\n",
    "    # Loop through the validation dataloader to extract features\n",
    "    for b in val_loader:\n",
    "        ids = b[\"input_ids\"].to(device)\n",
    "        attn = b[\"attention_mask\"].to(device)\n",
    "        pix = b[\"pixel_values\"].to(device)\n",
    "        # Extract CLIP image and text features\n",
    "        img = model.get_image_features(pix)\n",
    "        txt = model.get_text_features(input_ids = ids, attention_mask = attn)\n",
    "        # Normalize embeddings to unit length\n",
    "        img = img / img.norm(p = 2, dim = -1, keepdim = True)\n",
    "        txt = txt / txt.norm(p = 2, dim = -1, keepdim = True)\n",
    "        # Add them into lists separatelt\n",
    "        all_img.append(img)\n",
    "        all_txt.append(txt)\n",
    "    # Combine all batches into single tensors\n",
    "    all_img = torch.cat(all_img, 0)\n",
    "    all_txt = torch.cat(all_txt, 0)\n",
    "    # Set N as the number of validation samples\n",
    "    N = all_txt.size(0)\n",
    "    # Get the learned logit scale\n",
    "    logit_scale = model.logit_scale.exp().clamp_max(100.0)\n",
    "    # Prepare to count Recall@K metrics\n",
    "    max_k = max(topk)\n",
    "    hits = {k:0 for k in topk} # Count of correct matches for each K\n",
    "    ranks_list = [] # Create an empty list to contain the ground truth's rank position\n",
    "    # Compute similarity\n",
    "    for i in range(0, N, chunk):\n",
    "        i_end = min(i + chunk, N)\n",
    "        sims = logit_scale * (all_txt[i:i_end]@all_img.T) # Similarity matrix\n",
    "        # Get the indices of top-k most similar images\n",
    "        topk_idx = sims.topk(k = max_k, dim = 1).indices\n",
    "        # Ground truth indices\n",
    "        gt = torch.arange(i, i_end, device = sims.device)\n",
    "        # Loop through to count Recall@K hits\n",
    "        for k in topk:\n",
    "            hits[k] += (topk_idx[:, :k] == gt.unsqueeze(1)).any(dim = 1).sum().item()\n",
    "        # Compute the rank position of the ground truth image for each query\n",
    "        gt_scores = sims.gather(1, gt.unsqueeze(1))\n",
    "        ranks_list.append((sims >= gt_scores).sum(dim = 1).cpu())\n",
    "    # Combine all rank positions\n",
    "    ranks = torch.cat(ranks_list,0)\n",
    "    # Calculate recall metrics\n",
    "    rec = {f\"R@{k}\": hits[k] / float(N) for k in topk}\n",
    "    rec[\"top1\"] = rec[\"R@1\"]\n",
    "    rec[\"median_rank\"] = ranks.median().item()\n",
    "    rec[\"mean_rank\"] = ranks.float().mean().item()\n",
    "    return rec\n",
    "\n",
    "# Define a function to evaluate model performance by using in-batch retrieval\n",
    "@torch.no_grad()\n",
    "def evaluate_in_batch(model, loader, device, topk = (1, 5, 10)):\n",
    "    # Put the model in evaluation mode\n",
    "    model.eval()\n",
    "    # Initialize counters for the number of correct matches at each K value\n",
    "    hits = {k: 0 for k in topk}\n",
    "    # Total number of samples evaluated start from 0\n",
    "    total = 0\n",
    "    # Loop through each batch\n",
    "    for b in loader:\n",
    "        # Move text and image inputs to device\n",
    "        ids = b[\"input_ids\"].to(device)\n",
    "        attn = b[\"attention_mask\"].to(device)\n",
    "        pix = b[\"pixel_values\"].to(device)\n",
    "        # Extract image and text embeddings and normalize embeddings to unit length\n",
    "        img = F.normalize(model.get_image_features(pixel_values = pix), dim = -1)\n",
    "        txt = F.normalize(model.get_text_features(input_ids = ids, attention_mask = attn), dim = -1)\n",
    "        # Compute similarity matrix between texts and images within the same batch\n",
    "        S = model.logit_scale.exp().clamp_max(100.0) * (txt @ img.T)\n",
    "        # Get the maximum K value to optimize computation\n",
    "        maxk_req = max(topk)\n",
    "        maxk_eff = min(maxk_req, S.size(1))\n",
    "        # Use topk to get indices of most similar images\n",
    "        topk_idx = S.topk(k = maxk_eff, dim = 1).indices\n",
    "        # Ground truth labels, each text should match the image at the same index\n",
    "        labels = torch.arange(S.size(0), device = device)\n",
    "        # Calculate the number of hits for each K value\n",
    "        for k in topk:\n",
    "            kk = min(k, S.size(1))\n",
    "            hits[k] += (topk_idx[:, :kk] == labels.unsqueeze(1)).any(dim = 1).sum().item()\n",
    "        # Update total number of evaluated samples\n",
    "        total += S.size(0)\n",
    "    return {f\"Top@{k}\": hits[k] / max(total, 1) for k in topk}\n",
    "\n",
    "# Set dataloaders\n",
    "m2_train_loader = DataLoader(ArtEmisDataset(m2_train, processor),\n",
    "                             batch_size = 16,\n",
    "                             shuffle = True,\n",
    "                             num_workers = 0,\n",
    "                             persistent_workers = False)\n",
    "m2_val_loader = DataLoader(ArtEmisDataset(m2_val, processor),\n",
    "                           batch_size = 16,\n",
    "                           shuffle = False,\n",
    "                           num_workers = 0,\n",
    "                           persistent_workers = False)\n",
    "run_start = time.time()\n",
    "train_set_size = len(m2_train_loader.dataset)\n",
    "val_set_size = len(m2_val_loader.dataset)\n",
    "\n",
    "# Define the LoRA configuration parameters\n",
    "lora_config = LoraConfig(\n",
    "    r = 16,\n",
    "    lora_alpha = 16,\n",
    "    lora_dropout = 0.1,\n",
    "    bias = \"none\",\n",
    "    task_type = TaskType.FEATURE_EXTRACTION,\n",
    "    target_modules = [\"q_proj\",\"k_proj\",\"v_proj\",\"out_proj\",\"fc1\",\"fc2\"],\n",
    "    modules_to_save = [\"text_projection\",\"visual_projection\"]\n",
    ")\n",
    "\n",
    "# Apply LoRA configuration to the original CLIP model\n",
    "model = get_peft_model(model, lora_config).to(device)\n",
    "\n",
    "# Print trainable parameter information\n",
    "try:\n",
    "    model.print_trainable_parameters()\n",
    "except Exception:\n",
    "    pass\n",
    "\n",
    "# Make logit_scale trainable\n",
    "for n, p in model.named_parameters():\n",
    "    if \"logit_scale\" in n:\n",
    "        p.requires_grad = True\n",
    "\n",
    "total_params_after = sum(p.numel() for p in model.parameters())\n",
    "trainable_params_after = sum(p.numel() for p in model.parameters() if p.requires_grad)\n",
    "print(f\"Parameters size after LoRA: total = {total_params_after / 1e6:.2f}M, trainable = {trainable_params_after / 1e6:.2f}M\")\n",
    "\n",
    "# Create new lists to contain lora parameters and logit parameters\n",
    "lora_params = []\n",
    "logit_params = []\n",
    "\n",
    "# Separate parameters into two groups\n",
    "for n, p in model.named_parameters():\n",
    "    if not p.requires_grad: continue\n",
    "    (logit_params if \"logit_scale\" in n else lora_params).append(p)\n",
    "\n",
    "# Define AdamW optimizer with separate LR for LoRA and logit_scale\n",
    "optimizer = AdamW(\n",
    "    [{\"params\": lora_params,  \"lr\": 2e-5, \"weight_decay\": 0.0},\n",
    "     {\"params\": logit_params, \"lr\": 1e-5, \"weight_decay\": 0.0}],\n",
    "    betas = (0.9, 0.98), eps = 1e-8\n",
    ")\n",
    "\n",
    "# Define training schedule configuration\n",
    "num_epochs = 20 # Total training epochs\n",
    "accum_target = 256 # Target effective batch size\n",
    "train_bs = m2_train_loader.batch_size\n",
    "ACCUM = max(1, math.ceil(accum_target / train_bs)) # Gradient accumulation steps\n",
    "\n",
    "# Compute number of optimization steps per epoch and overall\n",
    "steps_per_epoch = len(m2_train_loader) # Number of batches per epoch\n",
    "optim_steps_per_epoch = math.ceil(steps_per_epoch / ACCUM) # Steps after accumulation\n",
    "total_steps  = num_epochs * optim_steps_per_epoch # Total optimizer steps\n",
    "\n",
    "# Set warmip steps\n",
    "warmup_steps = int(0.08 * total_steps)\n",
    "\n",
    "# Set cosine learning rate scheduler with warmup\n",
    "scheduler = get_cosine_schedule_with_warmup(optimizer, warmup_steps, total_steps)\n",
    "\n",
    "# Print outcomes\n",
    "print(f\"\\nACCUM = {ACCUM}; \\nsteps/epoch = {steps_per_epoch}; \\noptim_steps/epoch = {optim_steps_per_epoch}; \\ntotal_steps={total_steps}; \\nwarmup={warmup_steps}\")\n",
    "\n",
    "# Create empty lists to contain average losses and additional logging information\n",
    "avg_losses = []\n",
    "\n",
    "# Create empty lists for full-gallery evaluation\n",
    "full_top1_list = []\n",
    "full_top5_list = []\n",
    "full_top10_list = []\n",
    "\n",
    "# Create empty lists for in-batch evaluation\n",
    "inb_top1_list = []\n",
    "inb_top5_list = []\n",
    "inb_top10_list = []\n",
    "\n",
    "# Create an empty list to contain all metrics in each epoch\n",
    "epoch_logs = []\n",
    "\n",
    "# Define a directory to contain model\n",
    "out_dir = \"/Users/cyq/Desktop/Dissertation/Database/m2_lora_full\"\n",
    "ft_path = os.path.join(out_dir, \"checkpoint.pt\")\n",
    "best_ft_path = os.path.join(out_dir, \"best_checkpoint.pt\")\n",
    "os.makedirs(out_dir, exist_ok = True)\n",
    "csv_path = os.path.join(out_dir, \"epoch_metrics_m2.csv\") # Define the csv file saving path\n",
    "\n",
    "# Prepare for the early stopping\n",
    "patience = 2 # Number of consecutive epochs allowed without improvement\n",
    "wait = 0 # Number of consecutive epochs without improvement\n",
    "best_proxy = -1.0 # Highest recorded in-batch Top@1 accuracy\n",
    "best_full = -1.0 # Highest recorded full-gallery R@1 accuracy\n",
    "best_epoch = 0 # Epoch number when the best full-gallery R@1 was achieved\n",
    "min_delta = 1e-3 # Minimum improvement in the proxy metric required to reset the patience counter\n",
    "\n",
    "# Set the starting epoch\n",
    "start_epoch = 0\n",
    "\n",
    "# If the code running was disrupted or stopped, resume training from last checkpoint\n",
    "if os.path.exists(ft_path):\n",
    "    checkpoint = torch.load(ft_path, map_location = device)\n",
    "    model.load_state_dict(checkpoint[\"model_state_dict\"])\n",
    "    optimizer.load_state_dict(checkpoint[\"optimizer_state_dict\"])\n",
    "    if \"scheduler_state_dict\" in checkpoint:\n",
    "        scheduler.load_state_dict(checkpoint[\"scheduler_state_dict\"])\n",
    "    start_epoch = checkpoint[\"epoch\"] + 1\n",
    "    avg_losses = checkpoint.get(\"avg_losses\", [])\n",
    "    full_top1_list = checkpoint.get(\"full_top1_list\", [])\n",
    "    full_top5_list = checkpoint.get(\"full_top5_list\", [])\n",
    "    full_top10_list = checkpoint.get(\"full_top10_list\", [])\n",
    "    inb_top1_list = checkpoint.get(\"inb_top1_list\", [])\n",
    "    inb_top5_list = checkpoint.get(\"inb_top5_list\", [])\n",
    "    inb_top10_list = checkpoint.get(\"inb_top10_list\", [])\n",
    "    best_full = checkpoint.get(\"best_val_acc\", -1.0)\n",
    "    best_epoch = checkpoint.get(\"best_epoch\", 0)\n",
    "    print(f\"Loaded checkpoint from epoch {start_epoch}\")\n",
    "\n",
    "# Loop through to train the model\n",
    "for epoch in range(start_epoch, num_epochs):\n",
    "    # Set the model to the train mode\n",
    "    model.train()\n",
    "    print(f\"\\nEpoch {epoch+1} / {num_epochs}\")\n",
    "    epoch_t0 = time.time()\n",
    "    full_eval_time = 0.0\n",
    "    # Total loss start with 0\n",
    "    total_loss = 0\n",
    "    optimizer.zero_grad(set_to_none = True)\n",
    "    # Iterate over the training data in batches\n",
    "    for step, batch in enumerate(tqdm(m2_train_loader), start = 1):\n",
    "        # Move input data to device\n",
    "        ids  = batch[\"input_ids\"].to(device)\n",
    "        attn = batch[\"attention_mask\"].to(device)\n",
    "        pix  = batch[\"pixel_values\"].to(device)\n",
    "        # Use automatic mixed precision for faster training and memory efficiency\n",
    "        with torch.autocast(device_type = device.type, dtype = amp_dtype, enabled = use_amp):\n",
    "            # Extract and normalize image and text features from CLIP vision encoder\n",
    "            img = F.normalize(model.get_image_features(pixel_values = pix), dim = -1)\n",
    "            txt = F.normalize(model.get_text_features(input_ids = ids, attention_mask = attn), dim = -1)\n",
    "            # Get the learned temperature parameter and clamp to prevent overflow\n",
    "            logit_scale = model.logit_scale.exp().clamp_max(100.0)\n",
    "            # Compute similarity matrix between all text-image pairs in the batch\n",
    "            S = logit_scale * (txt @ img.T)\n",
    "            # Create ground truth labels\n",
    "            targets = torch.arange(S.size(0), device = S.device)\n",
    "            # Compute symmetric contrastive loss with label smoothing\n",
    "            loss = (F.cross_entropy(S, targets, label_smoothing = 0.05) +\n",
    "                    F.cross_entropy(S.T, targets, label_smoothing = 0.05)) / 2\n",
    "        # Scale loss by accumulation steps for gradient accumulation\n",
    "        (loss / ACCUM).backward()\n",
    "        total_loss += loss.item()\n",
    "        # Perform optimizer step only every ACCUM steps\n",
    "        if step % ACCUM == 0:\n",
    "            torch.nn.utils.clip_grad_norm_(model.parameters(), max_norm = 1.0)\n",
    "            optimizer.step()\n",
    "            optimizer.zero_grad(set_to_none = True)\n",
    "            scheduler.step()\n",
    "        # Print stats for every 100 steps\n",
    "        if (step % 100) == 0 or (step == len(m2_train_loader)):\n",
    "            lr_now = scheduler.get_last_lr()[0]\n",
    "            print(f\"step {step} / {len(m2_train_loader)}, loss: {loss.item():.4f}, learning rate: {lr_now:.2e}\")\n",
    "    # Handle any remaining gradients if the last batch doesn't align with ACCUM\n",
    "    if (step % ACCUM) != 0:\n",
    "        torch.nn.utils.clip_grad_norm_(model.parameters(), max_norm = 1.0)\n",
    "        optimizer.step()\n",
    "        optimizer.zero_grad(set_to_none = True)\n",
    "        scheduler.step()\n",
    "    # Calculate average loss and add it into list\n",
    "    avg_loss = total_loss / len(m2_train_loader)\n",
    "    avg_losses.append(avg_loss)\n",
    "    # Run in-batch evaluation function for the early stopping\n",
    "    inb = evaluate_in_batch(model, m2_val_loader, device, topk = (1, 5, 10))\n",
    "    # Use in-batch Top@1 as the proxy metric\n",
    "    proxy = inb[\"Top@1\"]\n",
    "    # Record outcomes\n",
    "    inb_top1_list.append(inb[\"Top@1\"])\n",
    "    inb_top5_list.append(inb[\"Top@5\"])\n",
    "    inb_top10_list.append(inb[\"Top@10\"])\n",
    "    # Check if the proxy metric shows improvement\n",
    "    improved_proxy = proxy > best_proxy + min_delta\n",
    "    # Decide whether to run the full-gallery evaluation function\n",
    "    do_full = improved_proxy or ((epoch % EVAL_EVERY) == 0) or ((epoch + 1) == num_epochs)\n",
    "    # If run the full-gallery evaluation function\n",
    "    if do_full:\n",
    "        t_full0 = time.time()\n",
    "        rec = evaluate_full_gallery(model, m2_val_loader, device, topk = (1, 5, 10), chunk = 128)\n",
    "        full_eval_time = time.time() - t_full0\n",
    "        # Extract full-gallery recall metrics and add them into lists\n",
    "        full_r1 = rec[\"R@1\"]\n",
    "        full_r5 = rec[\"R@5\"]\n",
    "        full_r10 = rec[\"R@10\"]\n",
    "        full_top1_list.append(full_r1)\n",
    "        full_top5_list.append(full_r5)\n",
    "        full_top10_list.append(full_r10)\n",
    "        print(f\"Full-gallery R@1: {full_r1:.4f}, R@5: {full_r5:.4f}, R@10: {full_r10:.4f}. \\n\"\n",
    "              f\"Median rank: {rec['median_rank']:.0f}, Mean rank: {rec['mean_rank']:.1f}\")\n",
    "        # Use full-gallery R@1 as the criterion for determining the best model\n",
    "        val_acc_for_best = full_r1\n",
    "    else:\n",
    "        # Skip full-gallery evaluation\n",
    "        val_acc_for_best = float(\"nan\")\n",
    "        full_eval_time = float('nan')\n",
    "        print(f\"Skip full-gallery. In-batch Top@1: {inb['Top@1']:.4f}, Top@5: {inb['Top@5']:.4f}, Top@10: {inb['Top@10']:.4f}\")\n",
    "    # Get the current learning rate from the scheduler\n",
    "    cur_lr = scheduler.get_last_lr()[0]\n",
    "    print(f\"Epoch {epoch + 1}: avg_loss = {avg_loss:.4f}, in-batch Top@1 = {inb['Top@1']:.4f}, learning rate = {cur_lr:.2e}\")\n",
    "    epoch_time = time.time() - epoch_t0\n",
    "    throughput = train_set_size / max(epoch_time, 1e-9)\n",
    "    cur_ckpt_mb = os.path.getsize(ft_path)/1e6 if os.path.exists(ft_path) else float('nan')\n",
    "    best_ckpt_mb = os.path.getsize(best_ft_path)/1e6 if os.path.exists(best_ft_path) else float('nan')\n",
    "    # Record epoch logs\n",
    "    full_r1 = rec[\"R@1\"] if rec is not None else np.nan\n",
    "    full_r5 = rec[\"R@5\"] if rec is not None else np.nan\n",
    "    full_r10 = rec[\"R@10\"] if rec is not None else np.nan\n",
    "    full_med = rec[\"median_rank\"] if rec is not None else np.nan\n",
    "    full_mean = rec[\"mean_rank\"] if rec is not None else np.nan\n",
    "    row = {\n",
    "        \"epoch\": epoch + 1,\n",
    "        \"avg_loss\": avg_loss,\n",
    "        \"lr\": cur_lr,\n",
    "        \"inb_top1\": inb[\"Top@1\"],\n",
    "        \"inb_top5\": inb[\"Top@5\"],\n",
    "        \"inb_top10\": inb[\"Top@10\"],\n",
    "        \"full_R@1\": full_r1,\n",
    "        \"full_R@5\": full_r5,\n",
    "        \"full_R@10\": full_r10,\n",
    "        \"full_median_rank\": full_med,\n",
    "        \"full_mean_rank\": full_mean,\n",
    "        \"did_full_gallery\": do_full,\n",
    "        \"epoch_time_sec\": epoch_time,\n",
    "        \"throughput_samples_per_sec\": throughput,\n",
    "        \"full_eval_time_sec\": full_eval_time,\n",
    "        \"trainable_params_M\": trainable_params_after / 1e6,\n",
    "        \"total_params_M\": total_params_after / 1e6,\n",
    "        \"ckpt_current_MB\": cur_ckpt_mb,\n",
    "        \"ckpt_best_MB\": best_ckpt_mb\n",
    "    }\n",
    "    epoch_logs.append(row)\n",
    "    pd.DataFrame(epoch_logs).to_csv(csv_path, index = False)\n",
    "    # Save the latest checkpoint\n",
    "    torch.save({\n",
    "        \"epoch\": epoch,\n",
    "        \"best_epoch\": best_epoch,\n",
    "        \"model_state_dict\": model.state_dict(),\n",
    "        \"optimizer_state_dict\": optimizer.state_dict(),\n",
    "        \"scheduler_state_dict\": scheduler.state_dict(),\n",
    "        \"avg_losses\": avg_losses,\n",
    "        \"best_val_acc\": best_full,\n",
    "        \"full_top1_list\": full_top1_list,\n",
    "        \"full_top5_list\": full_top5_list,\n",
    "        \"full_top10_list\": full_top10_list,\n",
    "        \"inb_top1_list\": inb_top1_list,\n",
    "        \"inb_top5_list\": inb_top5_list,\n",
    "        \"inb_top10_list\": inb_top10_list\n",
    "    }, ft_path)\n",
    "    # Decide whether to do the early stopping\n",
    "    if improved_proxy:\n",
    "        best_proxy = proxy # If the proxy improves, update it\n",
    "        wait = 0\n",
    "    else: # If not, increase the wait counter\n",
    "        wait += 1\n",
    "        print(f\"Early stop counter: {wait} / {patience}\")\n",
    "    # Update the best model only when full-gallery metrics improves\n",
    "    if not np.isnan(val_acc_for_best):\n",
    "        if val_acc_for_best > best_full + min_delta:\n",
    "            # Update best performance records\n",
    "            best_full = val_acc_for_best\n",
    "            best_epoch = epoch + 1\n",
    "            torch.save({\n",
    "                \"epoch\": epoch,\n",
    "                \"best_epoch\": best_epoch,\n",
    "                \"model_state_dict\": model.state_dict(),\n",
    "                \"optimizer_state_dict\": optimizer.state_dict(),\n",
    "                \"scheduler_state_dict\": scheduler.state_dict(),\n",
    "                \"avg_losses\": avg_losses,\n",
    "                \"best_val_acc\": best_full,\n",
    "                \"full_top1_list\": full_top1_list,\n",
    "                \"full_top5_list\": full_top5_list,\n",
    "                \"full_top10_list\": full_top10_list,\n",
    "                \"inb_top1_list\": inb_top1_list,\n",
    "                \"inb_top5_list\": inb_top5_list,\n",
    "                \"inb_top10_list\": inb_top10_list\n",
    "            }, best_ft_path)\n",
    "            print(f\"Saved best checkpoint: epoch {epoch + 1}: Full R@1 = {best_full:.4f}\")\n",
    "    # If the wait number bigger than patience, stop training early and print the best recorded scores\n",
    "    if wait >= patience:\n",
    "        print(f\"Early stopping triggered at epoch {epoch + 1}. \"\n",
    "              f\"Best full R@1 = {best_full:.4f}, best in-batch Top@1 = {best_proxy:.4f}\")\n",
    "        break\n",
    "        \n",
    "total_time = time.time() - run_start\n",
    "print(f\"\\nTotal training wall time: {total_time / 60:.1f} minutes.\")"
   ]
  },
  {
   "cell_type": "code",
   "execution_count": 2,
   "id": "4730f3ad-65cf-4fd8-9f3b-cabe3a7a2758",
   "metadata": {},
   "outputs": [
    {
     "data": {
      "text/html": [
       "<div>\n",
       "<style scoped>\n",
       "    .dataframe tbody tr th:only-of-type {\n",
       "        vertical-align: middle;\n",
       "    }\n",
       "\n",
       "    .dataframe tbody tr th {\n",
       "        vertical-align: top;\n",
       "    }\n",
       "\n",
       "    .dataframe thead th {\n",
       "        text-align: right;\n",
       "    }\n",
       "</style>\n",
       "<table border=\"1\" class=\"dataframe\">\n",
       "  <thead>\n",
       "    <tr style=\"text-align: right;\">\n",
       "      <th></th>\n",
       "      <th>epoch</th>\n",
       "      <th>avg_loss</th>\n",
       "      <th>lr</th>\n",
       "      <th>inb_top1</th>\n",
       "      <th>inb_top5</th>\n",
       "      <th>inb_top10</th>\n",
       "      <th>full_R@1</th>\n",
       "      <th>full_R@5</th>\n",
       "      <th>full_R@10</th>\n",
       "      <th>full_median_rank</th>\n",
       "      <th>full_mean_rank</th>\n",
       "      <th>did_full_gallery</th>\n",
       "      <th>epoch_time_sec</th>\n",
       "      <th>throughput_samples_per_sec</th>\n",
       "      <th>full_eval_time_sec</th>\n",
       "      <th>trainable_params_M</th>\n",
       "      <th>total_params_M</th>\n",
       "      <th>ckpt_current_MB</th>\n",
       "      <th>ckpt_best_MB</th>\n",
       "    </tr>\n",
       "  </thead>\n",
       "  <tbody>\n",
       "    <tr>\n",
       "      <th>0</th>\n",
       "      <td>1</td>\n",
       "      <td>10.675005</td>\n",
       "      <td>0.000013</td>\n",
       "      <td>0.096847</td>\n",
       "      <td>0.455706</td>\n",
       "      <td>0.769520</td>\n",
       "      <td>0.003754</td>\n",
       "      <td>0.015766</td>\n",
       "      <td>0.036036</td>\n",
       "      <td>306</td>\n",
       "      <td>408.977478</td>\n",
       "      <td>True</td>\n",
       "      <td>673.220543</td>\n",
       "      <td>16.168550</td>\n",
       "      <td>26.054253</td>\n",
       "      <td>5.079041</td>\n",
       "      <td>156.356353</td>\n",
       "      <td>NaN</td>\n",
       "      <td>NaN</td>\n",
       "    </tr>\n",
       "    <tr>\n",
       "      <th>1</th>\n",
       "      <td>2</td>\n",
       "      <td>7.875636</td>\n",
       "      <td>0.000020</td>\n",
       "      <td>0.103604</td>\n",
       "      <td>0.482733</td>\n",
       "      <td>0.777778</td>\n",
       "      <td>0.004505</td>\n",
       "      <td>0.021021</td>\n",
       "      <td>0.048048</td>\n",
       "      <td>281</td>\n",
       "      <td>383.866364</td>\n",
       "      <td>True</td>\n",
       "      <td>678.493338</td>\n",
       "      <td>16.042899</td>\n",
       "      <td>26.897843</td>\n",
       "      <td>5.079041</td>\n",
       "      <td>156.356353</td>\n",
       "      <td>666.711963</td>\n",
       "      <td>666.719798</td>\n",
       "    </tr>\n",
       "    <tr>\n",
       "      <th>2</th>\n",
       "      <td>3</td>\n",
       "      <td>4.491696</td>\n",
       "      <td>0.000020</td>\n",
       "      <td>0.110360</td>\n",
       "      <td>0.484985</td>\n",
       "      <td>0.781532</td>\n",
       "      <td>0.005255</td>\n",
       "      <td>0.027027</td>\n",
       "      <td>0.050300</td>\n",
       "      <td>258</td>\n",
       "      <td>369.596100</td>\n",
       "      <td>True</td>\n",
       "      <td>696.916572</td>\n",
       "      <td>15.618799</td>\n",
       "      <td>26.180732</td>\n",
       "      <td>5.079041</td>\n",
       "      <td>156.356353</td>\n",
       "      <td>666.712027</td>\n",
       "      <td>666.719798</td>\n",
       "    </tr>\n",
       "    <tr>\n",
       "      <th>3</th>\n",
       "      <td>4</td>\n",
       "      <td>2.678213</td>\n",
       "      <td>0.000019</td>\n",
       "      <td>0.114865</td>\n",
       "      <td>0.499249</td>\n",
       "      <td>0.795796</td>\n",
       "      <td>0.006006</td>\n",
       "      <td>0.024024</td>\n",
       "      <td>0.049550</td>\n",
       "      <td>240</td>\n",
       "      <td>352.383636</td>\n",
       "      <td>True</td>\n",
       "      <td>675.518754</td>\n",
       "      <td>16.113542</td>\n",
       "      <td>26.409439</td>\n",
       "      <td>5.079041</td>\n",
       "      <td>156.356353</td>\n",
       "      <td>666.712091</td>\n",
       "      <td>666.719926</td>\n",
       "    </tr>\n",
       "    <tr>\n",
       "      <th>4</th>\n",
       "      <td>5</td>\n",
       "      <td>2.393408</td>\n",
       "      <td>0.000018</td>\n",
       "      <td>0.118619</td>\n",
       "      <td>0.508258</td>\n",
       "      <td>0.802553</td>\n",
       "      <td>0.003003</td>\n",
       "      <td>0.019520</td>\n",
       "      <td>0.049550</td>\n",
       "      <td>224</td>\n",
       "      <td>335.243988</td>\n",
       "      <td>True</td>\n",
       "      <td>674.858467</td>\n",
       "      <td>16.129308</td>\n",
       "      <td>25.942378</td>\n",
       "      <td>5.079041</td>\n",
       "      <td>156.356353</td>\n",
       "      <td>666.712155</td>\n",
       "      <td>666.719926</td>\n",
       "    </tr>\n",
       "    <tr>\n",
       "      <th>5</th>\n",
       "      <td>6</td>\n",
       "      <td>2.342617</td>\n",
       "      <td>0.000017</td>\n",
       "      <td>0.119369</td>\n",
       "      <td>0.512012</td>\n",
       "      <td>0.800300</td>\n",
       "      <td>0.003003</td>\n",
       "      <td>0.019520</td>\n",
       "      <td>0.049550</td>\n",
       "      <td>224</td>\n",
       "      <td>335.243988</td>\n",
       "      <td>False</td>\n",
       "      <td>652.475341</td>\n",
       "      <td>16.682623</td>\n",
       "      <td>NaN</td>\n",
       "      <td>5.079041</td>\n",
       "      <td>156.356353</td>\n",
       "      <td>666.712219</td>\n",
       "      <td>666.719926</td>\n",
       "    </tr>\n",
       "    <tr>\n",
       "      <th>6</th>\n",
       "      <td>7</td>\n",
       "      <td>2.312310</td>\n",
       "      <td>0.000016</td>\n",
       "      <td>0.120871</td>\n",
       "      <td>0.512763</td>\n",
       "      <td>0.802553</td>\n",
       "      <td>0.004505</td>\n",
       "      <td>0.023273</td>\n",
       "      <td>0.053303</td>\n",
       "      <td>209</td>\n",
       "      <td>320.123871</td>\n",
       "      <td>True</td>\n",
       "      <td>676.536752</td>\n",
       "      <td>16.089296</td>\n",
       "      <td>26.378079</td>\n",
       "      <td>5.079041</td>\n",
       "      <td>156.356353</td>\n",
       "      <td>666.712283</td>\n",
       "      <td>666.719926</td>\n",
       "    </tr>\n",
       "    <tr>\n",
       "      <th>7</th>\n",
       "      <td>8</td>\n",
       "      <td>2.284394</td>\n",
       "      <td>0.000015</td>\n",
       "      <td>0.121622</td>\n",
       "      <td>0.520270</td>\n",
       "      <td>0.804805</td>\n",
       "      <td>0.004505</td>\n",
       "      <td>0.023273</td>\n",
       "      <td>0.053303</td>\n",
       "      <td>209</td>\n",
       "      <td>320.123871</td>\n",
       "      <td>False</td>\n",
       "      <td>650.604359</td>\n",
       "      <td>16.730598</td>\n",
       "      <td>NaN</td>\n",
       "      <td>5.079041</td>\n",
       "      <td>156.356353</td>\n",
       "      <td>666.712347</td>\n",
       "      <td>666.719926</td>\n",
       "    </tr>\n",
       "    <tr>\n",
       "      <th>8</th>\n",
       "      <td>9</td>\n",
       "      <td>2.261830</td>\n",
       "      <td>0.000013</td>\n",
       "      <td>0.120120</td>\n",
       "      <td>0.515766</td>\n",
       "      <td>0.807808</td>\n",
       "      <td>0.006006</td>\n",
       "      <td>0.029279</td>\n",
       "      <td>0.055556</td>\n",
       "      <td>200</td>\n",
       "      <td>311.347595</td>\n",
       "      <td>True</td>\n",
       "      <td>681.125973</td>\n",
       "      <td>15.980891</td>\n",
       "      <td>26.538776</td>\n",
       "      <td>5.079041</td>\n",
       "      <td>156.356353</td>\n",
       "      <td>666.712347</td>\n",
       "      <td>666.719926</td>\n",
       "    </tr>\n",
       "  </tbody>\n",
       "</table>\n",
       "</div>"
      ],
      "text/plain": [
       "   epoch   avg_loss        lr  inb_top1  inb_top5  inb_top10  full_R@1  \\\n",
       "0      1  10.675005  0.000013  0.096847  0.455706   0.769520  0.003754   \n",
       "1      2   7.875636  0.000020  0.103604  0.482733   0.777778  0.004505   \n",
       "2      3   4.491696  0.000020  0.110360  0.484985   0.781532  0.005255   \n",
       "3      4   2.678213  0.000019  0.114865  0.499249   0.795796  0.006006   \n",
       "4      5   2.393408  0.000018  0.118619  0.508258   0.802553  0.003003   \n",
       "5      6   2.342617  0.000017  0.119369  0.512012   0.800300  0.003003   \n",
       "6      7   2.312310  0.000016  0.120871  0.512763   0.802553  0.004505   \n",
       "7      8   2.284394  0.000015  0.121622  0.520270   0.804805  0.004505   \n",
       "8      9   2.261830  0.000013  0.120120  0.515766   0.807808  0.006006   \n",
       "\n",
       "   full_R@5  full_R@10  full_median_rank  full_mean_rank  did_full_gallery  \\\n",
       "0  0.015766   0.036036               306      408.977478              True   \n",
       "1  0.021021   0.048048               281      383.866364              True   \n",
       "2  0.027027   0.050300               258      369.596100              True   \n",
       "3  0.024024   0.049550               240      352.383636              True   \n",
       "4  0.019520   0.049550               224      335.243988              True   \n",
       "5  0.019520   0.049550               224      335.243988             False   \n",
       "6  0.023273   0.053303               209      320.123871              True   \n",
       "7  0.023273   0.053303               209      320.123871             False   \n",
       "8  0.029279   0.055556               200      311.347595              True   \n",
       "\n",
       "   epoch_time_sec  throughput_samples_per_sec  full_eval_time_sec  \\\n",
       "0      673.220543                   16.168550           26.054253   \n",
       "1      678.493338                   16.042899           26.897843   \n",
       "2      696.916572                   15.618799           26.180732   \n",
       "3      675.518754                   16.113542           26.409439   \n",
       "4      674.858467                   16.129308           25.942378   \n",
       "5      652.475341                   16.682623                 NaN   \n",
       "6      676.536752                   16.089296           26.378079   \n",
       "7      650.604359                   16.730598                 NaN   \n",
       "8      681.125973                   15.980891           26.538776   \n",
       "\n",
       "   trainable_params_M  total_params_M  ckpt_current_MB  ckpt_best_MB  \n",
       "0            5.079041      156.356353              NaN           NaN  \n",
       "1            5.079041      156.356353       666.711963    666.719798  \n",
       "2            5.079041      156.356353       666.712027    666.719798  \n",
       "3            5.079041      156.356353       666.712091    666.719926  \n",
       "4            5.079041      156.356353       666.712155    666.719926  \n",
       "5            5.079041      156.356353       666.712219    666.719926  \n",
       "6            5.079041      156.356353       666.712283    666.719926  \n",
       "7            5.079041      156.356353       666.712347    666.719926  \n",
       "8            5.079041      156.356353       666.712347    666.719926  "
      ]
     },
     "metadata": {},
     "output_type": "display_data"
    },
    {
     "name": "stdout",
     "output_type": "stream",
     "text": [
      "\n",
      "Model 2 Training Summary:\n",
      "model_tag: M2_LoRA_full\n",
      "device: mps\n",
      "train_rows: 10885\n",
      "val_rows: 1332\n",
      "batch_size: 16\n",
      "epochs_run: 9\n",
      "best_epoch_full_R1: 3\n",
      "best_full_R1: 0.006006006006006006\n",
      "total_time_min: 101.23013416528701\n",
      "avg_epoch_time_sec: 673.3055666022831\n",
      "avg_throughput_sps: 16.172945116103303\n",
      "trainable_params_M: 5.079041\n",
      "total_params_M: 156.356353\n"
     ]
    },
    {
     "data": {
      "image/png": "[encoded data removed]",
      "text/plain": [
       "<Figure size 600x400 with 1 Axes>"
      ]
     },
     "metadata": {},
     "output_type": "display_data"
    },
    {
     "data": {
      "image/png": "[encoded data removed]",
      "text/plain": [
       "<Figure size 600x400 with 1 Axes>"
      ]
     },
     "metadata": {},
     "output_type": "display_data"
    },
    {
     "data": {
      "image/png": "[encoded data removed]",
      "text/plain": [
       "<Figure size 800x400 with 1 Axes>"
      ]
     },
     "metadata": {},
     "output_type": "display_data"
    },
    {
     "name": "stdout",
     "output_type": "stream",
     "text": [
      "\n",
      "Best epoch: 3, Best full R@1: 0.0053\n"
     ]
    }
   ],
   "source": [
    "# Save results\n",
    "epoch_m2_full = pd.DataFrame(epoch_logs)\n",
    "display(epoch_m2_full)\n",
    "csv_path = os.path.join(out_dir, \"epoch_metrics_m2_full.csv\")\n",
    "epoch_m2_full.to_csv(csv_path, index = False)\n",
    "\n",
    "# Training summary\n",
    "best_full_r1 = (max(full_top1_list) if len(full_top1_list) else float('nan'))\n",
    "summary_row = {\n",
    "    \"model_tag\": \"M2_LoRA_full\",\n",
    "    \"device\": device,\n",
    "    \"train_rows\": train_set_size,\n",
    "    \"val_rows\": val_set_size,\n",
    "    \"batch_size\": 16,\n",
    "    \"epochs_run\": epoch + 1,\n",
    "    \"best_epoch_full_R1\": best_epoch,\n",
    "    \"best_full_R1\": best_full_r1,\n",
    "    \"total_time_min\": total_time / 60.0,\n",
    "    \"avg_epoch_time_sec\": (np.mean([r[\"epoch_time_sec\"] for r in epoch_logs]) if epoch_logs else float('nan')),\n",
    "    \"avg_throughput_sps\": (np.mean([r[\"throughput_samples_per_sec\"] for r in epoch_logs]) if epoch_logs else float('nan')),\n",
    "    \"trainable_params_M\": trainable_params_after / 1e6,\n",
    "    \"total_params_M\": total_params_after / 1e6,\n",
    "}\n",
    "\n",
    "# Print the training summary\n",
    "print(\"\\nModel 2 Training Summary:\")\n",
    "for k, v in summary_row.items():\n",
    "    print(f\"{k}: {v}\")\n",
    "\n",
    "# Visualise the LoRA fine-tuning average loss\n",
    "plt.figure(figsize = (6, 4))\n",
    "plt.plot(epoch_m2_full[\"epoch\"], epoch_m2_full[\"avg_loss\"], marker = \"o\", linestyle = \"-\")\n",
    "plt.title(\"M2 Full LoRA Fine-tuning Average Loss on SubCorpus\")\n",
    "plt.xlabel(\"Epoch\")\n",
    "plt.ylabel(\"Average Loss\")\n",
    "plt.grid(True)\n",
    "loss_png = os.path.join(out_dir, \"m2_full_training_loss.png\")\n",
    "plt.savefig(loss_png, dpi = 200)\n",
    "plt.show()\n",
    "plt.close()\n",
    "\n",
    "# Visualise the in-batch Top@1 curve\n",
    "plt.figure(figsize = (6, 4))\n",
    "plt.plot(epoch_m2_full[\"epoch\"], epoch_m2_full[\"inb_top1\"], marker = \"^\", linestyle = \"-\")\n",
    "plt.title(\"M2 Full LoRA Fine-tuning In-batch Top@1 Accuracy\")\n",
    "plt.xlabel(\"Epoch\")\n",
    "plt.ylabel(\"Accuracy\")\n",
    "plt.grid(True)\n",
    "acc_png = os.path.join(out_dir, \"m2_full_inbatch_accuracy.png\")\n",
    "plt.savefig(acc_png, dpi = 200)\n",
    "plt.show()\n",
    "plt.close()\n",
    "\n",
    "# Visualise epoch time trend\n",
    "plt.figure(figsize = (8,4))\n",
    "plt.plot(epoch_m2_full[\"epoch\"], epoch_m2_full[\"epoch_time_sec\"], marker = \"o\", linestyle = \"-\", label = \"Epoch time\")\n",
    "plt.xlabel(\"Epoch\")\n",
    "plt.ylabel(\"Epoch time (sec)\")\n",
    "plt.title(\"M2: Epoch time trend\")\n",
    "plt.grid(True, alpha = 0.3)\n",
    "plt.legend()\n",
    "plt.tight_layout()\n",
    "plt.savefig(os.path.join(out_dir, \"epoch_time_trend_m2.png\"), dpi = 150)\n",
    "plt.show()\n",
    "plt.close()\n",
    "\n",
    "# Save the final model\n",
    "final_dir = os.path.join(out_dir, \"final_model\")\n",
    "os.makedirs(final_dir, exist_ok = True)\n",
    "model.save_pretrained(final_dir)\n",
    "processor.save_pretrained(final_dir)\n",
    "print(f\"\\nBest epoch: {best_epoch}, Best full R@1: {best_full:.4f}\")"
   ]
  }
 ],
 "metadata": {
  "kernelspec": {
   "display_name": "Python 3 (ipykernel)",
   "language": "python",
   "name": "python3"
  },
  "language_info": {
   "codemirror_mode": {
    "name": "ipython",
    "version": 3
   },
   "file_extension": ".py",
   "mimetype": "text/x-python",
   "name": "python",
   "nbconvert_exporter": "python",
   "pygments_lexer": "ipython3",
   "version": "3.12.2"
  }
 },
 "nbformat": 4,
 "nbformat_minor": 5
}
